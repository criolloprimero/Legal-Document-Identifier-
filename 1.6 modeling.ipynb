{
 "cells": [
  {
   "cell_type": "code",
   "execution_count": 1,
   "metadata": {},
   "outputs": [
    {
     "name": "stderr",
     "output_type": "stream",
     "text": [
      "[nltk_data] Downloading package stopwords to\n",
      "[nltk_data]     C:\\Users\\amird\\AppData\\Roaming\\nltk_data...\n",
      "[nltk_data]   Package stopwords is already up-to-date!\n",
      "[nltk_data] Downloading package wordnet to\n",
      "[nltk_data]     C:\\Users\\amird\\AppData\\Roaming\\nltk_data...\n",
      "[nltk_data]   Package wordnet is already up-to-date!\n"
     ]
    }
   ],
   "source": [
    "import  json\n",
    "import requests\n",
    "import pandas as pd\n",
    "import numpy as np\n",
    "import os,shutil\n",
    "\n",
    "import nltk\n",
    "nltk.download('stopwords')\n",
    "from nltk.corpus import stopwords\n",
    "from nltk.stem import WordNetLemmatizer \n",
    "nltk.download('wordnet')\n",
    "import string\n",
    "\n",
    "import matplotlib.pyplot as plt\n",
    "import seaborn as sns\n",
    "from sklearn.neighbors import KNeighborsClassifier\n",
    "from sklearn import tree\n",
    "from sklearn.linear_model import LogisticRegression\n",
    "from sklearn.model_selection import train_test_split\n",
    "from sklearn.tree import DecisionTreeClassifier\n",
    "from sklearn.ensemble import RandomForestClassifier\n",
    "from sklearn.ensemble import BaggingClassifier, RandomForestClassifier\n",
    "from sklearn.ensemble import AdaBoostClassifier, GradientBoostingClassifier\n",
    "from xgboost import XGBClassifier\n",
    "from sklearn.naive_bayes import MultinomialNB\n",
    "from sklearn.decomposition import PCA\n",
    "from sklearn import svm\n",
    "from sklearn import metrics\n",
    "from sklearn.metrics import plot_confusion_matrix, classification_report\n",
    "from xgboost import XGBClassifier\n",
    "from sklearn.neighbors import KNeighborsClassifier\n",
    "from sklearn.linear_model import LogisticRegression\n",
    "from sklearn.preprocessing import StandardScaler"
   ]
  },
  {
   "cell_type": "markdown",
   "metadata": {},
   "source": [
    "## code to break out law type in map"
   ]
  },
  {
   "cell_type": "code",
   "execution_count": 2,
   "metadata": {},
   "outputs": [
    {
     "data": {
      "text/plain": [
       "\"1 -> Administrative Law\\n2 -> Admiralty\\n3 -> Agriculture\\n4 -> Antitrust &amp; Trade Regulation\\n5 -> Attorney's Fees\\n6 -> Banking Law\\n7 -> Bankruptcy Law\\n8 -> Civil Procedure\\n9 -> Civil Rights\\n10 -> Class Actions\\n11 -> Commercial Law\\n12 -> Communications Law\\n13 -> Constitutional Law\\n14 -> Construction\\n15 -> Consumer Protection Law\\n16 -> Contracts\\n17 -> Corp. Governance\\n18 -> Corporation &amp; Enterprise Law\\n19 -> Criminal Law &amp; Procedure\\n20 -> Habeas Corpus\\n21 -> Sentencing\\n22 -> Cyberspace Law\\n23 -> Debt Collection\\n24 -> Dispute Resolution &amp; Arbitration\\n25 -> Drugs &amp; Biotech\\n31 -> ERISA\\n26 -> Education Law\\n27 -> Elder Law\\n28 -> Elections\\n29 -> Entertainment Law\\n30 -> Environmental Law\\n32 -> Ethics &amp; Disciplinary Code\\n33 -> Ethics &amp; Professional Responsibility\\n34 -> Evidence\\n35 -> False Advertising\\n36 -> Family Law\\n37 -> Gaming Law\\n38 -> Government Benefits\\n39 -> Government Contracts\\n40 -> Government Law\\n41 -> Health Law\\n42 -> Immigration Law\\n43 -> Indian Law\\n44 -> Injury &amp; Tort Law\\n45 -> Insurance Law\\n47 -> Copyright\\n49 -> Trade Dress\\n50 -> Trade Secrets\\n51 -> Trademark\\n52 -> International Law\\n53 -> International Trade\\n54 -> Judgment Enforcement\\n55 -> Judges &amp; Judiciary\\n56 -> Juvenile Law\\n57 -> Labor &amp; Employment Law\\n58 -> Landlord Tenant Law\\n59 -> Legal Malpractice\\n60 -> M&amp;A\\n61 -> Media Law\\n62 -> Military Law\\n63 -> Oil and Gas Law\\n64 -> Probate, Trusts &amp; Estates\\n65 -> Product Liability\\n66 -> Professional Malpractice\\n67 -> Property Law &amp; Real Estate\\n68 -> Public Utilities\\n69 -> Remedies\\n70 -> Sanctions\\n71 -> Securities Law\\n72 -> Sports Law\\n73 -> Tax Law\\n74 -> Tax-exempt Organizations\\n75 -> Transportation\\n76 -> Water Law\\n77 -> White Collar Crime\\n78 -> Workers' Compensation\""
      ]
     },
     "execution_count": 2,
     "metadata": {},
     "output_type": "execute_result"
    }
   ],
   "source": [
    "f = open(\"map.txt\", \"r\")\n",
    "content = f.read()\n",
    "content"
   ]
  },
  {
   "cell_type": "code",
   "execution_count": 3,
   "metadata": {
    "scrolled": true
   },
   "outputs": [],
   "source": [
    "lawcat=content.splitlines()\n",
    "f.close()"
   ]
  },
  {
   "cell_type": "code",
   "execution_count": 4,
   "metadata": {},
   "outputs": [],
   "source": [
    "catagories=[]\n",
    "for itemset in lawcat:\n",
    "    meepset=itemset.partition('->')\n",
    "    catagories.append(meepset)"
   ]
  },
  {
   "cell_type": "code",
   "execution_count": 5,
   "metadata": {},
   "outputs": [],
   "source": [
    "data=pd.DataFrame(columns=['case_text','case_type'])"
   ]
  },
  {
   "cell_type": "code",
   "execution_count": 6,
   "metadata": {},
   "outputs": [],
   "source": [
    "main_directory=os.getcwd()\n",
    "\n",
    "pathToText='raw_cases\\\\raw_cases'"
   ]
  },
  {
   "cell_type": "code",
   "execution_count": 7,
   "metadata": {},
   "outputs": [],
   "source": [
    "path=os.path.join(main_directory,pathToText)"
   ]
  },
  {
   "cell_type": "code",
   "execution_count": 8,
   "metadata": {},
   "outputs": [],
   "source": [
    "masterpath=os.listdir(path)"
   ]
  },
  {
   "cell_type": "code",
   "execution_count": 9,
   "metadata": {},
   "outputs": [],
   "source": [
    "counterfordocuments=1\n",
    "\n",
    "for folder in masterpath[:-1]:\n",
    "    subfile=os.listdir(os.path.join(path,folder))\n",
    "    for rawtext in subfile:\n",
    "        with open(os.path.join(path,folder)+'/' +rawtext,'r',encoding='utf-8') as f:\n",
    "            content=f.read()\n",
    "            vardict=pd.DataFrame({'case_text':content,'case_type':folder},index=[counterfordocuments])\n",
    "            data=data.append(vardict)\n",
    "            counterfordocuments+= 1"
   ]
  },
  {
   "cell_type": "markdown",
   "metadata": {},
   "source": [
    "# remap numbers to text"
   ]
  },
  {
   "cell_type": "code",
   "execution_count": 10,
   "metadata": {
    "scrolled": true
   },
   "outputs": [],
   "source": [
    "law_cat_map={}\n",
    "for item in catagories:\n",
    "    law_cat_map[item[0].strip()]=item[2]"
   ]
  },
  {
   "cell_type": "code",
   "execution_count": 11,
   "metadata": {},
   "outputs": [],
   "source": [
    "law_type_df=data.replace({'case_type':law_cat_map})\n"
   ]
  },
  {
   "cell_type": "code",
   "execution_count": 12,
   "metadata": {},
   "outputs": [
    {
     "data": {
      "text/html": [
       "<div>\n",
       "<style scoped>\n",
       "    .dataframe tbody tr th:only-of-type {\n",
       "        vertical-align: middle;\n",
       "    }\n",
       "\n",
       "    .dataframe tbody tr th {\n",
       "        vertical-align: top;\n",
       "    }\n",
       "\n",
       "    .dataframe thead th {\n",
       "        text-align: right;\n",
       "    }\n",
       "</style>\n",
       "<table border=\"1\" class=\"dataframe\">\n",
       "  <thead>\n",
       "    <tr style=\"text-align: right;\">\n",
       "      <th></th>\n",
       "      <th>case_text</th>\n",
       "    </tr>\n",
       "    <tr>\n",
       "      <th>case_type</th>\n",
       "      <th></th>\n",
       "    </tr>\n",
       "  </thead>\n",
       "  <tbody>\n",
       "    <tr>\n",
       "      <th>Immigration Law</th>\n",
       "      <td>2332</td>\n",
       "    </tr>\n",
       "    <tr>\n",
       "      <th>Insurance Law</th>\n",
       "      <td>1569</td>\n",
       "    </tr>\n",
       "    <tr>\n",
       "      <th>Habeas Corpus</th>\n",
       "      <td>1511</td>\n",
       "    </tr>\n",
       "    <tr>\n",
       "      <th>Health Law</th>\n",
       "      <td>1455</td>\n",
       "    </tr>\n",
       "    <tr>\n",
       "      <th>Family Law</th>\n",
       "      <td>1203</td>\n",
       "    </tr>\n",
       "    <tr>\n",
       "      <th>...</th>\n",
       "      <td>...</td>\n",
       "    </tr>\n",
       "    <tr>\n",
       "      <th>Tax-exempt Organizations</th>\n",
       "      <td>74</td>\n",
       "    </tr>\n",
       "    <tr>\n",
       "      <th>Judges &amp;amp; Judiciary</th>\n",
       "      <td>65</td>\n",
       "    </tr>\n",
       "    <tr>\n",
       "      <th>Legal Malpractice</th>\n",
       "      <td>61</td>\n",
       "    </tr>\n",
       "    <tr>\n",
       "      <th>M&amp;amp;A</th>\n",
       "      <td>52</td>\n",
       "    </tr>\n",
       "    <tr>\n",
       "      <th>Trade Dress</th>\n",
       "      <td>22</td>\n",
       "    </tr>\n",
       "  </tbody>\n",
       "</table>\n",
       "<p>75 rows × 1 columns</p>\n",
       "</div>"
      ],
      "text/plain": [
       "                           case_text\n",
       "case_type                           \n",
       " Immigration Law                2332\n",
       " Insurance Law                  1569\n",
       " Habeas Corpus                  1511\n",
       " Health Law                     1455\n",
       " Family Law                     1203\n",
       "...                              ...\n",
       " Tax-exempt Organizations         74\n",
       " Judges &amp; Judiciary           65\n",
       " Legal Malpractice                61\n",
       " M&amp;A                          52\n",
       " Trade Dress                      22\n",
       "\n",
       "[75 rows x 1 columns]"
      ]
     },
     "execution_count": 12,
     "metadata": {},
     "output_type": "execute_result"
    }
   ],
   "source": [
    "law_type_df.groupby(['case_type']).count().sort_values(by=['case_text'],ascending=False)"
   ]
  },
  {
   "cell_type": "code",
   "execution_count": 13,
   "metadata": {
    "scrolled": true
   },
   "outputs": [
    {
     "data": {
      "text/plain": [
       "<AxesSubplot:ylabel='case_type'>"
      ]
     },
     "execution_count": 13,
     "metadata": {},
     "output_type": "execute_result"
    },
    {
     "data": {
      "image/png": "[encoded data removed]",
      "text/plain": [
       "<Figure size 432x288 with 1 Axes>"
      ]
     },
     "metadata": {
      "needs_background": "light"
     },
     "output_type": "display_data"
    }
   ],
   "source": [
    "law_type_df.groupby(['case_type']).count().sort_values(by=['case_text'],ascending=False)[0:20].plot(kind='barh')"
   ]
  },
  {
   "cell_type": "code",
   "execution_count": 14,
   "metadata": {},
   "outputs": [],
   "source": [
    "forcasename=law_type_df.groupby(['case_type']).count().sort_values(by=['case_text'],ascending=False)[0:20]"
   ]
  },
  {
   "cell_type": "code",
   "execution_count": 15,
   "metadata": {},
   "outputs": [],
   "source": [
    "caselist20=list(forcasename.index)"
   ]
  },
  {
   "cell_type": "code",
   "execution_count": 16,
   "metadata": {},
   "outputs": [],
   "source": [
    "data_frame20=pd.DataFrame(columns=['case_text','case_type'])\n",
    "for casetype in caselist20:\n",
    "    tempval=law_type_df[law_type_df.case_type==casetype]\n",
    "    data_frame20=data_frame20.append(tempval)\n",
    "\n",
    "\n"
   ]
  },
  {
   "cell_type": "code",
   "execution_count": 17,
   "metadata": {
    "scrolled": true
   },
   "outputs": [
    {
     "data": {
      "text/html": [
       "<div>\n",
       "<style scoped>\n",
       "    .dataframe tbody tr th:only-of-type {\n",
       "        vertical-align: middle;\n",
       "    }\n",
       "\n",
       "    .dataframe tbody tr th {\n",
       "        vertical-align: top;\n",
       "    }\n",
       "\n",
       "    .dataframe thead th {\n",
       "        text-align: right;\n",
       "    }\n",
       "</style>\n",
       "<table border=\"1\" class=\"dataframe\">\n",
       "  <thead>\n",
       "    <tr style=\"text-align: right;\">\n",
       "      <th></th>\n",
       "      <th>index</th>\n",
       "      <th>case_text</th>\n",
       "      <th>case_type</th>\n",
       "    </tr>\n",
       "  </thead>\n",
       "  <tbody>\n",
       "    <tr>\n",
       "      <th>0</th>\n",
       "      <td>20813</td>\n",
       "      <td>Any alien convicted of an \"aggravated felony\" ...</td>\n",
       "      <td>Immigration Law</td>\n",
       "    </tr>\n",
       "    <tr>\n",
       "      <th>1</th>\n",
       "      <td>20814</td>\n",
       "      <td>Petitioner Moones Mellouli, a lawful permanent...</td>\n",
       "      <td>Immigration Law</td>\n",
       "    </tr>\n",
       "    <tr>\n",
       "      <th>2</th>\n",
       "      <td>20815</td>\n",
       "      <td>Before passage of the Illegal Immigration Refo...</td>\n",
       "      <td>Immigration Law</td>\n",
       "    </tr>\n",
       "    <tr>\n",
       "      <th>3</th>\n",
       "      <td>20816</td>\n",
       "      <td>Petitioner Alexon Nassaralla Lamim, a native a...</td>\n",
       "      <td>Immigration Law</td>\n",
       "    </tr>\n",
       "    <tr>\n",
       "      <th>4</th>\n",
       "      <td>20817</td>\n",
       "      <td>Plaintiff-appellant, Kai Tung Chan, appeals fr...</td>\n",
       "      <td>Immigration Law</td>\n",
       "    </tr>\n",
       "    <tr>\n",
       "      <th>...</th>\n",
       "      <td>...</td>\n",
       "      <td>...</td>\n",
       "      <td>...</td>\n",
       "    </tr>\n",
       "    <tr>\n",
       "      <th>22157</th>\n",
       "      <td>38285</td>\n",
       "      <td>The parties-who agree on little else-mutually ...</td>\n",
       "      <td>Civil Procedure</td>\n",
       "    </tr>\n",
       "    <tr>\n",
       "      <th>22158</th>\n",
       "      <td>38286</td>\n",
       "      <td>This case involves the power of a district cou...</td>\n",
       "      <td>Civil Procedure</td>\n",
       "    </tr>\n",
       "    <tr>\n",
       "      <th>22159</th>\n",
       "      <td>38287</td>\n",
       "      <td>Non-party appellants Stone &amp; Webster Engineeri...</td>\n",
       "      <td>Civil Procedure</td>\n",
       "    </tr>\n",
       "    <tr>\n",
       "      <th>22160</th>\n",
       "      <td>38288</td>\n",
       "      <td>On October 8, 1999, plaintiff-appellant José A...</td>\n",
       "      <td>Civil Procedure</td>\n",
       "    </tr>\n",
       "    <tr>\n",
       "      <th>22161</th>\n",
       "      <td>38289</td>\n",
       "      <td>Under the authority of the Magnuson-Stevens Ac...</td>\n",
       "      <td>Civil Procedure</td>\n",
       "    </tr>\n",
       "  </tbody>\n",
       "</table>\n",
       "<p>22162 rows × 3 columns</p>\n",
       "</div>"
      ],
      "text/plain": [
       "       index                                          case_text  \\\n",
       "0      20813  Any alien convicted of an \"aggravated felony\" ...   \n",
       "1      20814  Petitioner Moones Mellouli, a lawful permanent...   \n",
       "2      20815  Before passage of the Illegal Immigration Refo...   \n",
       "3      20816  Petitioner Alexon Nassaralla Lamim, a native a...   \n",
       "4      20817  Plaintiff-appellant, Kai Tung Chan, appeals fr...   \n",
       "...      ...                                                ...   \n",
       "22157  38285  The parties-who agree on little else-mutually ...   \n",
       "22158  38286  This case involves the power of a district cou...   \n",
       "22159  38287  Non-party appellants Stone & Webster Engineeri...   \n",
       "22160  38288  On October 8, 1999, plaintiff-appellant José A...   \n",
       "22161  38289  Under the authority of the Magnuson-Stevens Ac...   \n",
       "\n",
       "              case_type  \n",
       "0       Immigration Law  \n",
       "1       Immigration Law  \n",
       "2       Immigration Law  \n",
       "3       Immigration Law  \n",
       "4       Immigration Law  \n",
       "...                 ...  \n",
       "22157   Civil Procedure  \n",
       "22158   Civil Procedure  \n",
       "22159   Civil Procedure  \n",
       "22160   Civil Procedure  \n",
       "22161   Civil Procedure  \n",
       "\n",
       "[22162 rows x 3 columns]"
      ]
     },
     "execution_count": 17,
     "metadata": {},
     "output_type": "execute_result"
    }
   ],
   "source": [
    "data_frame20.reset_index() #may need this later"
   ]
  },
  {
   "cell_type": "markdown",
   "metadata": {},
   "source": [
    "# check point"
   ]
  },
  {
   "cell_type": "code",
   "execution_count": 18,
   "metadata": {
    "scrolled": false
   },
   "outputs": [
    {
     "data": {
      "text/plain": [
       " Immigration Law                         2332\n",
       " Insurance Law                           1569\n",
       " Habeas Corpus                           1511\n",
       " Health Law                              1455\n",
       " Family Law                              1203\n",
       " Contracts                               1059\n",
       " Administrative Law                      1053\n",
       " Attorney's Fees                         1034\n",
       " Sentencing                              1032\n",
       " Environmental Law                       1024\n",
       " Injury &amp; Tort Law                   1000\n",
       " Tax Law                                  991\n",
       " Bankruptcy Law                           988\n",
       " Education Law                            936\n",
       " Evidence                                 912\n",
       " Remedies                                 883\n",
       " Dispute Resolution &amp; Arbitration     864\n",
       " Government Benefits                      836\n",
       " Commercial Law                           771\n",
       " Civil Procedure                          709\n",
       "Name: case_type, dtype: int64"
      ]
     },
     "execution_count": 18,
     "metadata": {},
     "output_type": "execute_result"
    }
   ],
   "source": [
    "data_frame20.case_type.value_counts()"
   ]
  },
  {
   "cell_type": "code",
   "execution_count": null,
   "metadata": {},
   "outputs": [],
   "source": []
  },
  {
   "cell_type": "code",
   "execution_count": 19,
   "metadata": {},
   "outputs": [],
   "source": [
    "import lexnlp.nlp.en.tokens\n",
    "from sklearn.feature_extraction.text import TfidfVectorizer"
   ]
  },
  {
   "cell_type": "code",
   "execution_count": 20,
   "metadata": {},
   "outputs": [],
   "source": [
    "# def preprocess(data,infuctfidf,relevantwords):\n",
    "    \n",
    "#     # lemmatize\n",
    "#     def lemmadata(doc):\n",
    "#         pattern = \"([a-zA-Z]+(?:'[a-z]+)?)\"\n",
    "#         raw_tokens = nltk.regexp_tokenize(doc, pattern)\n",
    "#         tokens = [i.lower() for i in raw_tokens]\n",
    "#         stop_words = set(stopwords.words('english'))\n",
    "#         listed = [w for w in tokens if not w in stop_words]\n",
    "#         lemmatized = [wordnet_lemmatizer.lemmatize(word, pos=\"v\") for word in listed]\n",
    "#         lemmatized = list(filter(lambda w: w != 'lb', lemmatized))\n",
    "#         words = list(filter(lambda w: w in english, lemmatized))\n",
    "#         return \" \".join(words)\n",
    "    \n",
    "#     lemmatized = [lemmadata(post) for post in data]\n",
    "    \n",
    "#     tfidf = pickle.load(open(\"pickles/tfidf.pkl\", \"rb\"))\n",
    "    \n",
    "#     transformed = tfidf.transform(lemmatized)\n",
    "#     tfidf_df = pd.DataFrame(transformed.toarray(), columns=tfidf.get_feature_names())\n",
    "    \n",
    "#     relevant = pickle.load(open(\"pickles/relevantwords.pkl\", \"rb\"))\n",
    "    \n",
    "#     testset = [tfidf_df[word] for word in relevant if word in tfidf_df.columns]\n",
    "    \n",
    "#     return pd.DataFrame(testset).transpose()"
   ]
  },
  {
   "cell_type": "code",
   "execution_count": 36,
   "metadata": {},
   "outputs": [],
   "source": [
    "# def clean_by_case_data(case,dataset_infunc):\n",
    "    \n",
    "#     textdata=dataset_infunc['case_text']\n",
    "#     target = dataset_infunc['case_type']\n",
    "#     processed_data= [lexnlp.nlp.en.tokens.get_token_list(d, lowercase=True, stopword=True) for d in textdata.tolist()]\n",
    "    \n",
    "#     sw_list = stopwords.words('english')\n",
    "#     sw_list += list(string.punctuation)\n",
    "#     sw_list += [\"''\", '\"\"', '...', '``', '’', '“', '’', '”', '‘', '‘', '©','-', '–', '—','()','( )','(']\n",
    "#     sw_set = set(sw_list)\n",
    "    \n",
    "#     lemmatizer = WordNetLemmatizer() \n",
    "\n",
    "#     lemmatized_output = []\n",
    "\n",
    "#     for listy in processed_data:\n",
    "#         lemmed = ' '.join([lemmatizer.lemmatize(w) for w in listy])\n",
    "#         lemmatized_output.append(lemmed)\n",
    "        \n",
    "#     into_vectorx = lemmatized_output\n",
    "    \n",
    "#     relevant = pd.DataFrame()\n",
    "    \n",
    "    \n",
    "#     X_train_lem, X_test_lem, y_train_lem, y_test_lem = train_test_split(into_vectorx, target, test_size=0.20, random_state=1)\n",
    "    \n",
    "#     tfidf = TfidfVectorizer(stop_words=sw_set)\n",
    "    \n",
    "#     tfidf_data_train_lem = tfidf.fit_transform(X_train_lem)\n",
    "#     tfidf_data_test_lem = tfidf.transform(X_test_lem)\n",
    "\n",
    "    \n",
    "#     return X_train_lem, X_test_lem, y_train_lem, y_test_lem,tfidf,tfidf_data_train_lem,tfidf_data_test_lem;"
   ]
  },
  {
   "cell_type": "code",
   "execution_count": 21,
   "metadata": {},
   "outputs": [],
   "source": [
    "def clean_by_case_data(relevancy,dataset_infunc):\n",
    "    \n",
    "    textdata=dataset_infunc['case_text']\n",
    "    target = dataset_infunc['case_type']\n",
    "    processed_data= [lexnlp.nlp.en.tokens.get_token_list(d, lowercase=True, stopword=True) for d in textdata.tolist()]\n",
    "    \n",
    "    sw_list = stopwords.words('english')\n",
    "    sw_list += list(string.punctuation)\n",
    "    sw_list += [\"''\", '\"\"', '...', '``', '’', '“', '’', '”', '‘', '‘', '©','-', '–', '—','()','( )','(']\n",
    "    sw_set = set(sw_list)\n",
    "    \n",
    "    lemmatizer = WordNetLemmatizer() \n",
    "\n",
    "    lemmatized_output = []\n",
    "\n",
    "    for listy in processed_data:\n",
    "        lemmed = ' '.join([lemmatizer.lemmatize(w) for w in listy])\n",
    "        lemmatized_output.append(lemmed)\n",
    "        \n",
    "    into_vectorx = lemmatized_output\n",
    "    \n",
    "    if relevancy=='ngram':\n",
    "    \n",
    "        relevantTrain=[]\n",
    "       \n",
    "        tfidf = TfidfVectorizer(stop_words=sw_set,ngram_range=(0,2),min_df=.1)\n",
    "    \n",
    "        tfidf_data_train_lem = tfidf.fit_transform(into_vectorx)\n",
    "        \n",
    "        Xtrain_relevant=pd.DataFrame(tfidf_data_train_lem.todense(),columns = tfidf.get_feature_names())\n",
    "        \n",
    "#         for word in Xtrain_relevant.columns:\n",
    "#             if Xtrain_relevant[word].mean() > 0.0001:\n",
    "#                 relevantTrain.append(Xtrain_relevant[word])\n",
    "                \n",
    "#         return relevantTrain,target\n",
    "                \n",
    "        return Xtrain_relevant,target\n",
    "    \n",
    "    if relevancy=='ngram3':\n",
    "    \n",
    "        relevantTrain=[]\n",
    "       \n",
    "        tfidf = TfidfVectorizer(stop_words=sw_set,ngram_range=(0,3),min_df=.1)\n",
    "    \n",
    "        tfidf_data_train_lem = tfidf.fit_transform(into_vectorx)\n",
    "        \n",
    "        Xtrain_relevant=pd.DataFrame(tfidf_data_train_lem.todense(),columns = tfidf.get_feature_names())\n",
    "        \n",
    "#         for word in Xtrain_relevant.columns:\n",
    "#             if Xtrain_relevant[word].mean() > 0.0001:\n",
    "#                 relevantTrain.append(Xtrain_relevant[word])\n",
    "                \n",
    "#         return relevantTrain,target\n",
    "                \n",
    "        return Xtrain_relevant,target\n",
    "    \n",
    "    elif relevancy== True:\n",
    "        \n",
    "        relevantTrain=[]\n",
    "       \n",
    "        tfidf = TfidfVectorizer(stop_words=sw_set)\n",
    "    \n",
    "        tfidf_data_train_lem = tfidf.fit_transform(into_vectorx)\n",
    "        \n",
    "        Xtrain_relevant=pd.DataFrame(tfidf_data_train_lem.todense(),columns = tfidf.get_feature_names())\n",
    "        \n",
    "        for word in Xtrain_relevant.columns:\n",
    "            if Xtrain_relevant[word].mean() > 0.0001:\n",
    "                relevantTrain.append(Xtrain_relevant[word])\n",
    "        \n",
    "\n",
    "        \n",
    "        \n",
    "        return relevantTrain,target\n",
    "#         return X_train_lem, X_test_lem, y_train_lem, y_test_lem,tfidf,relevantTrain,relevantTest,relevant_frame;\n",
    "        \n",
    "    else:\n",
    "    \n",
    "        X_train_lem, X_test_lem, y_train_lem, y_test_lem = train_test_split(into_vectorx, target, test_size=0.20, random_state=1)\n",
    "    \n",
    "        tfidf = TfidfVectorizer(stop_words=sw_set)\n",
    "    \n",
    "        tfidf_data_train_lem = tfidf.fit_transform(X_train_lem)\n",
    "        tfidf_data_test_lem = tfidf.transform(X_test_lem)\n",
    "\n",
    "    \n",
    "        return X_train_lem, X_test_lem, y_train_lem, y_test_lem,tfidf,tfidf_data_train_lem,tfidf_data_test_lem"
   ]
  },
  {
   "cell_type": "code",
   "execution_count": 22,
   "metadata": {},
   "outputs": [],
   "source": [
    "Xtrain,Xtest,Ytrain,Ytest,origtfidfmodelvec,Xtrain_trans,Xtest_Trans=clean_by_case_data(False,data_frame20)"
   ]
  },
  {
   "cell_type": "code",
   "execution_count": 41,
   "metadata": {},
   "outputs": [],
   "source": [
    "# relevant_outsidetrain=pd.DataFrame(Xtrain_trans.todense(),columns = origtfidfmodelvec.get_feature_names())\n",
    "# Xtest_outsidetest=pd.DataFrame(Xtest_Trans.todense(),columns = origtfidfmodelvec.get_feature_names())\n"
   ]
  },
  {
   "cell_type": "code",
   "execution_count": 43,
   "metadata": {},
   "outputs": [],
   "source": [
    "listtrain=[]\n",
    "listtest=[]\n",
    "\n",
    "tt=pd.DataFrame()\n",
    "tt2=pd.DataFrame()\n",
    "\n",
    "# for word in relevant_outsidetrain.columns:\n",
    "#             if relevant_outsidetrain[word].mean() > 0.0001:\n",
    "#                 tt[word]=relevant_outsidetrain[word]\n",
    "                \n",
    "# for word in Xtest_outsidetest.columns:\n",
    "#             if Xtest_outsidetest[word].mean() > 0.0001:\n",
    "#                 tt2[word]=Xtest_outsidetest[word]\n",
    "                \n",
    "for word in relevant_outsidetrain.columns:\n",
    "            if relevant_outsidetrain[word].mean() > 0.0001:\n",
    "                listtrain.append(relevant_outsidetrain[word])\n",
    "                \n",
    "for word in Xtest_outsidetest.columns:\n",
    "            if Xtest_outsidetest[word].mean() > 0.0001:\n",
    "                listtest.append(Xtest_outsidetest[word])"
   ]
  },
  {
   "cell_type": "code",
   "execution_count": 22,
   "metadata": {},
   "outputs": [],
   "source": [
    "def run_model(model, X_train, y_train, X_test, y_test):\n",
    "#     print('List of models to choose from\\n DTC : DecisionTreeClassifier\\n')\n",
    "    decis = model\n",
    "    decis.fit(X_train, y_train)\n",
    "    \n",
    "    y_hat_train = decis.predict(X_train)\n",
    "    y_hat_test = decis.predict(X_test)\n",
    "    \n",
    "    print(classification_report(y_train, y_hat_train))\n",
    "    print(classification_report(y_test, y_hat_test))\n",
    "    \n",
    "    \n",
    "  \n",
    "    return  model# return the model object!!"
   ]
  },
  {
   "cell_type": "code",
   "execution_count": 21,
   "metadata": {},
   "outputs": [],
   "source": [
    "knn_base=KNeighborsClassifier()\n",
    "tree_base=tree.DecisionTreeClassifier()\n",
    "random_base=RandomForestClassifier(n_estimators=100, max_depth= 20)\n",
    "log_base=LogisticRegression(fit_intercept=False, C=1e12, solver='liblinear')\n",
    "xboost_base=XGBClassifier()\n",
    "svm_base=svm.SVC(decision_function_shape='ovo')\n",
    "dt_base = DecisionTreeClassifier()\n",
    "bagged_base=BaggingClassifier()\n",
    "ada_base = AdaBoostClassifier()\n",
    "gb_base = GradientBoostingClassifier()\n",
    "mnb_base = MultinomialNB()\n",
    "\n",
    "# knn_base tree_base random_base log_base xboost_base dt_base bagged_base ada_base gb_base mnb_base"
   ]
  },
  {
   "cell_type": "code",
   "execution_count": 25,
   "metadata": {
    "scrolled": true
   },
   "outputs": [
    {
     "name": "stdout",
     "output_type": "stream",
     "text": [
      "                                       precision    recall  f1-score   support\n",
      "\n",
      "                   Administrative Law       1.00      1.00      1.00       856\n",
      "                      Attorney's Fees       1.00      1.00      1.00       805\n",
      "                       Bankruptcy Law       1.00      1.00      1.00       805\n",
      "                      Civil Procedure       1.00      1.00      1.00       577\n",
      "                       Commercial Law       1.00      1.00      1.00       612\n",
      "                            Contracts       1.00      1.00      1.00       838\n",
      " Dispute Resolution &amp; Arbitration       1.00      1.00      1.00       696\n",
      "                        Education Law       1.00      1.00      1.00       766\n",
      "                    Environmental Law       1.00      1.00      1.00       846\n",
      "                             Evidence       1.00      1.00      1.00       741\n",
      "                           Family Law       1.00      1.00      1.00       979\n",
      "                  Government Benefits       1.00      1.00      1.00       655\n",
      "                        Habeas Corpus       1.00      1.00      1.00      1215\n",
      "                           Health Law       1.00      1.00      1.00      1142\n",
      "                      Immigration Law       1.00      1.00      1.00      1854\n",
      "                Injury &amp; Tort Law       1.00      1.00      1.00       795\n",
      "                        Insurance Law       1.00      1.00      1.00      1256\n",
      "                             Remedies       1.00      1.00      1.00       713\n",
      "                           Sentencing       1.00      1.00      1.00       817\n",
      "                              Tax Law       1.00      1.00      1.00       761\n",
      "\n",
      "                             accuracy                           1.00     17729\n",
      "                            macro avg       1.00      1.00      1.00     17729\n",
      "                         weighted avg       1.00      1.00      1.00     17729\n",
      "\n",
      "                                       precision    recall  f1-score   support\n",
      "\n",
      "                   Administrative Law       0.33      0.28      0.31       197\n",
      "                      Attorney's Fees       0.63      0.58      0.60       229\n",
      "                       Bankruptcy Law       0.72      0.79      0.75       183\n",
      "                      Civil Procedure       0.48      0.42      0.45       132\n",
      "                       Commercial Law       0.47      0.48      0.47       159\n",
      "                            Contracts       0.51      0.40      0.45       221\n",
      " Dispute Resolution &amp; Arbitration       0.71      0.81      0.76       168\n",
      "                        Education Law       0.79      0.79      0.79       170\n",
      "                    Environmental Law       0.78      0.90      0.83       178\n",
      "                             Evidence       0.62      0.61      0.62       171\n",
      "                           Family Law       0.86      0.88      0.87       224\n",
      "                  Government Benefits       0.64      0.57      0.60       181\n",
      "                        Habeas Corpus       0.85      0.93      0.89       296\n",
      "                           Health Law       0.60      0.58      0.59       313\n",
      "                      Immigration Law       0.85      0.85      0.85       478\n",
      "                Injury &amp; Tort Law       0.50      0.52      0.51       205\n",
      "                        Insurance Law       0.68      0.78      0.73       313\n",
      "                             Remedies       0.45      0.44      0.44       170\n",
      "                           Sentencing       0.76      0.78      0.77       215\n",
      "                              Tax Law       0.86      0.80      0.82       230\n",
      "\n",
      "                             accuracy                           0.68      4433\n",
      "                            macro avg       0.65      0.66      0.66      4433\n",
      "                         weighted avg       0.68      0.68      0.68      4433\n",
      "\n"
     ]
    },
    {
     "data": {
      "text/plain": [
       "LogisticRegression(C=1000000000000.0, fit_intercept=False, solver='liblinear')"
      ]
     },
     "execution_count": 25,
     "metadata": {},
     "output_type": "execute_result"
    }
   ],
   "source": [
    "run_model(log_base,Xtrain_trans,Ytrain,Xtest_Trans,Ytest)"
   ]
  },
  {
   "cell_type": "code",
   "execution_count": 26,
   "metadata": {
    "scrolled": true
   },
   "outputs": [],
   "source": [
    "# run_model(svm_base,Xtrain_trans,Ytrain,Xtest_Trans,Ytest)"
   ]
  },
  {
   "cell_type": "code",
   "execution_count": 27,
   "metadata": {
    "scrolled": true
   },
   "outputs": [
    {
     "name": "stdout",
     "output_type": "stream",
     "text": [
      "                                       precision    recall  f1-score   support\n",
      "\n",
      "                   Administrative Law       1.00      1.00      1.00       856\n",
      "                      Attorney's Fees       1.00      1.00      1.00       805\n",
      "                       Bankruptcy Law       1.00      1.00      1.00       805\n",
      "                      Civil Procedure       1.00      1.00      1.00       577\n",
      "                       Commercial Law       1.00      1.00      1.00       612\n",
      "                            Contracts       1.00      1.00      1.00       838\n",
      " Dispute Resolution &amp; Arbitration       1.00      1.00      1.00       696\n",
      "                        Education Law       1.00      1.00      1.00       766\n",
      "                    Environmental Law       1.00      1.00      1.00       846\n",
      "                             Evidence       1.00      1.00      1.00       741\n",
      "                           Family Law       1.00      1.00      1.00       979\n",
      "                  Government Benefits       1.00      1.00      1.00       655\n",
      "                        Habeas Corpus       1.00      1.00      1.00      1215\n",
      "                           Health Law       1.00      1.00      1.00      1142\n",
      "                      Immigration Law       1.00      1.00      1.00      1854\n",
      "                Injury &amp; Tort Law       1.00      1.00      1.00       795\n",
      "                        Insurance Law       1.00      1.00      1.00      1256\n",
      "                             Remedies       1.00      1.00      1.00       713\n",
      "                           Sentencing       1.00      1.00      1.00       817\n",
      "                              Tax Law       1.00      1.00      1.00       761\n",
      "\n",
      "                             accuracy                           1.00     17729\n",
      "                            macro avg       1.00      1.00      1.00     17729\n",
      "                         weighted avg       1.00      1.00      1.00     17729\n",
      "\n",
      "                                       precision    recall  f1-score   support\n",
      "\n",
      "                   Administrative Law       0.21      0.23      0.22       197\n",
      "                      Attorney's Fees       0.62      0.52      0.56       229\n",
      "                       Bankruptcy Law       0.70      0.72      0.71       183\n",
      "                      Civil Procedure       0.22      0.25      0.23       132\n",
      "                       Commercial Law       0.26      0.28      0.27       159\n",
      "                            Contracts       0.34      0.34      0.34       221\n",
      " Dispute Resolution &amp; Arbitration       0.65      0.67      0.66       168\n",
      "                        Education Law       0.60      0.56      0.58       170\n",
      "                    Environmental Law       0.59      0.62      0.61       178\n",
      "                             Evidence       0.43      0.46      0.44       171\n",
      "                           Family Law       0.72      0.73      0.73       224\n",
      "                  Government Benefits       0.50      0.46      0.48       181\n",
      "                        Habeas Corpus       0.84      0.83      0.84       296\n",
      "                           Health Law       0.46      0.44      0.45       313\n",
      "                      Immigration Law       0.81      0.76      0.79       478\n",
      "                Injury &amp; Tort Law       0.31      0.31      0.31       205\n",
      "                        Insurance Law       0.62      0.67      0.64       313\n",
      "                             Remedies       0.18      0.19      0.19       170\n",
      "                           Sentencing       0.66      0.67      0.67       215\n",
      "                              Tax Law       0.71      0.70      0.71       230\n",
      "\n",
      "                             accuracy                           0.55      4433\n",
      "                            macro avg       0.52      0.52      0.52      4433\n",
      "                         weighted avg       0.56      0.55      0.56      4433\n",
      "\n"
     ]
    },
    {
     "data": {
      "text/plain": [
       "DecisionTreeClassifier()"
      ]
     },
     "execution_count": 27,
     "metadata": {},
     "output_type": "execute_result"
    }
   ],
   "source": [
    "run_model(dt_base,Xtrain_trans,Ytrain,Xtest_Trans,Ytest)"
   ]
  },
  {
   "cell_type": "code",
   "execution_count": 28,
   "metadata": {
    "scrolled": true
   },
   "outputs": [
    {
     "name": "stdout",
     "output_type": "stream",
     "text": [
      "                                       precision    recall  f1-score   support\n",
      "\n",
      "                   Administrative Law       0.99      0.97      0.98       856\n",
      "                      Attorney's Fees       0.97      0.98      0.98       805\n",
      "                       Bankruptcy Law       0.97      1.00      0.99       805\n",
      "                      Civil Procedure       0.99      0.98      0.99       577\n",
      "                       Commercial Law       0.99      0.98      0.98       612\n",
      "                            Contracts       0.99      0.98      0.99       838\n",
      " Dispute Resolution &amp; Arbitration       0.99      0.99      0.99       696\n",
      "                        Education Law       0.98      1.00      0.99       766\n",
      "                    Environmental Law       0.98      0.99      0.99       846\n",
      "                             Evidence       0.99      0.99      0.99       741\n",
      "                           Family Law       0.99      0.99      0.99       979\n",
      "                  Government Benefits       0.99      0.99      0.99       655\n",
      "                        Habeas Corpus       0.99      1.00      0.99      1215\n",
      "                           Health Law       0.99      0.98      0.98      1142\n",
      "                      Immigration Law       0.99      1.00      0.99      1854\n",
      "                Injury &amp; Tort Law       0.99      0.97      0.98       795\n",
      "                        Insurance Law       0.99      0.99      0.99      1256\n",
      "                             Remedies       0.99      0.97      0.98       713\n",
      "                           Sentencing       1.00      0.98      0.99       817\n",
      "                              Tax Law       0.98      0.99      0.99       761\n",
      "\n",
      "                             accuracy                           0.99     17729\n",
      "                            macro avg       0.99      0.99      0.99     17729\n",
      "                         weighted avg       0.99      0.99      0.99     17729\n",
      "\n",
      "                                       precision    recall  f1-score   support\n",
      "\n",
      "                   Administrative Law       0.33      0.22      0.26       197\n",
      "                      Attorney's Fees       0.68      0.70      0.69       229\n",
      "                       Bankruptcy Law       0.72      0.86      0.78       183\n",
      "                      Civil Procedure       0.39      0.37      0.38       132\n",
      "                       Commercial Law       0.41      0.44      0.43       159\n",
      "                            Contracts       0.48      0.42      0.45       221\n",
      " Dispute Resolution &amp; Arbitration       0.68      0.85      0.76       168\n",
      "                        Education Law       0.72      0.77      0.74       170\n",
      "                    Environmental Law       0.70      0.79      0.74       178\n",
      "                             Evidence       0.56      0.54      0.55       171\n",
      "                           Family Law       0.82      0.82      0.82       224\n",
      "                  Government Benefits       0.61      0.52      0.56       181\n",
      "                        Habeas Corpus       0.83      0.92      0.88       296\n",
      "                           Health Law       0.58      0.56      0.57       313\n",
      "                      Immigration Law       0.81      0.92      0.86       478\n",
      "                Injury &amp; Tort Law       0.54      0.36      0.43       205\n",
      "                        Insurance Law       0.66      0.81      0.72       313\n",
      "                             Remedies       0.42      0.24      0.31       170\n",
      "                           Sentencing       0.79      0.73      0.76       215\n",
      "                              Tax Law       0.77      0.79      0.78       230\n",
      "\n",
      "                             accuracy                           0.67      4433\n",
      "                            macro avg       0.63      0.63      0.62      4433\n",
      "                         weighted avg       0.65      0.67      0.65      4433\n",
      "\n"
     ]
    },
    {
     "data": {
      "text/plain": [
       "BaggingClassifier()"
      ]
     },
     "execution_count": 28,
     "metadata": {},
     "output_type": "execute_result"
    }
   ],
   "source": [
    "run_model(bagged_base,Xtrain_trans,Ytrain,Xtest_Trans,Ytest)"
   ]
  },
  {
   "cell_type": "code",
   "execution_count": 29,
   "metadata": {
    "scrolled": true
   },
   "outputs": [
    {
     "name": "stderr",
     "output_type": "stream",
     "text": [
      "C:\\Users\\amird\\anaconda3\\envs\\learn-env\\lib\\site-packages\\sklearn\\metrics\\_classification.py:1221: UndefinedMetricWarning: Precision and F-score are ill-defined and being set to 0.0 in labels with no predicted samples. Use `zero_division` parameter to control this behavior.\n",
      "  _warn_prf(average, modifier, msg_start, len(result))\n"
     ]
    },
    {
     "name": "stdout",
     "output_type": "stream",
     "text": [
      "                                       precision    recall  f1-score   support\n",
      "\n",
      "                   Administrative Law       1.00      0.02      0.03       856\n",
      "                      Attorney's Fees       0.85      0.46      0.60       805\n",
      "                       Bankruptcy Law       0.80      0.79      0.80       805\n",
      "                      Civil Procedure       0.00      0.00      0.00       577\n",
      "                       Commercial Law       1.00      0.01      0.02       612\n",
      "                            Contracts       0.94      0.08      0.15       838\n",
      " Dispute Resolution &amp; Arbitration       0.80      0.63      0.70       696\n",
      "                        Education Law       0.88      0.57      0.69       766\n",
      "                    Environmental Law       0.83      0.83      0.83       846\n",
      "                             Evidence       0.98      0.13      0.24       741\n",
      "                           Family Law       0.90      0.82      0.86       979\n",
      "                  Government Benefits       0.98      0.16      0.27       655\n",
      "                        Habeas Corpus       0.76      0.94      0.84      1215\n",
      "                           Health Law       0.51      0.80      0.62      1142\n",
      "                      Immigration Law       0.34      1.00      0.51      1854\n",
      "                Injury &amp; Tort Law       1.00      0.04      0.08       795\n",
      "                        Insurance Law       0.31      0.93      0.47      1256\n",
      "                             Remedies       1.00      0.01      0.01       713\n",
      "                           Sentencing       0.91      0.41      0.56       817\n",
      "                              Tax Law       0.90      0.60      0.72       761\n",
      "\n",
      "                             accuracy                           0.54     17729\n",
      "                            macro avg       0.79      0.46      0.45     17729\n",
      "                         weighted avg       0.75      0.54      0.48     17729\n",
      "\n",
      "                                       precision    recall  f1-score   support\n",
      "\n",
      "                   Administrative Law       0.00      0.00      0.00       197\n",
      "                      Attorney's Fees       0.81      0.29      0.43       229\n",
      "                       Bankruptcy Law       0.74      0.67      0.70       183\n",
      "                      Civil Procedure       0.00      0.00      0.00       132\n",
      "                       Commercial Law       0.00      0.00      0.00       159\n",
      "                            Contracts       0.75      0.01      0.03       221\n",
      " Dispute Resolution &amp; Arbitration       0.73      0.48      0.58       168\n",
      "                        Education Law       0.84      0.45      0.59       170\n",
      "                    Environmental Law       0.82      0.79      0.80       178\n",
      "                             Evidence       0.80      0.02      0.05       171\n",
      "                           Family Law       0.88      0.80      0.84       224\n",
      "                  Government Benefits       0.93      0.14      0.24       181\n",
      "                        Habeas Corpus       0.74      0.92      0.82       296\n",
      "                           Health Law       0.48      0.70      0.57       313\n",
      "                      Immigration Law       0.32      0.99      0.48       478\n",
      "                Injury &amp; Tort Law       0.00      0.00      0.00       205\n",
      "                        Insurance Law       0.27      0.92      0.41       313\n",
      "                             Remedies       0.00      0.00      0.00       170\n",
      "                           Sentencing       0.89      0.30      0.45       215\n",
      "                              Tax Law       0.85      0.46      0.59       230\n",
      "\n",
      "                             accuracy                           0.48      4433\n",
      "                            macro avg       0.54      0.40      0.38      4433\n",
      "                         weighted avg       0.54      0.48      0.41      4433\n",
      "\n"
     ]
    },
    {
     "data": {
      "text/plain": [
       "MultinomialNB()"
      ]
     },
     "execution_count": 29,
     "metadata": {},
     "output_type": "execute_result"
    }
   ],
   "source": [
    "run_model(mnb_base,Xtrain_trans,Ytrain,Xtest_Trans,Ytest)"
   ]
  },
  {
   "cell_type": "code",
   "execution_count": 38,
   "metadata": {
    "scrolled": true
   },
   "outputs": [
    {
     "name": "stderr",
     "output_type": "stream",
     "text": [
      "C:\\Users\\amird\\anaconda3\\envs\\learn-env\\lib\\site-packages\\sklearn\\metrics\\_classification.py:1221: UndefinedMetricWarning: Precision and F-score are ill-defined and being set to 0.0 in labels with no predicted samples. Use `zero_division` parameter to control this behavior.\n",
      "  _warn_prf(average, modifier, msg_start, len(result))\n"
     ]
    },
    {
     "name": "stdout",
     "output_type": "stream",
     "text": [
      "                                       precision    recall  f1-score   support\n",
      "\n",
      "                   Administrative Law       0.16      0.16      0.16       856\n",
      "                      Attorney's Fees       0.28      0.01      0.02       805\n",
      "                       Bankruptcy Law       0.71      0.94      0.81       805\n",
      "                      Civil Procedure       0.11      0.02      0.03       577\n",
      "                       Commercial Law       0.17      0.03      0.05       612\n",
      "                            Contracts       0.13      0.02      0.03       838\n",
      " Dispute Resolution &amp; Arbitration       0.60      0.89      0.71       696\n",
      "                        Education Law       0.78      0.61      0.69       766\n",
      "                    Environmental Law       0.68      0.75      0.71       846\n",
      "                             Evidence       0.32      0.42      0.36       741\n",
      "                           Family Law       0.74      0.77      0.75       979\n",
      "                  Government Benefits       0.00      0.00      0.00       655\n",
      "                        Habeas Corpus       0.88      0.88      0.88      1215\n",
      "                           Health Law       0.09      0.01      0.01      1142\n",
      "                      Immigration Law       0.78      0.56      0.65      1854\n",
      "                Injury &amp; Tort Law       0.14      0.02      0.03       795\n",
      "                        Insurance Law       0.15      0.80      0.26      1256\n",
      "                             Remedies       0.00      0.00      0.00       713\n",
      "                           Sentencing       0.58      0.76      0.66       817\n",
      "                              Tax Law       0.77      0.72      0.74       761\n",
      "\n",
      "                             accuracy                           0.45     17729\n",
      "                            macro avg       0.40      0.42      0.38     17729\n",
      "                         weighted avg       0.44      0.45      0.41     17729\n",
      "\n",
      "                                       precision    recall  f1-score   support\n",
      "\n",
      "                   Administrative Law       0.08      0.09      0.08       197\n",
      "                      Attorney's Fees       0.50      0.00      0.01       229\n",
      "                       Bankruptcy Law       0.68      0.87      0.76       183\n",
      "                      Civil Procedure       0.20      0.04      0.06       132\n",
      "                       Commercial Law       0.12      0.02      0.03       159\n",
      "                            Contracts       0.12      0.02      0.03       221\n",
      " Dispute Resolution &amp; Arbitration       0.54      0.90      0.67       168\n",
      "                        Education Law       0.75      0.63      0.68       170\n",
      "                    Environmental Law       0.65      0.71      0.68       178\n",
      "                             Evidence       0.26      0.36      0.30       171\n",
      "                           Family Law       0.73      0.77      0.75       224\n",
      "                  Government Benefits       0.00      0.00      0.00       181\n",
      "                        Habeas Corpus       0.86      0.88      0.87       296\n",
      "                           Health Law       0.16      0.01      0.02       313\n",
      "                      Immigration Law       0.80      0.55      0.65       478\n",
      "                Injury &amp; Tort Law       0.05      0.00      0.01       205\n",
      "                        Insurance Law       0.15      0.80      0.25       313\n",
      "                             Remedies       0.00      0.00      0.00       170\n",
      "                           Sentencing       0.60      0.77      0.67       215\n",
      "                              Tax Law       0.77      0.65      0.71       230\n",
      "\n",
      "                             accuracy                           0.43      4433\n",
      "                            macro avg       0.40      0.40      0.36      4433\n",
      "                         weighted avg       0.43      0.43      0.39      4433\n",
      "\n"
     ]
    },
    {
     "data": {
      "text/plain": [
       "AdaBoostClassifier()"
      ]
     },
     "execution_count": 38,
     "metadata": {},
     "output_type": "execute_result"
    }
   ],
   "source": [
    "run_model(ada_base,Xtrain_trans,Ytrain,Xtest_Trans,Ytest)"
   ]
  },
  {
   "cell_type": "code",
   "execution_count": 30,
   "metadata": {
    "scrolled": true
   },
   "outputs": [
    {
     "name": "stdout",
     "output_type": "stream",
     "text": [
      "                                       precision    recall  f1-score   support\n",
      "\n",
      "                   Administrative Law       1.00      1.00      1.00       856\n",
      "                      Attorney's Fees       1.00      1.00      1.00       805\n",
      "                       Bankruptcy Law       1.00      1.00      1.00       805\n",
      "                      Civil Procedure       1.00      1.00      1.00       577\n",
      "                       Commercial Law       1.00      1.00      1.00       612\n",
      "                            Contracts       1.00      1.00      1.00       838\n",
      " Dispute Resolution &amp; Arbitration       1.00      1.00      1.00       696\n",
      "                        Education Law       1.00      1.00      1.00       766\n",
      "                    Environmental Law       1.00      1.00      1.00       846\n",
      "                             Evidence       1.00      1.00      1.00       741\n",
      "                           Family Law       1.00      1.00      1.00       979\n",
      "                  Government Benefits       1.00      1.00      1.00       655\n",
      "                        Habeas Corpus       1.00      1.00      1.00      1215\n",
      "                           Health Law       1.00      1.00      1.00      1142\n",
      "                      Immigration Law       1.00      1.00      1.00      1854\n",
      "                Injury &amp; Tort Law       1.00      1.00      1.00       795\n",
      "                        Insurance Law       1.00      1.00      1.00      1256\n",
      "                             Remedies       1.00      1.00      1.00       713\n",
      "                           Sentencing       1.00      1.00      1.00       817\n",
      "                              Tax Law       1.00      1.00      1.00       761\n",
      "\n",
      "                             accuracy                           1.00     17729\n",
      "                            macro avg       1.00      1.00      1.00     17729\n",
      "                         weighted avg       1.00      1.00      1.00     17729\n",
      "\n",
      "                                       precision    recall  f1-score   support\n",
      "\n",
      "                   Administrative Law       0.48      0.29      0.36       197\n",
      "                      Attorney's Fees       0.72      0.77      0.74       229\n",
      "                       Bankruptcy Law       0.76      0.90      0.82       183\n",
      "                      Civil Procedure       0.53      0.43      0.48       132\n",
      "                       Commercial Law       0.58      0.47      0.52       159\n",
      "                            Contracts       0.60      0.52      0.56       221\n",
      " Dispute Resolution &amp; Arbitration       0.73      0.89      0.80       168\n",
      "                        Education Law       0.77      0.80      0.79       170\n",
      "                    Environmental Law       0.80      0.89      0.84       178\n",
      "                             Evidence       0.73      0.63      0.68       171\n",
      "                           Family Law       0.90      0.92      0.91       224\n",
      "                  Government Benefits       0.72      0.60      0.65       181\n",
      "                        Habeas Corpus       0.87      0.95      0.91       296\n",
      "                           Health Law       0.67      0.66      0.66       313\n",
      "                      Immigration Law       0.83      0.95      0.89       478\n",
      "                Injury &amp; Tort Law       0.65      0.57      0.60       205\n",
      "                        Insurance Law       0.67      0.81      0.73       313\n",
      "                             Remedies       0.57      0.42      0.49       170\n",
      "                           Sentencing       0.85      0.82      0.83       215\n",
      "                              Tax Law       0.82      0.87      0.85       230\n",
      "\n",
      "                             accuracy                           0.74      4433\n",
      "                            macro avg       0.71      0.71      0.71      4433\n",
      "                         weighted avg       0.73      0.74      0.73      4433\n",
      "\n"
     ]
    },
    {
     "data": {
      "text/plain": [
       "XGBClassifier(base_score=0.5, booster='gbtree', colsample_bylevel=1,\n",
       "              colsample_bynode=1, colsample_bytree=1, gamma=0, gpu_id=-1,\n",
       "              importance_type='gain', interaction_constraints='',\n",
       "              learning_rate=0.300000012, max_delta_step=0, max_depth=6,\n",
       "              min_child_weight=1, missing=nan, monotone_constraints='()',\n",
       "              n_estimators=100, n_jobs=0, num_parallel_tree=1,\n",
       "              objective='multi:softprob', random_state=0, reg_alpha=0,\n",
       "              reg_lambda=1, scale_pos_weight=None, subsample=1,\n",
       "              tree_method='exact', validate_parameters=1, verbosity=None)"
      ]
     },
     "execution_count": 30,
     "metadata": {},
     "output_type": "execute_result"
    }
   ],
   "source": [
    "run_model(xboost_base,Xtrain_trans,Ytrain,Xtest_Trans,Ytest)"
   ]
  },
  {
   "cell_type": "code",
   "execution_count": 31,
   "metadata": {
    "scrolled": true
   },
   "outputs": [
    {
     "name": "stdout",
     "output_type": "stream",
     "text": [
      "                                       precision    recall  f1-score   support\n",
      "\n",
      "                   Administrative Law       1.00      0.71      0.83       856\n",
      "                      Attorney's Fees       0.98      0.98      0.98       805\n",
      "                       Bankruptcy Law       0.92      1.00      0.95       805\n",
      "                      Civil Procedure       1.00      0.87      0.93       577\n",
      "                       Commercial Law       1.00      0.89      0.94       612\n",
      "                            Contracts       0.96      0.91      0.93       838\n",
      " Dispute Resolution &amp; Arbitration       0.98      0.99      0.98       696\n",
      "                        Education Law       0.99      0.99      0.99       766\n",
      "                    Environmental Law       0.99      0.99      0.99       846\n",
      "                             Evidence       1.00      0.96      0.98       741\n",
      "                           Family Law       1.00      0.98      0.99       979\n",
      "                  Government Benefits       0.99      0.98      0.99       655\n",
      "                        Habeas Corpus       0.97      0.99      0.98      1215\n",
      "                           Health Law       0.94      0.98      0.96      1142\n",
      "                      Immigration Law       0.87      1.00      0.93      1854\n",
      "                Injury &amp; Tort Law       1.00      0.95      0.97       795\n",
      "                        Insurance Law       0.89      0.99      0.94      1256\n",
      "                             Remedies       1.00      0.90      0.95       713\n",
      "                           Sentencing       0.98      0.99      0.98       817\n",
      "                              Tax Law       0.98      0.99      0.98       761\n",
      "\n",
      "                             accuracy                           0.96     17729\n",
      "                            macro avg       0.97      0.95      0.96     17729\n",
      "                         weighted avg       0.96      0.96      0.96     17729\n",
      "\n",
      "                                       precision    recall  f1-score   support\n",
      "\n",
      "                   Administrative Law       0.32      0.04      0.07       197\n",
      "                      Attorney's Fees       0.66      0.66      0.66       229\n",
      "                       Bankruptcy Law       0.68      0.90      0.77       183\n",
      "                      Civil Procedure       0.57      0.03      0.06       132\n",
      "                       Commercial Law       0.93      0.09      0.16       159\n",
      "                            Contracts       0.42      0.26      0.32       221\n",
      " Dispute Resolution &amp; Arbitration       0.66      0.87      0.75       168\n",
      "                        Education Law       0.75      0.76      0.76       170\n",
      "                    Environmental Law       0.66      0.89      0.76       178\n",
      "                             Evidence       0.65      0.58      0.61       171\n",
      "                           Family Law       0.81      0.89      0.85       224\n",
      "                  Government Benefits       0.78      0.44      0.56       181\n",
      "                        Habeas Corpus       0.83      0.96      0.89       296\n",
      "                           Health Law       0.44      0.68      0.54       313\n",
      "                      Immigration Law       0.75      0.97      0.85       478\n",
      "                Injury &amp; Tort Law       0.60      0.29      0.39       205\n",
      "                        Insurance Law       0.46      0.88      0.60       313\n",
      "                             Remedies       0.54      0.08      0.14       170\n",
      "                           Sentencing       0.69      0.80      0.74       215\n",
      "                              Tax Law       0.81      0.78      0.80       230\n",
      "\n",
      "                             accuracy                           0.65      4433\n",
      "                            macro avg       0.65      0.59      0.56      4433\n",
      "                         weighted avg       0.65      0.65      0.60      4433\n",
      "\n"
     ]
    },
    {
     "data": {
      "text/plain": [
       "RandomForestClassifier(max_depth=20)"
      ]
     },
     "execution_count": 31,
     "metadata": {},
     "output_type": "execute_result"
    }
   ],
   "source": [
    "run_model(random_base,Xtrain_trans,Ytrain,Xtest_Trans,Ytest)"
   ]
  },
  {
   "cell_type": "code",
   "execution_count": 32,
   "metadata": {
    "scrolled": true
   },
   "outputs": [
    {
     "name": "stdout",
     "output_type": "stream",
     "text": [
      "                                       precision    recall  f1-score   support\n",
      "\n",
      "                   Administrative Law       1.00      1.00      1.00       856\n",
      "                      Attorney's Fees       1.00      1.00      1.00       805\n",
      "                       Bankruptcy Law       1.00      1.00      1.00       805\n",
      "                      Civil Procedure       1.00      1.00      1.00       577\n",
      "                       Commercial Law       1.00      1.00      1.00       612\n",
      "                            Contracts       1.00      1.00      1.00       838\n",
      " Dispute Resolution &amp; Arbitration       1.00      1.00      1.00       696\n",
      "                        Education Law       1.00      1.00      1.00       766\n",
      "                    Environmental Law       1.00      1.00      1.00       846\n",
      "                             Evidence       1.00      1.00      1.00       741\n",
      "                           Family Law       1.00      1.00      1.00       979\n",
      "                  Government Benefits       1.00      1.00      1.00       655\n",
      "                        Habeas Corpus       1.00      1.00      1.00      1215\n",
      "                           Health Law       1.00      1.00      1.00      1142\n",
      "                      Immigration Law       1.00      1.00      1.00      1854\n",
      "                Injury &amp; Tort Law       1.00      1.00      1.00       795\n",
      "                        Insurance Law       1.00      1.00      1.00      1256\n",
      "                             Remedies       1.00      1.00      1.00       713\n",
      "                           Sentencing       1.00      1.00      1.00       817\n",
      "                              Tax Law       1.00      1.00      1.00       761\n",
      "\n",
      "                             accuracy                           1.00     17729\n",
      "                            macro avg       1.00      1.00      1.00     17729\n",
      "                         weighted avg       1.00      1.00      1.00     17729\n",
      "\n",
      "                                       precision    recall  f1-score   support\n",
      "\n",
      "                   Administrative Law       0.24      0.24      0.24       197\n",
      "                      Attorney's Fees       0.59      0.52      0.55       229\n",
      "                       Bankruptcy Law       0.69      0.72      0.70       183\n",
      "                      Civil Procedure       0.25      0.29      0.27       132\n",
      "                       Commercial Law       0.30      0.31      0.31       159\n",
      "                            Contracts       0.33      0.33      0.33       221\n",
      " Dispute Resolution &amp; Arbitration       0.66      0.65      0.65       168\n",
      "                        Education Law       0.56      0.56      0.56       170\n",
      "                    Environmental Law       0.61      0.62      0.61       178\n",
      "                             Evidence       0.45      0.49      0.47       171\n",
      "                           Family Law       0.69      0.71      0.70       224\n",
      "                  Government Benefits       0.49      0.46      0.48       181\n",
      "                        Habeas Corpus       0.82      0.87      0.84       296\n",
      "                           Health Law       0.44      0.42      0.43       313\n",
      "                      Immigration Law       0.81      0.74      0.77       478\n",
      "                Injury &amp; Tort Law       0.31      0.32      0.32       205\n",
      "                        Insurance Law       0.61      0.65      0.63       313\n",
      "                             Remedies       0.20      0.20      0.20       170\n",
      "                           Sentencing       0.68      0.67      0.67       215\n",
      "                              Tax Law       0.71      0.71      0.71       230\n",
      "\n",
      "                             accuracy                           0.55      4433\n",
      "                            macro avg       0.52      0.52      0.52      4433\n",
      "                         weighted avg       0.56      0.55      0.55      4433\n",
      "\n"
     ]
    },
    {
     "data": {
      "text/plain": [
       "DecisionTreeClassifier()"
      ]
     },
     "execution_count": 32,
     "metadata": {},
     "output_type": "execute_result"
    }
   ],
   "source": [
    "run_model(tree_base,Xtrain_trans,Ytrain,Xtest_Trans,Ytest)"
   ]
  },
  {
   "cell_type": "code",
   "execution_count": 33,
   "metadata": {
    "scrolled": true
   },
   "outputs": [
    {
     "name": "stdout",
     "output_type": "stream",
     "text": [
      "                                       precision    recall  f1-score   support\n",
      "\n",
      "                   Administrative Law       0.43      0.43      0.43       856\n",
      "                      Attorney's Fees       0.52      0.72      0.60       805\n",
      "                       Bankruptcy Law       0.66      0.86      0.75       805\n",
      "                      Civil Procedure       0.48      0.45      0.47       577\n",
      "                       Commercial Law       0.61      0.52      0.56       612\n",
      "                            Contracts       0.57      0.45      0.50       838\n",
      " Dispute Resolution &amp; Arbitration       0.76      0.80      0.78       696\n",
      "                        Education Law       0.71      0.77      0.74       766\n",
      "                    Environmental Law       0.80      0.85      0.82       846\n",
      "                             Evidence       0.66      0.62      0.64       741\n",
      "                           Family Law       0.84      0.85      0.85       979\n",
      "                  Government Benefits       0.65      0.78      0.71       655\n",
      "                        Habeas Corpus       0.66      0.85      0.75      1215\n",
      "                           Health Law       0.66      0.51      0.57      1142\n",
      "                      Immigration Law       0.79      0.90      0.84      1854\n",
      "                Injury &amp; Tort Law       0.68      0.38      0.49       795\n",
      "                        Insurance Law       0.75      0.71      0.73      1256\n",
      "                             Remedies       0.66      0.36      0.47       713\n",
      "                           Sentencing       0.77      0.69      0.73       817\n",
      "                              Tax Law       0.79      0.78      0.79       761\n",
      "\n",
      "                             accuracy                           0.69     17729\n",
      "                            macro avg       0.67      0.66      0.66     17729\n",
      "                         weighted avg       0.68      0.69      0.68     17729\n",
      "\n",
      "                                       precision    recall  f1-score   support\n",
      "\n",
      "                   Administrative Law       0.20      0.22      0.21       197\n",
      "                      Attorney's Fees       0.43      0.56      0.48       229\n",
      "                       Bankruptcy Law       0.49      0.68      0.57       183\n",
      "                      Civil Procedure       0.19      0.23      0.21       132\n",
      "                       Commercial Law       0.35      0.31      0.33       159\n",
      "                            Contracts       0.27      0.19      0.23       221\n",
      " Dispute Resolution &amp; Arbitration       0.63      0.68      0.66       168\n",
      "                        Education Law       0.64      0.71      0.68       170\n",
      "                    Environmental Law       0.71      0.77      0.74       178\n",
      "                             Evidence       0.51      0.44      0.47       171\n",
      "                           Family Law       0.73      0.83      0.78       224\n",
      "                  Government Benefits       0.59      0.63      0.61       181\n",
      "                        Habeas Corpus       0.59      0.78      0.67       296\n",
      "                           Health Law       0.53      0.36      0.43       313\n",
      "                      Immigration Law       0.75      0.82      0.78       478\n",
      "                Injury &amp; Tort Law       0.39      0.20      0.26       205\n",
      "                        Insurance Law       0.62      0.66      0.64       313\n",
      "                             Remedies       0.44      0.22      0.30       170\n",
      "                           Sentencing       0.69      0.61      0.65       215\n",
      "                              Tax Law       0.77      0.68      0.72       230\n",
      "\n",
      "                             accuracy                           0.56      4433\n",
      "                            macro avg       0.53      0.53      0.52      4433\n",
      "                         weighted avg       0.55      0.56      0.55      4433\n",
      "\n"
     ]
    },
    {
     "data": {
      "text/plain": [
       "KNeighborsClassifier()"
      ]
     },
     "execution_count": 33,
     "metadata": {},
     "output_type": "execute_result"
    }
   ],
   "source": [
    "run_model(knn_base,Xtrain_trans,Ytrain,Xtest_Trans,Ytest)"
   ]
  },
  {
   "cell_type": "code",
   "execution_count": 30,
   "metadata": {},
   "outputs": [],
   "source": [
    "# Xtrain2,Xtest2,Ytrain2,Ytest2,origtfidfmodelvec2,Xtrain_trans2,Xtest_Trans2=clean_by_case_data(True,data_frame20)\n",
    "tester,relevant_target=clean_by_case_data(True,data_frame20)"
   ]
  },
  {
   "cell_type": "code",
   "execution_count": 31,
   "metadata": {},
   "outputs": [],
   "source": [
    "tester2=pd.DataFrame(tester).T\n"
   ]
  },
  {
   "cell_type": "code",
   "execution_count": 35,
   "metadata": {},
   "outputs": [
    {
     "data": {
      "text/plain": [
       "(22162, 13272)"
      ]
     },
     "execution_count": 35,
     "metadata": {},
     "output_type": "execute_result"
    }
   ],
   "source": [
    "tester2.shape"
   ]
  },
  {
   "cell_type": "code",
   "execution_count": 26,
   "metadata": {},
   "outputs": [],
   "source": [
    "relative_trainX, relative_testX, relative_trainy, relative_testy = train_test_split(tester2, relevant_target, test_size=0.20, random_state=1)"
   ]
  },
  {
   "cell_type": "code",
   "execution_count": 48,
   "metadata": {},
   "outputs": [
    {
     "data": {
      "text/html": [
       "<div>\n",
       "<style scoped>\n",
       "    .dataframe tbody tr th:only-of-type {\n",
       "        vertical-align: middle;\n",
       "    }\n",
       "\n",
       "    .dataframe tbody tr th {\n",
       "        vertical-align: top;\n",
       "    }\n",
       "\n",
       "    .dataframe thead th {\n",
       "        text-align: right;\n",
       "    }\n",
       "</style>\n",
       "<table border=\"1\" class=\"dataframe\">\n",
       "  <thead>\n",
       "    <tr style=\"text-align: right;\">\n",
       "      <th></th>\n",
       "      <th>00</th>\n",
       "      <th>000</th>\n",
       "      <th>001</th>\n",
       "      <th>002</th>\n",
       "      <th>003</th>\n",
       "      <th>01</th>\n",
       "      <th>010</th>\n",
       "      <th>02</th>\n",
       "      <th>020</th>\n",
       "      <th>03</th>\n",
       "      <th>...</th>\n",
       "      <th>zhao</th>\n",
       "      <th>zheng</th>\n",
       "      <th>zhou</th>\n",
       "      <th>zhu</th>\n",
       "      <th>zimmer</th>\n",
       "      <th>zimmerman</th>\n",
       "      <th>zip</th>\n",
       "      <th>zone</th>\n",
       "      <th>zoning</th>\n",
       "      <th>zurich</th>\n",
       "    </tr>\n",
       "  </thead>\n",
       "  <tbody>\n",
       "    <tr>\n",
       "      <th>0</th>\n",
       "      <td>0.000000</td>\n",
       "      <td>0.000000</td>\n",
       "      <td>0.0</td>\n",
       "      <td>0.0</td>\n",
       "      <td>0.0</td>\n",
       "      <td>0.000000</td>\n",
       "      <td>0.0</td>\n",
       "      <td>0.000000</td>\n",
       "      <td>0.0</td>\n",
       "      <td>0.0</td>\n",
       "      <td>...</td>\n",
       "      <td>0.0</td>\n",
       "      <td>0.000000</td>\n",
       "      <td>0.0</td>\n",
       "      <td>0.0</td>\n",
       "      <td>0.0</td>\n",
       "      <td>0.00000</td>\n",
       "      <td>0.0</td>\n",
       "      <td>0.0</td>\n",
       "      <td>0.0</td>\n",
       "      <td>0.0</td>\n",
       "    </tr>\n",
       "    <tr>\n",
       "      <th>1</th>\n",
       "      <td>0.000000</td>\n",
       "      <td>0.000000</td>\n",
       "      <td>0.0</td>\n",
       "      <td>0.0</td>\n",
       "      <td>0.0</td>\n",
       "      <td>0.000000</td>\n",
       "      <td>0.0</td>\n",
       "      <td>0.105602</td>\n",
       "      <td>0.0</td>\n",
       "      <td>0.0</td>\n",
       "      <td>...</td>\n",
       "      <td>0.0</td>\n",
       "      <td>0.000000</td>\n",
       "      <td>0.0</td>\n",
       "      <td>0.0</td>\n",
       "      <td>0.0</td>\n",
       "      <td>0.00000</td>\n",
       "      <td>0.0</td>\n",
       "      <td>0.0</td>\n",
       "      <td>0.0</td>\n",
       "      <td>0.0</td>\n",
       "    </tr>\n",
       "    <tr>\n",
       "      <th>2</th>\n",
       "      <td>0.013217</td>\n",
       "      <td>0.000000</td>\n",
       "      <td>0.0</td>\n",
       "      <td>0.0</td>\n",
       "      <td>0.0</td>\n",
       "      <td>0.000000</td>\n",
       "      <td>0.0</td>\n",
       "      <td>0.000000</td>\n",
       "      <td>0.0</td>\n",
       "      <td>0.0</td>\n",
       "      <td>...</td>\n",
       "      <td>0.0</td>\n",
       "      <td>0.000000</td>\n",
       "      <td>0.0</td>\n",
       "      <td>0.0</td>\n",
       "      <td>0.0</td>\n",
       "      <td>0.00000</td>\n",
       "      <td>0.0</td>\n",
       "      <td>0.0</td>\n",
       "      <td>0.0</td>\n",
       "      <td>0.0</td>\n",
       "    </tr>\n",
       "    <tr>\n",
       "      <th>3</th>\n",
       "      <td>0.005516</td>\n",
       "      <td>0.007281</td>\n",
       "      <td>0.0</td>\n",
       "      <td>0.0</td>\n",
       "      <td>0.0</td>\n",
       "      <td>0.000000</td>\n",
       "      <td>0.0</td>\n",
       "      <td>0.000000</td>\n",
       "      <td>0.0</td>\n",
       "      <td>0.0</td>\n",
       "      <td>...</td>\n",
       "      <td>0.0</td>\n",
       "      <td>0.000000</td>\n",
       "      <td>0.0</td>\n",
       "      <td>0.0</td>\n",
       "      <td>0.0</td>\n",
       "      <td>0.01046</td>\n",
       "      <td>0.0</td>\n",
       "      <td>0.0</td>\n",
       "      <td>0.0</td>\n",
       "      <td>0.0</td>\n",
       "    </tr>\n",
       "    <tr>\n",
       "      <th>4</th>\n",
       "      <td>0.000000</td>\n",
       "      <td>0.000000</td>\n",
       "      <td>0.0</td>\n",
       "      <td>0.0</td>\n",
       "      <td>0.0</td>\n",
       "      <td>0.000000</td>\n",
       "      <td>0.0</td>\n",
       "      <td>0.000000</td>\n",
       "      <td>0.0</td>\n",
       "      <td>0.0</td>\n",
       "      <td>...</td>\n",
       "      <td>0.0</td>\n",
       "      <td>0.000000</td>\n",
       "      <td>0.0</td>\n",
       "      <td>0.0</td>\n",
       "      <td>0.0</td>\n",
       "      <td>0.00000</td>\n",
       "      <td>0.0</td>\n",
       "      <td>0.0</td>\n",
       "      <td>0.0</td>\n",
       "      <td>0.0</td>\n",
       "    </tr>\n",
       "    <tr>\n",
       "      <th>...</th>\n",
       "      <td>...</td>\n",
       "      <td>...</td>\n",
       "      <td>...</td>\n",
       "      <td>...</td>\n",
       "      <td>...</td>\n",
       "      <td>...</td>\n",
       "      <td>...</td>\n",
       "      <td>...</td>\n",
       "      <td>...</td>\n",
       "      <td>...</td>\n",
       "      <td>...</td>\n",
       "      <td>...</td>\n",
       "      <td>...</td>\n",
       "      <td>...</td>\n",
       "      <td>...</td>\n",
       "      <td>...</td>\n",
       "      <td>...</td>\n",
       "      <td>...</td>\n",
       "      <td>...</td>\n",
       "      <td>...</td>\n",
       "      <td>...</td>\n",
       "    </tr>\n",
       "    <tr>\n",
       "      <th>17724</th>\n",
       "      <td>0.000000</td>\n",
       "      <td>0.022905</td>\n",
       "      <td>0.0</td>\n",
       "      <td>0.0</td>\n",
       "      <td>0.0</td>\n",
       "      <td>0.000000</td>\n",
       "      <td>0.0</td>\n",
       "      <td>0.000000</td>\n",
       "      <td>0.0</td>\n",
       "      <td>0.0</td>\n",
       "      <td>...</td>\n",
       "      <td>0.0</td>\n",
       "      <td>0.000000</td>\n",
       "      <td>0.0</td>\n",
       "      <td>0.0</td>\n",
       "      <td>0.0</td>\n",
       "      <td>0.00000</td>\n",
       "      <td>0.0</td>\n",
       "      <td>0.0</td>\n",
       "      <td>0.0</td>\n",
       "      <td>0.0</td>\n",
       "    </tr>\n",
       "    <tr>\n",
       "      <th>17725</th>\n",
       "      <td>0.015586</td>\n",
       "      <td>0.000000</td>\n",
       "      <td>0.0</td>\n",
       "      <td>0.0</td>\n",
       "      <td>0.0</td>\n",
       "      <td>0.000000</td>\n",
       "      <td>0.0</td>\n",
       "      <td>0.000000</td>\n",
       "      <td>0.0</td>\n",
       "      <td>0.0</td>\n",
       "      <td>...</td>\n",
       "      <td>0.0</td>\n",
       "      <td>0.000000</td>\n",
       "      <td>0.0</td>\n",
       "      <td>0.0</td>\n",
       "      <td>0.0</td>\n",
       "      <td>0.00000</td>\n",
       "      <td>0.0</td>\n",
       "      <td>0.0</td>\n",
       "      <td>0.0</td>\n",
       "      <td>0.0</td>\n",
       "    </tr>\n",
       "    <tr>\n",
       "      <th>17726</th>\n",
       "      <td>0.000000</td>\n",
       "      <td>0.000000</td>\n",
       "      <td>0.0</td>\n",
       "      <td>0.0</td>\n",
       "      <td>0.0</td>\n",
       "      <td>0.044294</td>\n",
       "      <td>0.0</td>\n",
       "      <td>0.000000</td>\n",
       "      <td>0.0</td>\n",
       "      <td>0.0</td>\n",
       "      <td>...</td>\n",
       "      <td>0.0</td>\n",
       "      <td>0.000000</td>\n",
       "      <td>0.0</td>\n",
       "      <td>0.0</td>\n",
       "      <td>0.0</td>\n",
       "      <td>0.00000</td>\n",
       "      <td>0.0</td>\n",
       "      <td>0.0</td>\n",
       "      <td>0.0</td>\n",
       "      <td>0.0</td>\n",
       "    </tr>\n",
       "    <tr>\n",
       "      <th>17727</th>\n",
       "      <td>0.000000</td>\n",
       "      <td>0.008741</td>\n",
       "      <td>0.0</td>\n",
       "      <td>0.0</td>\n",
       "      <td>0.0</td>\n",
       "      <td>0.000000</td>\n",
       "      <td>0.0</td>\n",
       "      <td>0.000000</td>\n",
       "      <td>0.0</td>\n",
       "      <td>0.0</td>\n",
       "      <td>...</td>\n",
       "      <td>0.0</td>\n",
       "      <td>0.000000</td>\n",
       "      <td>0.0</td>\n",
       "      <td>0.0</td>\n",
       "      <td>0.0</td>\n",
       "      <td>0.00000</td>\n",
       "      <td>0.0</td>\n",
       "      <td>0.0</td>\n",
       "      <td>0.0</td>\n",
       "      <td>0.0</td>\n",
       "    </tr>\n",
       "    <tr>\n",
       "      <th>17728</th>\n",
       "      <td>0.000000</td>\n",
       "      <td>0.000000</td>\n",
       "      <td>0.0</td>\n",
       "      <td>0.0</td>\n",
       "      <td>0.0</td>\n",
       "      <td>0.000000</td>\n",
       "      <td>0.0</td>\n",
       "      <td>0.000000</td>\n",
       "      <td>0.0</td>\n",
       "      <td>0.0</td>\n",
       "      <td>...</td>\n",
       "      <td>0.0</td>\n",
       "      <td>0.433191</td>\n",
       "      <td>0.0</td>\n",
       "      <td>0.0</td>\n",
       "      <td>0.0</td>\n",
       "      <td>0.00000</td>\n",
       "      <td>0.0</td>\n",
       "      <td>0.0</td>\n",
       "      <td>0.0</td>\n",
       "      <td>0.0</td>\n",
       "    </tr>\n",
       "  </tbody>\n",
       "</table>\n",
       "<p>17729 rows × 13366 columns</p>\n",
       "</div>"
      ],
      "text/plain": [
       "             00       000  001  002  003        01  010        02  020   03  \\\n",
       "0      0.000000  0.000000  0.0  0.0  0.0  0.000000  0.0  0.000000  0.0  0.0   \n",
       "1      0.000000  0.000000  0.0  0.0  0.0  0.000000  0.0  0.105602  0.0  0.0   \n",
       "2      0.013217  0.000000  0.0  0.0  0.0  0.000000  0.0  0.000000  0.0  0.0   \n",
       "3      0.005516  0.007281  0.0  0.0  0.0  0.000000  0.0  0.000000  0.0  0.0   \n",
       "4      0.000000  0.000000  0.0  0.0  0.0  0.000000  0.0  0.000000  0.0  0.0   \n",
       "...         ...       ...  ...  ...  ...       ...  ...       ...  ...  ...   \n",
       "17724  0.000000  0.022905  0.0  0.0  0.0  0.000000  0.0  0.000000  0.0  0.0   \n",
       "17725  0.015586  0.000000  0.0  0.0  0.0  0.000000  0.0  0.000000  0.0  0.0   \n",
       "17726  0.000000  0.000000  0.0  0.0  0.0  0.044294  0.0  0.000000  0.0  0.0   \n",
       "17727  0.000000  0.008741  0.0  0.0  0.0  0.000000  0.0  0.000000  0.0  0.0   \n",
       "17728  0.000000  0.000000  0.0  0.0  0.0  0.000000  0.0  0.000000  0.0  0.0   \n",
       "\n",
       "       ...  zhao     zheng  zhou  zhu  zimmer  zimmerman  zip  zone  zoning  \\\n",
       "0      ...   0.0  0.000000   0.0  0.0     0.0    0.00000  0.0   0.0     0.0   \n",
       "1      ...   0.0  0.000000   0.0  0.0     0.0    0.00000  0.0   0.0     0.0   \n",
       "2      ...   0.0  0.000000   0.0  0.0     0.0    0.00000  0.0   0.0     0.0   \n",
       "3      ...   0.0  0.000000   0.0  0.0     0.0    0.01046  0.0   0.0     0.0   \n",
       "4      ...   0.0  0.000000   0.0  0.0     0.0    0.00000  0.0   0.0     0.0   \n",
       "...    ...   ...       ...   ...  ...     ...        ...  ...   ...     ...   \n",
       "17724  ...   0.0  0.000000   0.0  0.0     0.0    0.00000  0.0   0.0     0.0   \n",
       "17725  ...   0.0  0.000000   0.0  0.0     0.0    0.00000  0.0   0.0     0.0   \n",
       "17726  ...   0.0  0.000000   0.0  0.0     0.0    0.00000  0.0   0.0     0.0   \n",
       "17727  ...   0.0  0.000000   0.0  0.0     0.0    0.00000  0.0   0.0     0.0   \n",
       "17728  ...   0.0  0.433191   0.0  0.0     0.0    0.00000  0.0   0.0     0.0   \n",
       "\n",
       "       zurich  \n",
       "0         0.0  \n",
       "1         0.0  \n",
       "2         0.0  \n",
       "3         0.0  \n",
       "4         0.0  \n",
       "...       ...  \n",
       "17724     0.0  \n",
       "17725     0.0  \n",
       "17726     0.0  \n",
       "17727     0.0  \n",
       "17728     0.0  \n",
       "\n",
       "[17729 rows x 13366 columns]"
      ]
     },
     "execution_count": 48,
     "metadata": {},
     "output_type": "execute_result"
    }
   ],
   "source": [
    "Xtrain_trans2"
   ]
  },
  {
   "cell_type": "code",
   "execution_count": null,
   "metadata": {},
   "outputs": [],
   "source": [
    "# knn_base tree_base random_base log_base xboost_base dt_base bagged_base ada_base gb_base mnb_base"
   ]
  },
  {
   "cell_type": "code",
   "execution_count": 37,
   "metadata": {
    "scrolled": true
   },
   "outputs": [
    {
     "name": "stdout",
     "output_type": "stream",
     "text": [
      "                                       precision    recall  f1-score   support\n",
      "\n",
      "                   Administrative Law       0.51      0.46      0.48       856\n",
      "                      Attorney's Fees       0.29      0.85      0.43       805\n",
      "                       Bankruptcy Law       0.76      0.80      0.78       805\n",
      "                      Civil Procedure       0.47      0.34      0.40       577\n",
      "                       Commercial Law       0.65      0.38      0.48       612\n",
      "                            Contracts       0.36      0.61      0.46       838\n",
      " Dispute Resolution &amp; Arbitration       0.80      0.80      0.80       696\n",
      "                        Education Law       0.73      0.74      0.74       766\n",
      "                    Environmental Law       0.86      0.71      0.78       846\n",
      "                             Evidence       0.71      0.48      0.57       741\n",
      "                           Family Law       0.95      0.71      0.81       979\n",
      "                  Government Benefits       0.80      0.56      0.66       655\n",
      "                        Habeas Corpus       0.77      0.90      0.83      1215\n",
      "                           Health Law       0.61      0.64      0.63      1142\n",
      "                      Immigration Law       0.81      0.89      0.85      1854\n",
      "                Injury &amp; Tort Law       0.76      0.26      0.39       795\n",
      "                        Insurance Law       0.81      0.59      0.68      1256\n",
      "                             Remedies       0.70      0.23      0.35       713\n",
      "                           Sentencing       0.65      0.80      0.72       817\n",
      "                              Tax Law       0.85      0.70      0.77       761\n",
      "\n",
      "                             accuracy                           0.65     17729\n",
      "                            macro avg       0.69      0.62      0.63     17729\n",
      "                         weighted avg       0.71      0.65      0.65     17729\n",
      "\n",
      "                                       precision    recall  f1-score   support\n",
      "\n",
      "                   Administrative Law       0.23      0.20      0.22       197\n",
      "                      Attorney's Fees       0.24      0.72      0.36       229\n",
      "                       Bankruptcy Law       0.64      0.69      0.66       183\n",
      "                      Civil Procedure       0.22      0.19      0.20       132\n",
      "                       Commercial Law       0.34      0.18      0.23       159\n",
      "                            Contracts       0.15      0.29      0.20       221\n",
      " Dispute Resolution &amp; Arbitration       0.73      0.76      0.74       168\n",
      "                        Education Law       0.69      0.64      0.67       170\n",
      "                    Environmental Law       0.85      0.58      0.69       178\n",
      "                             Evidence       0.50      0.29      0.37       171\n",
      "                           Family Law       0.93      0.65      0.77       224\n",
      "                  Government Benefits       0.71      0.40      0.51       181\n",
      "                        Habeas Corpus       0.69      0.87      0.77       296\n",
      "                           Health Law       0.47      0.46      0.46       313\n",
      "                      Immigration Law       0.80      0.81      0.80       478\n",
      "                Injury &amp; Tort Law       0.41      0.10      0.16       205\n",
      "                        Insurance Law       0.68      0.51      0.58       313\n",
      "                             Remedies       0.42      0.11      0.17       170\n",
      "                           Sentencing       0.52      0.68      0.59       215\n",
      "                              Tax Law       0.82      0.62      0.70       230\n",
      "\n",
      "                             accuracy                           0.53      4433\n",
      "                            macro avg       0.55      0.49      0.49      4433\n",
      "                         weighted avg       0.57      0.53      0.53      4433\n",
      "\n"
     ]
    },
    {
     "data": {
      "text/plain": [
       "KNeighborsClassifier()"
      ]
     },
     "execution_count": 37,
     "metadata": {},
     "output_type": "execute_result"
    }
   ],
   "source": [
    "run_model(knn_base,relative_trainX,relative_trainy,relative_testX,relative_testy)"
   ]
  },
  {
   "cell_type": "code",
   "execution_count": 43,
   "metadata": {
    "scrolled": true
   },
   "outputs": [
    {
     "name": "stdout",
     "output_type": "stream",
     "text": [
      "                                       precision    recall  f1-score   support\n",
      "\n",
      "                   Administrative Law       1.00      1.00      1.00       856\n",
      "                      Attorney's Fees       1.00      1.00      1.00       805\n",
      "                       Bankruptcy Law       1.00      1.00      1.00       805\n",
      "                      Civil Procedure       1.00      1.00      1.00       577\n",
      "                       Commercial Law       1.00      1.00      1.00       612\n",
      "                            Contracts       1.00      1.00      1.00       838\n",
      " Dispute Resolution &amp; Arbitration       1.00      1.00      1.00       696\n",
      "                        Education Law       1.00      1.00      1.00       766\n",
      "                    Environmental Law       1.00      1.00      1.00       846\n",
      "                             Evidence       1.00      1.00      1.00       741\n",
      "                           Family Law       1.00      1.00      1.00       979\n",
      "                  Government Benefits       1.00      1.00      1.00       655\n",
      "                        Habeas Corpus       1.00      1.00      1.00      1215\n",
      "                           Health Law       1.00      1.00      1.00      1142\n",
      "                      Immigration Law       1.00      1.00      1.00      1854\n",
      "                Injury &amp; Tort Law       1.00      1.00      1.00       795\n",
      "                        Insurance Law       1.00      1.00      1.00      1256\n",
      "                             Remedies       1.00      1.00      1.00       713\n",
      "                           Sentencing       1.00      1.00      1.00       817\n",
      "                              Tax Law       1.00      1.00      1.00       761\n",
      "\n",
      "                             accuracy                           1.00     17729\n",
      "                            macro avg       1.00      1.00      1.00     17729\n",
      "                         weighted avg       1.00      1.00      1.00     17729\n",
      "\n",
      "                                       precision    recall  f1-score   support\n",
      "\n",
      "                   Administrative Law       0.16      0.20      0.18       197\n",
      "                      Attorney's Fees       0.58      0.54      0.56       229\n",
      "                       Bankruptcy Law       0.75      0.71      0.73       183\n",
      "                      Civil Procedure       0.21      0.28      0.24       132\n",
      "                       Commercial Law       0.28      0.28      0.28       159\n",
      "                            Contracts       0.29      0.30      0.29       221\n",
      " Dispute Resolution &amp; Arbitration       0.62      0.65      0.64       168\n",
      "                        Education Law       0.58      0.59      0.59       170\n",
      "                    Environmental Law       0.62      0.62      0.62       178\n",
      "                             Evidence       0.45      0.44      0.45       171\n",
      "                           Family Law       0.73      0.75      0.74       224\n",
      "                  Government Benefits       0.42      0.41      0.42       181\n",
      "                        Habeas Corpus       0.84      0.88      0.86       296\n",
      "                           Health Law       0.42      0.39      0.41       313\n",
      "                      Immigration Law       0.81      0.73      0.77       478\n",
      "                Injury &amp; Tort Law       0.32      0.28      0.30       205\n",
      "                        Insurance Law       0.63      0.66      0.64       313\n",
      "                             Remedies       0.21      0.22      0.21       170\n",
      "                           Sentencing       0.63      0.63      0.63       215\n",
      "                              Tax Law       0.75      0.69      0.72       230\n",
      "\n",
      "                             accuracy                           0.54      4433\n",
      "                            macro avg       0.52      0.51      0.51      4433\n",
      "                         weighted avg       0.55      0.54      0.55      4433\n",
      "\n"
     ]
    },
    {
     "data": {
      "text/plain": [
       "DecisionTreeClassifier()"
      ]
     },
     "execution_count": 43,
     "metadata": {},
     "output_type": "execute_result"
    }
   ],
   "source": [
    "run_model(tree_base,relative_trainX,relative_trainy,relative_testX,relative_testy)"
   ]
  },
  {
   "cell_type": "code",
   "execution_count": 44,
   "metadata": {
    "scrolled": true
   },
   "outputs": [
    {
     "name": "stdout",
     "output_type": "stream",
     "text": [
      "                                       precision    recall  f1-score   support\n",
      "\n",
      "                   Administrative Law       1.00      0.79      0.88       856\n",
      "                      Attorney's Fees       0.97      0.99      0.98       805\n",
      "                       Bankruptcy Law       0.92      1.00      0.96       805\n",
      "                      Civil Procedure       1.00      0.85      0.92       577\n",
      "                       Commercial Law       1.00      0.86      0.92       612\n",
      "                            Contracts       0.90      0.95      0.93       838\n",
      " Dispute Resolution &amp; Arbitration       0.97      0.99      0.98       696\n",
      "                        Education Law       0.99      0.99      0.99       766\n",
      "                    Environmental Law       0.98      1.00      0.99       846\n",
      "                             Evidence       1.00      0.95      0.98       741\n",
      "                           Family Law       1.00      0.99      0.99       979\n",
      "                  Government Benefits       0.99      0.98      0.98       655\n",
      "                        Habeas Corpus       0.99      0.99      0.99      1215\n",
      "                           Health Law       0.91      0.98      0.94      1142\n",
      "                      Immigration Law       0.92      1.00      0.96      1854\n",
      "                Injury &amp; Tort Law       0.99      0.94      0.97       795\n",
      "                        Insurance Law       0.94      0.98      0.96      1256\n",
      "                             Remedies       1.00      0.93      0.96       713\n",
      "                           Sentencing       0.98      1.00      0.99       817\n",
      "                              Tax Law       0.97      0.99      0.98       761\n",
      "\n",
      "                             accuracy                           0.96     17729\n",
      "                            macro avg       0.97      0.96      0.96     17729\n",
      "                         weighted avg       0.97      0.96      0.96     17729\n",
      "\n",
      "                                       precision    recall  f1-score   support\n",
      "\n",
      "                   Administrative Law       0.42      0.04      0.07       197\n",
      "                      Attorney's Fees       0.67      0.73      0.70       229\n",
      "                       Bankruptcy Law       0.68      0.88      0.77       183\n",
      "                      Civil Procedure       0.71      0.09      0.16       132\n",
      "                       Commercial Law       0.69      0.16      0.26       159\n",
      "                            Contracts       0.42      0.42      0.42       221\n",
      " Dispute Resolution &amp; Arbitration       0.66      0.89      0.76       168\n",
      "                        Education Law       0.74      0.81      0.78       170\n",
      "                    Environmental Law       0.70      0.94      0.80       178\n",
      "                             Evidence       0.63      0.61      0.62       171\n",
      "                           Family Law       0.85      0.91      0.88       224\n",
      "                  Government Benefits       0.76      0.51      0.61       181\n",
      "                        Habeas Corpus       0.87      0.95      0.91       296\n",
      "                           Health Law       0.49      0.70      0.57       313\n",
      "                      Immigration Law       0.81      0.97      0.88       478\n",
      "                Injury &amp; Tort Law       0.52      0.39      0.44       205\n",
      "                        Insurance Law       0.59      0.86      0.70       313\n",
      "                             Remedies       0.68      0.16      0.26       170\n",
      "                           Sentencing       0.70      0.81      0.75       215\n",
      "                              Tax Law       0.80      0.81      0.80       230\n",
      "\n",
      "                             accuracy                           0.68      4433\n",
      "                            macro avg       0.67      0.63      0.61      4433\n",
      "                         weighted avg       0.67      0.68      0.64      4433\n",
      "\n"
     ]
    },
    {
     "data": {
      "text/plain": [
       "RandomForestClassifier(max_depth=20)"
      ]
     },
     "execution_count": 44,
     "metadata": {},
     "output_type": "execute_result"
    }
   ],
   "source": [
    "run_model(random_base,relative_trainX,relative_trainy,relative_testX,relative_testy)"
   ]
  },
  {
   "cell_type": "code",
   "execution_count": 45,
   "metadata": {
    "scrolled": true
   },
   "outputs": [
    {
     "name": "stdout",
     "output_type": "stream",
     "text": [
      "                                       precision    recall  f1-score   support\n",
      "\n",
      "                   Administrative Law       1.00      1.00      1.00       856\n",
      "                      Attorney's Fees       1.00      1.00      1.00       805\n",
      "                       Bankruptcy Law       1.00      1.00      1.00       805\n",
      "                      Civil Procedure       1.00      1.00      1.00       577\n",
      "                       Commercial Law       1.00      1.00      1.00       612\n",
      "                            Contracts       1.00      1.00      1.00       838\n",
      " Dispute Resolution &amp; Arbitration       1.00      1.00      1.00       696\n",
      "                        Education Law       1.00      1.00      1.00       766\n",
      "                    Environmental Law       1.00      1.00      1.00       846\n",
      "                             Evidence       1.00      1.00      1.00       741\n",
      "                           Family Law       1.00      1.00      1.00       979\n",
      "                  Government Benefits       1.00      1.00      1.00       655\n",
      "                        Habeas Corpus       1.00      1.00      1.00      1215\n",
      "                           Health Law       1.00      1.00      1.00      1142\n",
      "                      Immigration Law       1.00      1.00      1.00      1854\n",
      "                Injury &amp; Tort Law       1.00      1.00      1.00       795\n",
      "                        Insurance Law       1.00      1.00      1.00      1256\n",
      "                             Remedies       1.00      1.00      1.00       713\n",
      "                           Sentencing       1.00      1.00      1.00       817\n",
      "                              Tax Law       1.00      1.00      1.00       761\n",
      "\n",
      "                             accuracy                           1.00     17729\n",
      "                            macro avg       1.00      1.00      1.00     17729\n",
      "                         weighted avg       1.00      1.00      1.00     17729\n",
      "\n",
      "                                       precision    recall  f1-score   support\n",
      "\n",
      "                   Administrative Law       0.28      0.27      0.28       197\n",
      "                      Attorney's Fees       0.63      0.62      0.62       229\n",
      "                       Bankruptcy Law       0.68      0.74      0.71       183\n",
      "                      Civil Procedure       0.40      0.44      0.42       132\n",
      "                       Commercial Law       0.42      0.42      0.42       159\n",
      "                            Contracts       0.45      0.40      0.42       221\n",
      " Dispute Resolution &amp; Arbitration       0.72      0.76      0.74       168\n",
      "                        Education Law       0.80      0.76      0.78       170\n",
      "                    Environmental Law       0.80      0.83      0.82       178\n",
      "                             Evidence       0.60      0.60      0.60       171\n",
      "                           Family Law       0.87      0.86      0.86       224\n",
      "                  Government Benefits       0.63      0.55      0.59       181\n",
      "                        Habeas Corpus       0.86      0.91      0.88       296\n",
      "                           Health Law       0.56      0.56      0.56       313\n",
      "                      Immigration Law       0.82      0.78      0.80       478\n",
      "                Injury &amp; Tort Law       0.47      0.51      0.49       205\n",
      "                        Insurance Law       0.65      0.71      0.68       313\n",
      "                             Remedies       0.39      0.40      0.39       170\n",
      "                           Sentencing       0.76      0.75      0.76       215\n",
      "                              Tax Law       0.81      0.77      0.79       230\n",
      "\n",
      "                             accuracy                           0.65      4433\n",
      "                            macro avg       0.63      0.63      0.63      4433\n",
      "                         weighted avg       0.65      0.65      0.65      4433\n",
      "\n"
     ]
    },
    {
     "data": {
      "text/plain": [
       "LogisticRegression(C=1000000000000.0, fit_intercept=False, solver='liblinear')"
      ]
     },
     "execution_count": 45,
     "metadata": {},
     "output_type": "execute_result"
    }
   ],
   "source": [
    "run_model(log_base,relative_trainX,relative_trainy,relative_testX,relative_testy)"
   ]
  },
  {
   "cell_type": "code",
   "execution_count": 46,
   "metadata": {
    "scrolled": true
   },
   "outputs": [
    {
     "name": "stdout",
     "output_type": "stream",
     "text": [
      "                                       precision    recall  f1-score   support\n",
      "\n",
      "                   Administrative Law       1.00      1.00      1.00       856\n",
      "                      Attorney's Fees       1.00      1.00      1.00       805\n",
      "                       Bankruptcy Law       1.00      1.00      1.00       805\n",
      "                      Civil Procedure       1.00      1.00      1.00       577\n",
      "                       Commercial Law       1.00      1.00      1.00       612\n",
      "                            Contracts       1.00      1.00      1.00       838\n",
      " Dispute Resolution &amp; Arbitration       1.00      1.00      1.00       696\n",
      "                        Education Law       1.00      1.00      1.00       766\n",
      "                    Environmental Law       1.00      1.00      1.00       846\n",
      "                             Evidence       1.00      1.00      1.00       741\n",
      "                           Family Law       1.00      1.00      1.00       979\n",
      "                  Government Benefits       1.00      1.00      1.00       655\n",
      "                        Habeas Corpus       1.00      1.00      1.00      1215\n",
      "                           Health Law       1.00      1.00      1.00      1142\n",
      "                      Immigration Law       1.00      1.00      1.00      1854\n",
      "                Injury &amp; Tort Law       1.00      1.00      1.00       795\n",
      "                        Insurance Law       1.00      1.00      1.00      1256\n",
      "                             Remedies       1.00      1.00      1.00       713\n",
      "                           Sentencing       1.00      1.00      1.00       817\n",
      "                              Tax Law       1.00      1.00      1.00       761\n",
      "\n",
      "                             accuracy                           1.00     17729\n",
      "                            macro avg       1.00      1.00      1.00     17729\n",
      "                         weighted avg       1.00      1.00      1.00     17729\n",
      "\n",
      "                                       precision    recall  f1-score   support\n",
      "\n",
      "                   Administrative Law       0.46      0.29      0.36       197\n",
      "                      Attorney's Fees       0.72      0.78      0.75       229\n",
      "                       Bankruptcy Law       0.77      0.90      0.83       183\n",
      "                      Civil Procedure       0.52      0.43      0.47       132\n",
      "                       Commercial Law       0.65      0.52      0.58       159\n",
      "                            Contracts       0.59      0.54      0.57       221\n",
      " Dispute Resolution &amp; Arbitration       0.74      0.88      0.80       168\n",
      "                        Education Law       0.78      0.84      0.81       170\n",
      "                    Environmental Law       0.80      0.89      0.84       178\n",
      "                             Evidence       0.72      0.59      0.65       171\n",
      "                           Family Law       0.90      0.90      0.90       224\n",
      "                  Government Benefits       0.72      0.59      0.65       181\n",
      "                        Habeas Corpus       0.88      0.96      0.92       296\n",
      "                           Health Law       0.69      0.69      0.69       313\n",
      "                      Immigration Law       0.84      0.95      0.89       478\n",
      "                Injury &amp; Tort Law       0.64      0.56      0.60       205\n",
      "                        Insurance Law       0.69      0.82      0.75       313\n",
      "                             Remedies       0.58      0.45      0.51       170\n",
      "                           Sentencing       0.83      0.81      0.82       215\n",
      "                              Tax Law       0.82      0.89      0.85       230\n",
      "\n",
      "                             accuracy                           0.74      4433\n",
      "                            macro avg       0.72      0.71      0.71      4433\n",
      "                         weighted avg       0.73      0.74      0.73      4433\n",
      "\n"
     ]
    },
    {
     "data": {
      "text/plain": [
       "XGBClassifier(base_score=0.5, booster='gbtree', colsample_bylevel=1,\n",
       "              colsample_bynode=1, colsample_bytree=1, gamma=0, gpu_id=-1,\n",
       "              importance_type='gain', interaction_constraints='',\n",
       "              learning_rate=0.300000012, max_delta_step=0, max_depth=6,\n",
       "              min_child_weight=1, missing=nan, monotone_constraints='()',\n",
       "              n_estimators=100, n_jobs=0, num_parallel_tree=1,\n",
       "              objective='multi:softprob', random_state=0, reg_alpha=0,\n",
       "              reg_lambda=1, scale_pos_weight=None, subsample=1,\n",
       "              tree_method='exact', validate_parameters=1, verbosity=None)"
      ]
     },
     "execution_count": 46,
     "metadata": {},
     "output_type": "execute_result"
    }
   ],
   "source": [
    "run_model(xboost_base,relative_trainX,relative_trainy,relative_testX,relative_testy)"
   ]
  },
  {
   "cell_type": "code",
   "execution_count": 47,
   "metadata": {
    "scrolled": true
   },
   "outputs": [
    {
     "name": "stdout",
     "output_type": "stream",
     "text": [
      "                                       precision    recall  f1-score   support\n",
      "\n",
      "                   Administrative Law       1.00      1.00      1.00       856\n",
      "                      Attorney's Fees       1.00      1.00      1.00       805\n",
      "                       Bankruptcy Law       1.00      1.00      1.00       805\n",
      "                      Civil Procedure       1.00      1.00      1.00       577\n",
      "                       Commercial Law       1.00      1.00      1.00       612\n",
      "                            Contracts       1.00      1.00      1.00       838\n",
      " Dispute Resolution &amp; Arbitration       1.00      1.00      1.00       696\n",
      "                        Education Law       1.00      1.00      1.00       766\n",
      "                    Environmental Law       1.00      1.00      1.00       846\n",
      "                             Evidence       1.00      1.00      1.00       741\n",
      "                           Family Law       1.00      1.00      1.00       979\n",
      "                  Government Benefits       1.00      1.00      1.00       655\n",
      "                        Habeas Corpus       1.00      1.00      1.00      1215\n",
      "                           Health Law       1.00      1.00      1.00      1142\n",
      "                      Immigration Law       1.00      1.00      1.00      1854\n",
      "                Injury &amp; Tort Law       1.00      1.00      1.00       795\n",
      "                        Insurance Law       1.00      1.00      1.00      1256\n",
      "                             Remedies       1.00      1.00      1.00       713\n",
      "                           Sentencing       1.00      1.00      1.00       817\n",
      "                              Tax Law       1.00      1.00      1.00       761\n",
      "\n",
      "                             accuracy                           1.00     17729\n",
      "                            macro avg       1.00      1.00      1.00     17729\n",
      "                         weighted avg       1.00      1.00      1.00     17729\n",
      "\n",
      "                                       precision    recall  f1-score   support\n",
      "\n",
      "                   Administrative Law       0.16      0.20      0.18       197\n",
      "                      Attorney's Fees       0.58      0.55      0.56       229\n",
      "                       Bankruptcy Law       0.72      0.72      0.72       183\n",
      "                      Civil Procedure       0.25      0.30      0.27       132\n",
      "                       Commercial Law       0.26      0.28      0.27       159\n",
      "                            Contracts       0.30      0.30      0.30       221\n",
      " Dispute Resolution &amp; Arbitration       0.60      0.61      0.61       168\n",
      "                        Education Law       0.62      0.59      0.61       170\n",
      "                    Environmental Law       0.62      0.62      0.62       178\n",
      "                             Evidence       0.47      0.46      0.46       171\n",
      "                           Family Law       0.75      0.73      0.74       224\n",
      "                  Government Benefits       0.46      0.47      0.46       181\n",
      "                        Habeas Corpus       0.83      0.88      0.85       296\n",
      "                           Health Law       0.42      0.40      0.41       313\n",
      "                      Immigration Law       0.79      0.73      0.76       478\n",
      "                Injury &amp; Tort Law       0.32      0.28      0.30       205\n",
      "                        Insurance Law       0.62      0.66      0.64       313\n",
      "                             Remedies       0.20      0.20      0.20       170\n",
      "                           Sentencing       0.69      0.64      0.66       215\n",
      "                              Tax Law       0.74      0.69      0.71       230\n",
      "\n",
      "                             accuracy                           0.55      4433\n",
      "                            macro avg       0.52      0.52      0.52      4433\n",
      "                         weighted avg       0.55      0.55      0.55      4433\n",
      "\n"
     ]
    },
    {
     "data": {
      "text/plain": [
       "DecisionTreeClassifier()"
      ]
     },
     "execution_count": 47,
     "metadata": {},
     "output_type": "execute_result"
    }
   ],
   "source": [
    "run_model(dt_base,relative_trainX,relative_trainy,relative_testX,relative_testy)"
   ]
  },
  {
   "cell_type": "code",
   "execution_count": 48,
   "metadata": {
    "scrolled": true
   },
   "outputs": [
    {
     "name": "stdout",
     "output_type": "stream",
     "text": [
      "                                       precision    recall  f1-score   support\n",
      "\n",
      "                   Administrative Law       0.99      0.98      0.98       856\n",
      "                      Attorney's Fees       0.98      0.99      0.98       805\n",
      "                       Bankruptcy Law       0.97      1.00      0.98       805\n",
      "                      Civil Procedure       0.99      0.97      0.98       577\n",
      "                       Commercial Law       0.99      0.99      0.99       612\n",
      "                            Contracts       0.99      0.98      0.98       838\n",
      " Dispute Resolution &amp; Arbitration       0.98      0.99      0.99       696\n",
      "                        Education Law       0.97      0.99      0.98       766\n",
      "                    Environmental Law       0.98      0.99      0.99       846\n",
      "                             Evidence       0.99      0.98      0.99       741\n",
      "                           Family Law       0.99      0.99      0.99       979\n",
      "                  Government Benefits       0.99      0.98      0.98       655\n",
      "                        Habeas Corpus       0.99      1.00      0.99      1215\n",
      "                           Health Law       0.99      0.98      0.98      1142\n",
      "                      Immigration Law       0.99      1.00      0.99      1854\n",
      "                Injury &amp; Tort Law       1.00      0.97      0.99       795\n",
      "                        Insurance Law       0.99      0.99      0.99      1256\n",
      "                             Remedies       0.99      0.96      0.98       713\n",
      "                           Sentencing       0.99      0.98      0.99       817\n",
      "                              Tax Law       0.99      0.99      0.99       761\n",
      "\n",
      "                             accuracy                           0.99     17729\n",
      "                            macro avg       0.99      0.99      0.99     17729\n",
      "                         weighted avg       0.99      0.99      0.99     17729\n",
      "\n",
      "                                       precision    recall  f1-score   support\n",
      "\n",
      "                   Administrative Law       0.28      0.22      0.25       197\n",
      "                      Attorney's Fees       0.67      0.64      0.66       229\n",
      "                       Bankruptcy Law       0.74      0.89      0.81       183\n",
      "                      Civil Procedure       0.36      0.33      0.35       132\n",
      "                       Commercial Law       0.35      0.38      0.36       159\n",
      "                            Contracts       0.45      0.41      0.43       221\n",
      " Dispute Resolution &amp; Arbitration       0.67      0.80      0.73       168\n",
      "                        Education Law       0.71      0.78      0.74       170\n",
      "                    Environmental Law       0.70      0.76      0.73       178\n",
      "                             Evidence       0.58      0.55      0.57       171\n",
      "                           Family Law       0.80      0.78      0.79       224\n",
      "                  Government Benefits       0.63      0.54      0.58       181\n",
      "                        Habeas Corpus       0.84      0.92      0.88       296\n",
      "                           Health Law       0.53      0.51      0.52       313\n",
      "                      Immigration Law       0.79      0.90      0.84       478\n",
      "                Injury &amp; Tort Law       0.50      0.36      0.42       205\n",
      "                        Insurance Law       0.64      0.81      0.71       313\n",
      "                             Remedies       0.41      0.22      0.28       170\n",
      "                           Sentencing       0.78      0.71      0.74       215\n",
      "                              Tax Law       0.78      0.80      0.79       230\n",
      "\n",
      "                             accuracy                           0.65      4433\n",
      "                            macro avg       0.61      0.62      0.61      4433\n",
      "                         weighted avg       0.63      0.65      0.64      4433\n",
      "\n"
     ]
    },
    {
     "data": {
      "text/plain": [
       "BaggingClassifier()"
      ]
     },
     "execution_count": 48,
     "metadata": {},
     "output_type": "execute_result"
    }
   ],
   "source": [
    "run_model(bagged_base,relative_trainX,relative_trainy,relative_testX,relative_testy)"
   ]
  },
  {
   "cell_type": "code",
   "execution_count": 49,
   "metadata": {
    "scrolled": true
   },
   "outputs": [
    {
     "name": "stderr",
     "output_type": "stream",
     "text": [
      "C:\\Users\\amird\\anaconda3\\envs\\learn-env\\lib\\site-packages\\sklearn\\metrics\\_classification.py:1221: UndefinedMetricWarning: Precision and F-score are ill-defined and being set to 0.0 in labels with no predicted samples. Use `zero_division` parameter to control this behavior.\n",
      "  _warn_prf(average, modifier, msg_start, len(result))\n"
     ]
    },
    {
     "name": "stdout",
     "output_type": "stream",
     "text": [
      "                                       precision    recall  f1-score   support\n",
      "\n",
      "                   Administrative Law       0.14      0.06      0.09       856\n",
      "                      Attorney's Fees       0.00      0.00      0.00       805\n",
      "                       Bankruptcy Law       0.76      0.82      0.79       805\n",
      "                      Civil Procedure       0.20      0.01      0.01       577\n",
      "                       Commercial Law       0.14      0.02      0.04       612\n",
      "                            Contracts       0.06      0.01      0.01       838\n",
      " Dispute Resolution &amp; Arbitration       0.60      0.92      0.73       696\n",
      "                        Education Law       0.76      0.63      0.69       766\n",
      "                    Environmental Law       0.68      0.77      0.72       846\n",
      "                             Evidence       0.43      0.34      0.38       741\n",
      "                           Family Law       0.80      0.60      0.69       979\n",
      "                  Government Benefits       0.00      0.00      0.00       655\n",
      "                        Habeas Corpus       0.81      0.93      0.87      1215\n",
      "                           Health Law       0.34      0.02      0.04      1142\n",
      "                      Immigration Law       0.77      0.77      0.77      1854\n",
      "                Injury &amp; Tort Law       0.13      0.01      0.02       795\n",
      "                        Insurance Law       0.15      0.82      0.25      1256\n",
      "                             Remedies       0.00      0.00      0.00       713\n",
      "                           Sentencing       0.68      0.71      0.69       817\n",
      "                              Tax Law       0.68      0.91      0.78       761\n",
      "\n",
      "                             accuracy                           0.47     17729\n",
      "                            macro avg       0.41      0.42      0.38     17729\n",
      "                         weighted avg       0.44      0.47      0.42     17729\n",
      "\n",
      "                                       precision    recall  f1-score   support\n",
      "\n",
      "                   Administrative Law       0.12      0.05      0.07       197\n",
      "                      Attorney's Fees       0.00      0.00      0.00       229\n",
      "                       Bankruptcy Law       0.79      0.85      0.82       183\n",
      "                      Civil Procedure       0.00      0.00      0.00       132\n",
      "                       Commercial Law       0.12      0.02      0.03       159\n",
      "                            Contracts       0.17      0.02      0.03       221\n",
      " Dispute Resolution &amp; Arbitration       0.54      0.92      0.68       168\n",
      "                        Education Law       0.77      0.64      0.69       170\n",
      "                    Environmental Law       0.64      0.73      0.68       178\n",
      "                             Evidence       0.38      0.33      0.35       171\n",
      "                           Family Law       0.80      0.63      0.70       224\n",
      "                  Government Benefits       0.00      0.00      0.00       181\n",
      "                        Habeas Corpus       0.80      0.92      0.86       296\n",
      "                           Health Law       0.20      0.01      0.02       313\n",
      "                      Immigration Law       0.81      0.82      0.81       478\n",
      "                Injury &amp; Tort Law       0.05      0.00      0.01       205\n",
      "                        Insurance Law       0.15      0.84      0.25       313\n",
      "                             Remedies       0.00      0.00      0.00       170\n",
      "                           Sentencing       0.73      0.70      0.72       215\n",
      "                              Tax Law       0.73      0.90      0.81       230\n",
      "\n",
      "                             accuracy                           0.46      4433\n",
      "                            macro avg       0.39      0.42      0.38      4433\n",
      "                         weighted avg       0.42      0.46      0.41      4433\n",
      "\n"
     ]
    },
    {
     "data": {
      "text/plain": [
       "AdaBoostClassifier()"
      ]
     },
     "execution_count": 49,
     "metadata": {},
     "output_type": "execute_result"
    }
   ],
   "source": [
    "run_model(ada_base,relative_trainX,relative_trainy,relative_testX,relative_testy)"
   ]
  },
  {
   "cell_type": "code",
   "execution_count": null,
   "metadata": {},
   "outputs": [],
   "source": [
    "# run_model(gb_base,relative_trainX,relative_trainy,relative_testX,relative_testy)\n",
    "#took too long"
   ]
  },
  {
   "cell_type": "code",
   "execution_count": 38,
   "metadata": {
    "scrolled": true
   },
   "outputs": [
    {
     "name": "stdout",
     "output_type": "stream",
     "text": [
      "                                       precision    recall  f1-score   support\n",
      "\n",
      "                   Administrative Law       0.75      0.14      0.23       856\n",
      "                      Attorney's Fees       0.71      0.67      0.69       805\n",
      "                       Bankruptcy Law       0.72      0.90      0.80       805\n",
      "                      Civil Procedure       0.96      0.11      0.20       577\n",
      "                       Commercial Law       0.85      0.25      0.39       612\n",
      "                            Contracts       0.68      0.26      0.38       838\n",
      " Dispute Resolution &amp; Arbitration       0.74      0.82      0.78       696\n",
      "                        Education Law       0.80      0.75      0.78       766\n",
      "                    Environmental Law       0.77      0.89      0.83       846\n",
      "                             Evidence       0.80      0.55      0.65       741\n",
      "                           Family Law       0.87      0.88      0.88       979\n",
      "                  Government Benefits       0.91      0.40      0.55       655\n",
      "                        Habeas Corpus       0.74      0.95      0.83      1215\n",
      "                           Health Law       0.45      0.83      0.59      1142\n",
      "                      Immigration Law       0.73      0.96      0.83      1854\n",
      "                Injury &amp; Tort Law       0.78      0.38      0.51       795\n",
      "                        Insurance Law       0.41      0.90      0.57      1256\n",
      "                             Remedies       0.80      0.14      0.24       713\n",
      "                           Sentencing       0.73      0.81      0.76       817\n",
      "                              Tax Law       0.83      0.80      0.82       761\n",
      "\n",
      "                             accuracy                           0.67     17729\n",
      "                            macro avg       0.75      0.62      0.61     17729\n",
      "                         weighted avg       0.73      0.67      0.64     17729\n",
      "\n",
      "                                       precision    recall  f1-score   support\n",
      "\n",
      "                   Administrative Law       0.46      0.07      0.12       197\n",
      "                      Attorney's Fees       0.70      0.53      0.60       229\n",
      "                       Bankruptcy Law       0.66      0.83      0.73       183\n",
      "                      Civil Procedure       0.69      0.07      0.12       132\n",
      "                       Commercial Law       0.63      0.17      0.27       159\n",
      "                            Contracts       0.52      0.20      0.29       221\n",
      " Dispute Resolution &amp; Arbitration       0.69      0.79      0.74       168\n",
      "                        Education Law       0.75      0.70      0.73       170\n",
      "                    Environmental Law       0.72      0.87      0.79       178\n",
      "                             Evidence       0.68      0.45      0.54       171\n",
      "                           Family Law       0.84      0.88      0.86       224\n",
      "                  Government Benefits       0.83      0.29      0.43       181\n",
      "                        Habeas Corpus       0.71      0.95      0.81       296\n",
      "                           Health Law       0.44      0.77      0.56       313\n",
      "                      Immigration Law       0.75      0.96      0.84       478\n",
      "                Injury &amp; Tort Law       0.57      0.26      0.36       205\n",
      "                        Insurance Law       0.36      0.89      0.51       313\n",
      "                             Remedies       0.76      0.08      0.14       170\n",
      "                           Sentencing       0.73      0.78      0.76       215\n",
      "                              Tax Law       0.82      0.70      0.76       230\n",
      "\n",
      "                             accuracy                           0.62      4433\n",
      "                            macro avg       0.67      0.56      0.55      4433\n",
      "                         weighted avg       0.66      0.62      0.58      4433\n",
      "\n"
     ]
    },
    {
     "data": {
      "text/plain": [
       "MultinomialNB()"
      ]
     },
     "execution_count": 38,
     "metadata": {},
     "output_type": "execute_result"
    }
   ],
   "source": [
    "run_model(mnb_base,relative_trainX,relative_trainy,relative_testX,relative_testy)"
   ]
  },
  {
   "cell_type": "code",
   "execution_count": 42,
   "metadata": {
    "scrolled": true
   },
   "outputs": [
    {
     "data": {
      "text/plain": [
       "(17729, 13272)"
      ]
     },
     "execution_count": 42,
     "metadata": {},
     "output_type": "execute_result"
    }
   ],
   "source": []
  },
  {
   "cell_type": "code",
   "execution_count": null,
   "metadata": {},
   "outputs": [],
   "source": []
  },
  {
   "cell_type": "markdown",
   "metadata": {},
   "source": [
    "## this was terrible lol there seems to be a lot of overfitting, we should try to fix the class imbalance problem.  first lets see if we can used a weighted balance  and or just remove those classes. but we would like not to implement the latter."
   ]
  },
  {
   "cell_type": "code",
   "execution_count": 23,
   "metadata": {},
   "outputs": [],
   "source": [
    "from sklearn.utils import class_weight"
   ]
  },
  {
   "cell_type": "code",
   "execution_count": 28,
   "metadata": {},
   "outputs": [
    {
     "ename": "NameError",
     "evalue": "name 'relative_trainy' is not defined",
     "output_type": "error",
     "traceback": [
      "\u001b[1;31m---------------------------------------------------------------------------\u001b[0m",
      "\u001b[1;31mNameError\u001b[0m                                 Traceback (most recent call last)",
      "\u001b[1;32m<ipython-input-28-b43d234c0211>\u001b[0m in \u001b[0;36m<module>\u001b[1;34m\u001b[0m\n\u001b[1;32m----> 1\u001b[1;33m \u001b[0mclass_weights\u001b[0m \u001b[1;33m=\u001b[0m \u001b[0mclass_weight\u001b[0m\u001b[1;33m.\u001b[0m\u001b[0mcompute_class_weight\u001b[0m\u001b[1;33m(\u001b[0m\u001b[1;34m'balanced'\u001b[0m \u001b[1;33m,\u001b[0m\u001b[0mnp\u001b[0m\u001b[1;33m.\u001b[0m\u001b[0munique\u001b[0m\u001b[1;33m(\u001b[0m\u001b[0mrelative_trainy\u001b[0m\u001b[1;33m)\u001b[0m \u001b[1;33m,\u001b[0m\u001b[0mrelative_trainy\u001b[0m\u001b[1;33m)\u001b[0m\u001b[1;33m\u001b[0m\u001b[1;33m\u001b[0m\u001b[0m\n\u001b[0m",
      "\u001b[1;31mNameError\u001b[0m: name 'relative_trainy' is not defined"
     ]
    }
   ],
   "source": [
    "class_weights = class_weight.compute_class_weight('balanced' ,np.unique(relative_trainy) ,relative_trainy)"
   ]
  },
  {
   "cell_type": "code",
   "execution_count": 29,
   "metadata": {},
   "outputs": [
    {
     "ename": "NameError",
     "evalue": "name 'class_weights' is not defined",
     "output_type": "error",
     "traceback": [
      "\u001b[1;31m---------------------------------------------------------------------------\u001b[0m",
      "\u001b[1;31mNameError\u001b[0m                                 Traceback (most recent call last)",
      "\u001b[1;32m<ipython-input-29-f7568e344059>\u001b[0m in \u001b[0;36m<module>\u001b[1;34m\u001b[0m\n\u001b[1;32m----> 1\u001b[1;33m \u001b[0mclass_weights\u001b[0m\u001b[1;33m\u001b[0m\u001b[1;33m\u001b[0m\u001b[0m\n\u001b[0m\u001b[0;32m      2\u001b[0m \u001b[0munique_y\u001b[0m\u001b[1;33m=\u001b[0m\u001b[0mnp\u001b[0m\u001b[1;33m.\u001b[0m\u001b[0munique\u001b[0m\u001b[1;33m(\u001b[0m\u001b[0mrelative_trainy\u001b[0m\u001b[1;33m)\u001b[0m\u001b[1;33m\u001b[0m\u001b[1;33m\u001b[0m\u001b[0m\n",
      "\u001b[1;31mNameError\u001b[0m: name 'class_weights' is not defined"
     ]
    }
   ],
   "source": [
    "class_weights\n",
    "unique_y=np.unique(relative_trainy)"
   ]
  },
  {
   "cell_type": "code",
   "execution_count": 27,
   "metadata": {
    "scrolled": true
   },
   "outputs": [
    {
     "ename": "NameError",
     "evalue": "name 'class_weights' is not defined",
     "output_type": "error",
     "traceback": [
      "\u001b[1;31m---------------------------------------------------------------------------\u001b[0m",
      "\u001b[1;31mNameError\u001b[0m                                 Traceback (most recent call last)",
      "\u001b[1;32m<ipython-input-27-311b25059a1a>\u001b[0m in \u001b[0;36m<module>\u001b[1;34m\u001b[0m\n\u001b[0;32m      1\u001b[0m \u001b[0mweight_dict\u001b[0m\u001b[1;33m=\u001b[0m\u001b[1;33m{\u001b[0m\u001b[1;33m}\u001b[0m\u001b[1;33m\u001b[0m\u001b[1;33m\u001b[0m\u001b[0m\n\u001b[1;32m----> 2\u001b[1;33m \u001b[1;32mfor\u001b[0m \u001b[0mlists\u001b[0m \u001b[1;32min\u001b[0m \u001b[0mzip\u001b[0m\u001b[1;33m(\u001b[0m\u001b[0mclass_weights\u001b[0m\u001b[1;33m,\u001b[0m\u001b[0munique_y\u001b[0m\u001b[1;33m)\u001b[0m\u001b[1;33m:\u001b[0m\u001b[1;33m\u001b[0m\u001b[1;33m\u001b[0m\u001b[0m\n\u001b[0m\u001b[0;32m      3\u001b[0m     \u001b[0mweight_dict\u001b[0m\u001b[1;33m[\u001b[0m\u001b[0mlists\u001b[0m\u001b[1;33m[\u001b[0m\u001b[1;36m1\u001b[0m\u001b[1;33m]\u001b[0m\u001b[1;33m]\u001b[0m\u001b[1;33m=\u001b[0m\u001b[0mlists\u001b[0m\u001b[1;33m[\u001b[0m\u001b[1;36m0\u001b[0m\u001b[1;33m]\u001b[0m\u001b[1;33m\u001b[0m\u001b[1;33m\u001b[0m\u001b[0m\n\u001b[0;32m      4\u001b[0m \u001b[0mweight_dict\u001b[0m\u001b[1;33m\u001b[0m\u001b[1;33m\u001b[0m\u001b[0m\n",
      "\u001b[1;31mNameError\u001b[0m: name 'class_weights' is not defined"
     ]
    }
   ],
   "source": [
    "weight_dict={}\n",
    "for lists in zip(class_weights,unique_y):\n",
    "    weight_dict[lists[1]]=lists[0]\n",
    "weight_dict"
   ]
  },
  {
   "cell_type": "code",
   "execution_count": 36,
   "metadata": {
    "scrolled": true
   },
   "outputs": [
    {
     "name": "stdout",
     "output_type": "stream",
     "text": [
      "                                       precision    recall  f1-score   support\n",
      "\n",
      "                   Administrative Law       1.00      0.89      0.94       856\n",
      "                      Attorney's Fees       0.97      0.99      0.98       805\n",
      "                       Bankruptcy Law       0.94      1.00      0.97       805\n",
      "                      Civil Procedure       0.98      0.98      0.98       577\n",
      "                       Commercial Law       0.96      0.96      0.96       612\n",
      "                            Contracts       0.94      0.95      0.94       838\n",
      " Dispute Resolution &amp; Arbitration       0.98      1.00      0.99       696\n",
      "                        Education Law       0.98      0.99      0.99       766\n",
      "                    Environmental Law       0.98      0.99      0.99       846\n",
      "                             Evidence       0.99      0.97      0.98       741\n",
      "                           Family Law       1.00      0.99      0.99       979\n",
      "                  Government Benefits       0.97      0.99      0.98       655\n",
      "                        Habeas Corpus       0.99      1.00      0.99      1215\n",
      "                           Health Law       0.97      0.96      0.96      1142\n",
      "                      Immigration Law       0.98      0.99      0.99      1854\n",
      "                Injury &amp; Tort Law       0.98      0.96      0.97       795\n",
      "                        Insurance Law       0.96      0.97      0.96      1256\n",
      "                             Remedies       1.00      0.94      0.97       713\n",
      "                           Sentencing       0.99      1.00      0.99       817\n",
      "                              Tax Law       0.96      1.00      0.98       761\n",
      "\n",
      "                             accuracy                           0.98     17729\n",
      "                            macro avg       0.98      0.98      0.98     17729\n",
      "                         weighted avg       0.98      0.98      0.98     17729\n",
      "\n",
      "                                       precision    recall  f1-score   support\n",
      "\n",
      "                   Administrative Law       0.48      0.05      0.09       197\n",
      "                      Attorney's Fees       0.66      0.72      0.69       229\n",
      "                       Bankruptcy Law       0.68      0.91      0.78       183\n",
      "                      Civil Procedure       0.51      0.32      0.39       132\n",
      "                       Commercial Law       0.54      0.35      0.42       159\n",
      "                            Contracts       0.46      0.35      0.40       221\n",
      " Dispute Resolution &amp; Arbitration       0.62      0.91      0.74       168\n",
      "                        Education Law       0.73      0.86      0.79       170\n",
      "                    Environmental Law       0.68      0.92      0.78       178\n",
      "                             Evidence       0.60      0.65      0.62       171\n",
      "                           Family Law       0.86      0.91      0.88       224\n",
      "                  Government Benefits       0.64      0.61      0.62       181\n",
      "                        Habeas Corpus       0.86      0.94      0.90       296\n",
      "                           Health Law       0.65      0.53      0.58       313\n",
      "                      Immigration Law       0.82      0.94      0.87       478\n",
      "                Injury &amp; Tort Law       0.50      0.45      0.48       205\n",
      "                        Insurance Law       0.65      0.82      0.72       313\n",
      "                             Remedies       0.44      0.21      0.28       170\n",
      "                           Sentencing       0.69      0.79      0.73       215\n",
      "                              Tax Law       0.77      0.83      0.80       230\n",
      "\n",
      "                             accuracy                           0.69      4433\n",
      "                            macro avg       0.64      0.65      0.63      4433\n",
      "                         weighted avg       0.66      0.69      0.66      4433\n",
      "\n"
     ]
    },
    {
     "data": {
      "text/plain": [
       "RandomForestClassifier(class_weight={' Administrative Law': 1.035572429906542,\n",
       "                                     \" Attorney's Fees\": 1.1011801242236026,\n",
       "                                     ' Bankruptcy Law': 1.1011801242236026,\n",
       "                                     ' Civil Procedure': 1.53630849220104,\n",
       "                                     ' Commercial Law': 1.4484477124183006,\n",
       "                                     ' Contracts': 1.057816229116945,\n",
       "                                     ' Dispute Resolution &amp; Arbitration': 1.2736350574712643,\n",
       "                                     ' Education Law': 1.1572454308093996,\n",
       "                                     ' Environmental La...\n",
       "                                     ' Family Law': 0.905464759959142,\n",
       "                                     ' Government Benefits': 1.3533587786259542,\n",
       "                                     ' Habeas Corpus': 0.7295884773662551,\n",
       "                                     ' Health Law': 0.7762259194395796,\n",
       "                                     ' Immigration Law': 0.47812837108953615,\n",
       "                                     ' Injury &amp; Tort Law': 1.1150314465408806,\n",
       "                                     ' Insurance Law': 0.7057722929936305,\n",
       "                                     ' Remedies': 1.2432678821879384,\n",
       "                                     ' Sentencing': 1.0850061199510403,\n",
       "                                     ' Tax Law': 1.1648488830486203},\n",
       "                       max_depth=20)"
      ]
     },
     "execution_count": 36,
     "metadata": {},
     "output_type": "execute_result"
    }
   ],
   "source": [
    "random_base_weight_relevant=RandomForestClassifier(n_estimators=100, max_depth= 20,class_weight=weight_dict)\n",
    "run_model(random_base_weight_relevant,relative_trainX,relative_trainy,relative_testX,relative_testy)"
   ]
  },
  {
   "cell_type": "markdown",
   "metadata": {},
   "source": [
    "# class weight for the models that are affected by weight."
   ]
  },
  {
   "cell_type": "code",
   "execution_count": 37,
   "metadata": {
    "scrolled": true
   },
   "outputs": [
    {
     "name": "stdout",
     "output_type": "stream",
     "text": [
      "                                       precision    recall  f1-score   support\n",
      "\n",
      "                   Administrative Law       1.00      1.00      1.00       856\n",
      "                      Attorney's Fees       1.00      1.00      1.00       805\n",
      "                       Bankruptcy Law       1.00      1.00      1.00       805\n",
      "                      Civil Procedure       1.00      1.00      1.00       577\n",
      "                       Commercial Law       1.00      1.00      1.00       612\n",
      "                            Contracts       1.00      1.00      1.00       838\n",
      " Dispute Resolution &amp; Arbitration       1.00      1.00      1.00       696\n",
      "                        Education Law       1.00      1.00      1.00       766\n",
      "                    Environmental Law       1.00      1.00      1.00       846\n",
      "                             Evidence       1.00      1.00      1.00       741\n",
      "                           Family Law       1.00      1.00      1.00       979\n",
      "                  Government Benefits       1.00      1.00      1.00       655\n",
      "                        Habeas Corpus       1.00      1.00      1.00      1215\n",
      "                           Health Law       1.00      1.00      1.00      1142\n",
      "                      Immigration Law       1.00      1.00      1.00      1854\n",
      "                Injury &amp; Tort Law       1.00      1.00      1.00       795\n",
      "                        Insurance Law       1.00      1.00      1.00      1256\n",
      "                             Remedies       1.00      1.00      1.00       713\n",
      "                           Sentencing       1.00      1.00      1.00       817\n",
      "                              Tax Law       1.00      1.00      1.00       761\n",
      "\n",
      "                             accuracy                           1.00     17729\n",
      "                            macro avg       1.00      1.00      1.00     17729\n",
      "                         weighted avg       1.00      1.00      1.00     17729\n",
      "\n",
      "                                       precision    recall  f1-score   support\n",
      "\n",
      "                   Administrative Law       0.28      0.28      0.28       197\n",
      "                      Attorney's Fees       0.62      0.61      0.62       229\n",
      "                       Bankruptcy Law       0.69      0.73      0.71       183\n",
      "                      Civil Procedure       0.39      0.44      0.41       132\n",
      "                       Commercial Law       0.43      0.43      0.43       159\n",
      "                            Contracts       0.46      0.39      0.42       221\n",
      " Dispute Resolution &amp; Arbitration       0.71      0.76      0.73       168\n",
      "                        Education Law       0.81      0.76      0.78       170\n",
      "                    Environmental Law       0.80      0.85      0.83       178\n",
      "                             Evidence       0.60      0.60      0.60       171\n",
      "                           Family Law       0.87      0.86      0.87       224\n",
      "                  Government Benefits       0.63      0.56      0.59       181\n",
      "                        Habeas Corpus       0.86      0.91      0.88       296\n",
      "                           Health Law       0.57      0.56      0.57       313\n",
      "                      Immigration Law       0.82      0.78      0.80       478\n",
      "                Injury &amp; Tort Law       0.47      0.50      0.49       205\n",
      "                        Insurance Law       0.65      0.70      0.67       313\n",
      "                             Remedies       0.39      0.41      0.40       170\n",
      "                           Sentencing       0.76      0.75      0.76       215\n",
      "                              Tax Law       0.80      0.76      0.78       230\n",
      "\n",
      "                             accuracy                           0.65      4433\n",
      "                            macro avg       0.63      0.63      0.63      4433\n",
      "                         weighted avg       0.65      0.65      0.65      4433\n",
      "\n"
     ]
    },
    {
     "data": {
      "text/plain": [
       "LogisticRegression(C=1000000000000.0,\n",
       "                   class_weight={' Administrative Law': 1.035572429906542,\n",
       "                                 \" Attorney's Fees\": 1.1011801242236026,\n",
       "                                 ' Bankruptcy Law': 1.1011801242236026,\n",
       "                                 ' Civil Procedure': 1.53630849220104,\n",
       "                                 ' Commercial Law': 1.4484477124183006,\n",
       "                                 ' Contracts': 1.057816229116945,\n",
       "                                 ' Dispute Resolution &amp; Arbitration': 1.2736350574712643,\n",
       "                                 ' Education Law': 1.1572454308093996,\n",
       "                                 ' E...\n",
       "                                 ' Family Law': 0.905464759959142,\n",
       "                                 ' Government Benefits': 1.3533587786259542,\n",
       "                                 ' Habeas Corpus': 0.7295884773662551,\n",
       "                                 ' Health Law': 0.7762259194395796,\n",
       "                                 ' Immigration Law': 0.47812837108953615,\n",
       "                                 ' Injury &amp; Tort Law': 1.1150314465408806,\n",
       "                                 ' Insurance Law': 0.7057722929936305,\n",
       "                                 ' Remedies': 1.2432678821879384,\n",
       "                                 ' Sentencing': 1.0850061199510403,\n",
       "                                 ' Tax Law': 1.1648488830486203},\n",
       "                   fit_intercept=False, solver='liblinear')"
      ]
     },
     "execution_count": 37,
     "metadata": {},
     "output_type": "execute_result"
    }
   ],
   "source": [
    "log_weight_relevant=LogisticRegression(fit_intercept=False, C=1e12, solver='liblinear',class_weight=weight_dict)\n",
    "run_model(log_weight_relevant,relative_trainX,relative_trainy,relative_testX,relative_testy)"
   ]
  },
  {
   "cell_type": "code",
   "execution_count": 39,
   "metadata": {
    "scrolled": true
   },
   "outputs": [
    {
     "name": "stdout",
     "output_type": "stream",
     "text": [
      "                                       precision    recall  f1-score   support\n",
      "\n",
      "                   Administrative Law       1.00      1.00      1.00       856\n",
      "                      Attorney's Fees       1.00      1.00      1.00       805\n",
      "                       Bankruptcy Law       1.00      1.00      1.00       805\n",
      "                      Civil Procedure       1.00      1.00      1.00       577\n",
      "                       Commercial Law       1.00      1.00      1.00       612\n",
      "                            Contracts       1.00      1.00      1.00       838\n",
      " Dispute Resolution &amp; Arbitration       1.00      1.00      1.00       696\n",
      "                        Education Law       1.00      1.00      1.00       766\n",
      "                    Environmental Law       1.00      1.00      1.00       846\n",
      "                             Evidence       1.00      1.00      1.00       741\n",
      "                           Family Law       1.00      1.00      1.00       979\n",
      "                  Government Benefits       1.00      1.00      1.00       655\n",
      "                        Habeas Corpus       1.00      1.00      1.00      1215\n",
      "                           Health Law       1.00      1.00      1.00      1142\n",
      "                      Immigration Law       1.00      1.00      1.00      1854\n",
      "                Injury &amp; Tort Law       1.00      1.00      1.00       795\n",
      "                        Insurance Law       1.00      1.00      1.00      1256\n",
      "                             Remedies       1.00      1.00      1.00       713\n",
      "                           Sentencing       1.00      1.00      1.00       817\n",
      "                              Tax Law       1.00      1.00      1.00       761\n",
      "\n",
      "                             accuracy                           1.00     17729\n",
      "                            macro avg       1.00      1.00      1.00     17729\n",
      "                         weighted avg       1.00      1.00      1.00     17729\n",
      "\n",
      "                                       precision    recall  f1-score   support\n",
      "\n",
      "                   Administrative Law       0.24      0.26      0.25       197\n",
      "                      Attorney's Fees       0.59      0.52      0.55       229\n",
      "                       Bankruptcy Law       0.69      0.72      0.71       183\n",
      "                      Civil Procedure       0.22      0.27      0.24       132\n",
      "                       Commercial Law       0.29      0.33      0.31       159\n",
      "                            Contracts       0.34      0.29      0.31       221\n",
      " Dispute Resolution &amp; Arbitration       0.63      0.68      0.65       168\n",
      "                        Education Law       0.63      0.61      0.62       170\n",
      "                    Environmental Law       0.58      0.61      0.60       178\n",
      "                             Evidence       0.51      0.50      0.51       171\n",
      "                           Family Law       0.69      0.72      0.70       224\n",
      "                  Government Benefits       0.51      0.42      0.46       181\n",
      "                        Habeas Corpus       0.81      0.84      0.83       296\n",
      "                           Health Law       0.40      0.45      0.43       313\n",
      "                      Immigration Law       0.80      0.76      0.78       478\n",
      "                Injury &amp; Tort Law       0.31      0.29      0.30       205\n",
      "                        Insurance Law       0.63      0.67      0.65       313\n",
      "                             Remedies       0.24      0.22      0.23       170\n",
      "                           Sentencing       0.68      0.65      0.66       215\n",
      "                              Tax Law       0.74      0.67      0.70       230\n",
      "\n",
      "                             accuracy                           0.55      4433\n",
      "                            macro avg       0.53      0.52      0.52      4433\n",
      "                         weighted avg       0.56      0.55      0.56      4433\n",
      "\n"
     ]
    },
    {
     "data": {
      "text/plain": [
       "DecisionTreeClassifier(class_weight={' Administrative Law': 1.035572429906542,\n",
       "                                     \" Attorney's Fees\": 1.1011801242236026,\n",
       "                                     ' Bankruptcy Law': 1.1011801242236026,\n",
       "                                     ' Civil Procedure': 1.53630849220104,\n",
       "                                     ' Commercial Law': 1.4484477124183006,\n",
       "                                     ' Contracts': 1.057816229116945,\n",
       "                                     ' Dispute Resolution &amp; Arbitration': 1.2736350574712643,\n",
       "                                     ' Education Law': 1.1572454308093996,\n",
       "                                     ' Environmental La...\n",
       "                                     ' Evidence': 1.1962887989203779,\n",
       "                                     ' Family Law': 0.905464759959142,\n",
       "                                     ' Government Benefits': 1.3533587786259542,\n",
       "                                     ' Habeas Corpus': 0.7295884773662551,\n",
       "                                     ' Health Law': 0.7762259194395796,\n",
       "                                     ' Immigration Law': 0.47812837108953615,\n",
       "                                     ' Injury &amp; Tort Law': 1.1150314465408806,\n",
       "                                     ' Insurance Law': 0.7057722929936305,\n",
       "                                     ' Remedies': 1.2432678821879384,\n",
       "                                     ' Sentencing': 1.0850061199510403,\n",
       "                                     ' Tax Law': 1.1648488830486203})"
      ]
     },
     "execution_count": 39,
     "metadata": {},
     "output_type": "execute_result"
    }
   ],
   "source": [
    "dt_base_weight_relevant = DecisionTreeClassifier(class_weight=weight_dict)\n",
    "run_model(dt_base_weight_relevant,relative_trainX,relative_trainy,relative_testX,relative_testy)"
   ]
  },
  {
   "cell_type": "code",
   "execution_count": 40,
   "metadata": {
    "scrolled": true
   },
   "outputs": [
    {
     "name": "stdout",
     "output_type": "stream",
     "text": [
      "                                       precision    recall  f1-score   support\n",
      "\n",
      "                   Administrative Law       1.00      1.00      1.00       856\n",
      "                      Attorney's Fees       1.00      1.00      1.00       805\n",
      "                       Bankruptcy Law       1.00      1.00      1.00       805\n",
      "                      Civil Procedure       1.00      1.00      1.00       577\n",
      "                       Commercial Law       1.00      1.00      1.00       612\n",
      "                            Contracts       1.00      1.00      1.00       838\n",
      " Dispute Resolution &amp; Arbitration       1.00      1.00      1.00       696\n",
      "                        Education Law       1.00      1.00      1.00       766\n",
      "                    Environmental Law       1.00      1.00      1.00       846\n",
      "                             Evidence       1.00      1.00      1.00       741\n",
      "                           Family Law       1.00      1.00      1.00       979\n",
      "                  Government Benefits       1.00      1.00      1.00       655\n",
      "                        Habeas Corpus       1.00      1.00      1.00      1215\n",
      "                           Health Law       1.00      1.00      1.00      1142\n",
      "                      Immigration Law       1.00      1.00      1.00      1854\n",
      "                Injury &amp; Tort Law       1.00      1.00      1.00       795\n",
      "                        Insurance Law       1.00      1.00      1.00      1256\n",
      "                             Remedies       1.00      1.00      1.00       713\n",
      "                           Sentencing       1.00      1.00      1.00       817\n",
      "                              Tax Law       1.00      1.00      1.00       761\n",
      "\n",
      "                             accuracy                           1.00     17729\n",
      "                            macro avg       1.00      1.00      1.00     17729\n",
      "                         weighted avg       1.00      1.00      1.00     17729\n",
      "\n",
      "                                       precision    recall  f1-score   support\n",
      "\n",
      "                   Administrative Law       0.25      0.26      0.26       197\n",
      "                      Attorney's Fees       0.58      0.54      0.56       229\n",
      "                       Bankruptcy Law       0.70      0.69      0.69       183\n",
      "                      Civil Procedure       0.25      0.30      0.27       132\n",
      "                       Commercial Law       0.26      0.30      0.28       159\n",
      "                            Contracts       0.30      0.26      0.28       221\n",
      " Dispute Resolution &amp; Arbitration       0.64      0.70      0.66       168\n",
      "                        Education Law       0.61      0.63      0.62       170\n",
      "                    Environmental Law       0.60      0.59      0.60       178\n",
      "                             Evidence       0.49      0.48      0.49       171\n",
      "                           Family Law       0.65      0.71      0.68       224\n",
      "                  Government Benefits       0.52      0.43      0.47       181\n",
      "                        Habeas Corpus       0.79      0.81      0.80       296\n",
      "                           Health Law       0.40      0.45      0.42       313\n",
      "                      Immigration Law       0.79      0.76      0.77       478\n",
      "                Injury &amp; Tort Law       0.29      0.28      0.29       205\n",
      "                        Insurance Law       0.60      0.66      0.63       313\n",
      "                             Remedies       0.24      0.20      0.22       170\n",
      "                           Sentencing       0.68      0.63      0.65       215\n",
      "                              Tax Law       0.73      0.64      0.68       230\n",
      "\n",
      "                             accuracy                           0.55      4433\n",
      "                            macro avg       0.52      0.52      0.52      4433\n",
      "                         weighted avg       0.55      0.55      0.55      4433\n",
      "\n"
     ]
    },
    {
     "data": {
      "text/plain": [
       "DecisionTreeClassifier(class_weight={' Administrative Law': 1.035572429906542,\n",
       "                                     \" Attorney's Fees\": 1.1011801242236026,\n",
       "                                     ' Bankruptcy Law': 1.1011801242236026,\n",
       "                                     ' Civil Procedure': 1.53630849220104,\n",
       "                                     ' Commercial Law': 1.4484477124183006,\n",
       "                                     ' Contracts': 1.057816229116945,\n",
       "                                     ' Dispute Resolution &amp; Arbitration': 1.2736350574712643,\n",
       "                                     ' Education Law': 1.1572454308093996,\n",
       "                                     ' Environmental La...\n",
       "                                     ' Evidence': 1.1962887989203779,\n",
       "                                     ' Family Law': 0.905464759959142,\n",
       "                                     ' Government Benefits': 1.3533587786259542,\n",
       "                                     ' Habeas Corpus': 0.7295884773662551,\n",
       "                                     ' Health Law': 0.7762259194395796,\n",
       "                                     ' Immigration Law': 0.47812837108953615,\n",
       "                                     ' Injury &amp; Tort Law': 1.1150314465408806,\n",
       "                                     ' Insurance Law': 0.7057722929936305,\n",
       "                                     ' Remedies': 1.2432678821879384,\n",
       "                                     ' Sentencing': 1.0850061199510403,\n",
       "                                     ' Tax Law': 1.1648488830486203})"
      ]
     },
     "execution_count": 40,
     "metadata": {},
     "output_type": "execute_result"
    }
   ],
   "source": [
    "tree_weighted_=tree.DecisionTreeClassifier(class_weight=weight_dict)\n",
    "run_model(tree_weighted_,relative_trainX,relative_trainy,relative_testX,relative_testy)"
   ]
  },
  {
   "cell_type": "markdown",
   "metadata": {},
   "source": [
    "# ngrams"
   ]
  },
  {
   "cell_type": "code",
   "execution_count": 22,
   "metadata": {},
   "outputs": [],
   "source": [
    "tester3,ngram_target=clean_by_case_data('ngram',data_frame20)"
   ]
  },
  {
   "cell_type": "code",
   "execution_count": 23,
   "metadata": {},
   "outputs": [
    {
     "data": {
      "text/html": [
       "<div>\n",
       "<style scoped>\n",
       "    .dataframe tbody tr th:only-of-type {\n",
       "        vertical-align: middle;\n",
       "    }\n",
       "\n",
       "    .dataframe tbody tr th {\n",
       "        vertical-align: top;\n",
       "    }\n",
       "\n",
       "    .dataframe thead th {\n",
       "        text-align: right;\n",
       "    }\n",
       "</style>\n",
       "<table border=\"1\" class=\"dataframe\">\n",
       "  <thead>\n",
       "    <tr style=\"text-align: right;\">\n",
       "      <th></th>\n",
       "      <th></th>\n",
       "      <th>00</th>\n",
       "      <th>000</th>\n",
       "      <th>10</th>\n",
       "      <th>100</th>\n",
       "      <th>101</th>\n",
       "      <th>102</th>\n",
       "      <th>103</th>\n",
       "      <th>104</th>\n",
       "      <th>104 ct</th>\n",
       "      <th>...</th>\n",
       "      <th>writing</th>\n",
       "      <th>written</th>\n",
       "      <th>wrong</th>\n",
       "      <th>wrote</th>\n",
       "      <th>year</th>\n",
       "      <th>year later</th>\n",
       "      <th>year old</th>\n",
       "      <th>years</th>\n",
       "      <th>yet</th>\n",
       "      <th>york</th>\n",
       "    </tr>\n",
       "  </thead>\n",
       "  <tbody>\n",
       "    <tr>\n",
       "      <th>0</th>\n",
       "      <td>0.993775</td>\n",
       "      <td>0.0</td>\n",
       "      <td>0.000000</td>\n",
       "      <td>0.003095</td>\n",
       "      <td>0.000000</td>\n",
       "      <td>0.000384</td>\n",
       "      <td>0.000409</td>\n",
       "      <td>0.0</td>\n",
       "      <td>0.000000</td>\n",
       "      <td>0.0</td>\n",
       "      <td>...</td>\n",
       "      <td>0.000427</td>\n",
       "      <td>0.000000</td>\n",
       "      <td>0.000406</td>\n",
       "      <td>0.000429</td>\n",
       "      <td>0.002182</td>\n",
       "      <td>0.000474</td>\n",
       "      <td>0.0</td>\n",
       "      <td>0.000794</td>\n",
       "      <td>0.000306</td>\n",
       "      <td>0.006537</td>\n",
       "    </tr>\n",
       "    <tr>\n",
       "      <th>1</th>\n",
       "      <td>0.988797</td>\n",
       "      <td>0.0</td>\n",
       "      <td>0.000933</td>\n",
       "      <td>0.002738</td>\n",
       "      <td>0.000514</td>\n",
       "      <td>0.000000</td>\n",
       "      <td>0.000000</td>\n",
       "      <td>0.0</td>\n",
       "      <td>0.000000</td>\n",
       "      <td>0.0</td>\n",
       "      <td>...</td>\n",
       "      <td>0.000000</td>\n",
       "      <td>0.000000</td>\n",
       "      <td>0.000000</td>\n",
       "      <td>0.000000</td>\n",
       "      <td>0.000614</td>\n",
       "      <td>0.000000</td>\n",
       "      <td>0.0</td>\n",
       "      <td>0.000000</td>\n",
       "      <td>0.000947</td>\n",
       "      <td>0.001190</td>\n",
       "    </tr>\n",
       "    <tr>\n",
       "      <th>2</th>\n",
       "      <td>0.995697</td>\n",
       "      <td>0.0</td>\n",
       "      <td>0.000000</td>\n",
       "      <td>0.001144</td>\n",
       "      <td>0.000000</td>\n",
       "      <td>0.000000</td>\n",
       "      <td>0.000000</td>\n",
       "      <td>0.0</td>\n",
       "      <td>0.000000</td>\n",
       "      <td>0.0</td>\n",
       "      <td>...</td>\n",
       "      <td>0.000000</td>\n",
       "      <td>0.000000</td>\n",
       "      <td>0.000000</td>\n",
       "      <td>0.000000</td>\n",
       "      <td>0.002052</td>\n",
       "      <td>0.000000</td>\n",
       "      <td>0.0</td>\n",
       "      <td>0.000513</td>\n",
       "      <td>0.000791</td>\n",
       "      <td>0.000994</td>\n",
       "    </tr>\n",
       "    <tr>\n",
       "      <th>3</th>\n",
       "      <td>0.989159</td>\n",
       "      <td>0.0</td>\n",
       "      <td>0.000000</td>\n",
       "      <td>0.000000</td>\n",
       "      <td>0.000000</td>\n",
       "      <td>0.000000</td>\n",
       "      <td>0.000000</td>\n",
       "      <td>0.0</td>\n",
       "      <td>0.000000</td>\n",
       "      <td>0.0</td>\n",
       "      <td>...</td>\n",
       "      <td>0.000000</td>\n",
       "      <td>0.000000</td>\n",
       "      <td>0.003704</td>\n",
       "      <td>0.000000</td>\n",
       "      <td>0.000000</td>\n",
       "      <td>0.000000</td>\n",
       "      <td>0.0</td>\n",
       "      <td>0.000000</td>\n",
       "      <td>0.000000</td>\n",
       "      <td>0.000000</td>\n",
       "    </tr>\n",
       "    <tr>\n",
       "      <th>4</th>\n",
       "      <td>0.993277</td>\n",
       "      <td>0.0</td>\n",
       "      <td>0.001373</td>\n",
       "      <td>0.002014</td>\n",
       "      <td>0.000000</td>\n",
       "      <td>0.001751</td>\n",
       "      <td>0.000000</td>\n",
       "      <td>0.0</td>\n",
       "      <td>0.001583</td>\n",
       "      <td>0.0</td>\n",
       "      <td>...</td>\n",
       "      <td>0.000000</td>\n",
       "      <td>0.000000</td>\n",
       "      <td>0.000000</td>\n",
       "      <td>0.000000</td>\n",
       "      <td>0.008130</td>\n",
       "      <td>0.000000</td>\n",
       "      <td>0.0</td>\n",
       "      <td>0.000000</td>\n",
       "      <td>0.000000</td>\n",
       "      <td>0.003503</td>\n",
       "    </tr>\n",
       "    <tr>\n",
       "      <th>...</th>\n",
       "      <td>...</td>\n",
       "      <td>...</td>\n",
       "      <td>...</td>\n",
       "      <td>...</td>\n",
       "      <td>...</td>\n",
       "      <td>...</td>\n",
       "      <td>...</td>\n",
       "      <td>...</td>\n",
       "      <td>...</td>\n",
       "      <td>...</td>\n",
       "      <td>...</td>\n",
       "      <td>...</td>\n",
       "      <td>...</td>\n",
       "      <td>...</td>\n",
       "      <td>...</td>\n",
       "      <td>...</td>\n",
       "      <td>...</td>\n",
       "      <td>...</td>\n",
       "      <td>...</td>\n",
       "      <td>...</td>\n",
       "      <td>...</td>\n",
       "    </tr>\n",
       "    <tr>\n",
       "      <th>22157</th>\n",
       "      <td>0.993744</td>\n",
       "      <td>0.0</td>\n",
       "      <td>0.001381</td>\n",
       "      <td>0.002026</td>\n",
       "      <td>0.001520</td>\n",
       "      <td>0.001761</td>\n",
       "      <td>0.000000</td>\n",
       "      <td>0.0</td>\n",
       "      <td>0.000000</td>\n",
       "      <td>0.0</td>\n",
       "      <td>...</td>\n",
       "      <td>0.000000</td>\n",
       "      <td>0.001351</td>\n",
       "      <td>0.001859</td>\n",
       "      <td>0.000000</td>\n",
       "      <td>0.000000</td>\n",
       "      <td>0.000000</td>\n",
       "      <td>0.0</td>\n",
       "      <td>0.000000</td>\n",
       "      <td>0.000000</td>\n",
       "      <td>0.000000</td>\n",
       "    </tr>\n",
       "    <tr>\n",
       "      <th>22158</th>\n",
       "      <td>0.990221</td>\n",
       "      <td>0.0</td>\n",
       "      <td>0.002796</td>\n",
       "      <td>0.000000</td>\n",
       "      <td>0.000000</td>\n",
       "      <td>0.000000</td>\n",
       "      <td>0.000000</td>\n",
       "      <td>0.0</td>\n",
       "      <td>0.000000</td>\n",
       "      <td>0.0</td>\n",
       "      <td>...</td>\n",
       "      <td>0.000000</td>\n",
       "      <td>0.000000</td>\n",
       "      <td>0.000000</td>\n",
       "      <td>0.000000</td>\n",
       "      <td>0.005517</td>\n",
       "      <td>0.000000</td>\n",
       "      <td>0.0</td>\n",
       "      <td>0.000000</td>\n",
       "      <td>0.000000</td>\n",
       "      <td>0.000000</td>\n",
       "    </tr>\n",
       "    <tr>\n",
       "      <th>22159</th>\n",
       "      <td>0.994019</td>\n",
       "      <td>0.0</td>\n",
       "      <td>0.000000</td>\n",
       "      <td>0.000000</td>\n",
       "      <td>0.000000</td>\n",
       "      <td>0.006912</td>\n",
       "      <td>0.000000</td>\n",
       "      <td>0.0</td>\n",
       "      <td>0.006251</td>\n",
       "      <td>0.0</td>\n",
       "      <td>...</td>\n",
       "      <td>0.000000</td>\n",
       "      <td>0.000000</td>\n",
       "      <td>0.000000</td>\n",
       "      <td>0.000000</td>\n",
       "      <td>0.000000</td>\n",
       "      <td>0.000000</td>\n",
       "      <td>0.0</td>\n",
       "      <td>0.000000</td>\n",
       "      <td>0.000000</td>\n",
       "      <td>0.000000</td>\n",
       "    </tr>\n",
       "    <tr>\n",
       "      <th>22160</th>\n",
       "      <td>0.994347</td>\n",
       "      <td>0.0</td>\n",
       "      <td>0.000000</td>\n",
       "      <td>0.000000</td>\n",
       "      <td>0.000000</td>\n",
       "      <td>0.000000</td>\n",
       "      <td>0.000000</td>\n",
       "      <td>0.0</td>\n",
       "      <td>0.000000</td>\n",
       "      <td>0.0</td>\n",
       "      <td>...</td>\n",
       "      <td>0.000000</td>\n",
       "      <td>0.001298</td>\n",
       "      <td>0.000000</td>\n",
       "      <td>0.000000</td>\n",
       "      <td>0.002618</td>\n",
       "      <td>0.000000</td>\n",
       "      <td>0.0</td>\n",
       "      <td>0.000000</td>\n",
       "      <td>0.000000</td>\n",
       "      <td>0.000000</td>\n",
       "    </tr>\n",
       "    <tr>\n",
       "      <th>22161</th>\n",
       "      <td>0.988744</td>\n",
       "      <td>0.0</td>\n",
       "      <td>0.000000</td>\n",
       "      <td>0.000000</td>\n",
       "      <td>0.000000</td>\n",
       "      <td>0.000000</td>\n",
       "      <td>0.000000</td>\n",
       "      <td>0.0</td>\n",
       "      <td>0.000000</td>\n",
       "      <td>0.0</td>\n",
       "      <td>...</td>\n",
       "      <td>0.000000</td>\n",
       "      <td>0.000000</td>\n",
       "      <td>0.000000</td>\n",
       "      <td>0.000000</td>\n",
       "      <td>0.003566</td>\n",
       "      <td>0.000000</td>\n",
       "      <td>0.0</td>\n",
       "      <td>0.003570</td>\n",
       "      <td>0.008249</td>\n",
       "      <td>0.000000</td>\n",
       "    </tr>\n",
       "  </tbody>\n",
       "</table>\n",
       "<p>22162 rows × 2260 columns</p>\n",
       "</div>"
      ],
      "text/plain": [
       "                  00       000        10       100       101       102  103  \\\n",
       "0      0.993775  0.0  0.000000  0.003095  0.000000  0.000384  0.000409  0.0   \n",
       "1      0.988797  0.0  0.000933  0.002738  0.000514  0.000000  0.000000  0.0   \n",
       "2      0.995697  0.0  0.000000  0.001144  0.000000  0.000000  0.000000  0.0   \n",
       "3      0.989159  0.0  0.000000  0.000000  0.000000  0.000000  0.000000  0.0   \n",
       "4      0.993277  0.0  0.001373  0.002014  0.000000  0.001751  0.000000  0.0   \n",
       "...         ...  ...       ...       ...       ...       ...       ...  ...   \n",
       "22157  0.993744  0.0  0.001381  0.002026  0.001520  0.001761  0.000000  0.0   \n",
       "22158  0.990221  0.0  0.002796  0.000000  0.000000  0.000000  0.000000  0.0   \n",
       "22159  0.994019  0.0  0.000000  0.000000  0.000000  0.006912  0.000000  0.0   \n",
       "22160  0.994347  0.0  0.000000  0.000000  0.000000  0.000000  0.000000  0.0   \n",
       "22161  0.988744  0.0  0.000000  0.000000  0.000000  0.000000  0.000000  0.0   \n",
       "\n",
       "            104  104 ct  ...   writing   written     wrong     wrote  \\\n",
       "0      0.000000     0.0  ...  0.000427  0.000000  0.000406  0.000429   \n",
       "1      0.000000     0.0  ...  0.000000  0.000000  0.000000  0.000000   \n",
       "2      0.000000     0.0  ...  0.000000  0.000000  0.000000  0.000000   \n",
       "3      0.000000     0.0  ...  0.000000  0.000000  0.003704  0.000000   \n",
       "4      0.001583     0.0  ...  0.000000  0.000000  0.000000  0.000000   \n",
       "...         ...     ...  ...       ...       ...       ...       ...   \n",
       "22157  0.000000     0.0  ...  0.000000  0.001351  0.001859  0.000000   \n",
       "22158  0.000000     0.0  ...  0.000000  0.000000  0.000000  0.000000   \n",
       "22159  0.006251     0.0  ...  0.000000  0.000000  0.000000  0.000000   \n",
       "22160  0.000000     0.0  ...  0.000000  0.001298  0.000000  0.000000   \n",
       "22161  0.000000     0.0  ...  0.000000  0.000000  0.000000  0.000000   \n",
       "\n",
       "           year  year later  year old     years       yet      york  \n",
       "0      0.002182    0.000474       0.0  0.000794  0.000306  0.006537  \n",
       "1      0.000614    0.000000       0.0  0.000000  0.000947  0.001190  \n",
       "2      0.002052    0.000000       0.0  0.000513  0.000791  0.000994  \n",
       "3      0.000000    0.000000       0.0  0.000000  0.000000  0.000000  \n",
       "4      0.008130    0.000000       0.0  0.000000  0.000000  0.003503  \n",
       "...         ...         ...       ...       ...       ...       ...  \n",
       "22157  0.000000    0.000000       0.0  0.000000  0.000000  0.000000  \n",
       "22158  0.005517    0.000000       0.0  0.000000  0.000000  0.000000  \n",
       "22159  0.000000    0.000000       0.0  0.000000  0.000000  0.000000  \n",
       "22160  0.002618    0.000000       0.0  0.000000  0.000000  0.000000  \n",
       "22161  0.003566    0.000000       0.0  0.003570  0.008249  0.000000  \n",
       "\n",
       "[22162 rows x 2260 columns]"
      ]
     },
     "execution_count": 23,
     "metadata": {},
     "output_type": "execute_result"
    }
   ],
   "source": [
    "tester3"
   ]
  },
  {
   "cell_type": "code",
   "execution_count": 32,
   "metadata": {},
   "outputs": [],
   "source": [
    "ngram_trainX, ngram_testX, ngram_trainy, ngram_testy = train_test_split(tester3, ngram_target, test_size=0.20, random_state=1)"
   ]
  },
  {
   "cell_type": "code",
   "execution_count": 25,
   "metadata": {},
   "outputs": [],
   "source": [
    "knn_ngram=KNeighborsClassifier()\n",
    "tree_ngram=tree.DecisionTreeClassifier()\n",
    "random_ngram=RandomForestClassifier(n_estimators=100, max_depth= 20)\n",
    "log_ngram=LogisticRegression(fit_intercept=False, C=1e12, solver='liblinear')\n",
    "xboost_ngram=XGBClassifier()\n",
    "svm_ngram=svm.SVC(decision_function_shape='ovo')\n",
    "dt_ngram = DecisionTreeClassifier()\n",
    "bagged_ngram=BaggingClassifier()\n",
    "ada_ngram = AdaBoostClassifier()\n",
    "gb_ngram = GradientBoostingClassifier()\n",
    "mnb_ngram = MultinomialNB()\n"
   ]
  },
  {
   "cell_type": "code",
   "execution_count": 41,
   "metadata": {
    "scrolled": true
   },
   "outputs": [
    {
     "name": "stdout",
     "output_type": "stream",
     "text": [
      "                                       precision    recall  f1-score   support\n",
      "\n",
      "                   Administrative Law       1.00      1.00      1.00       856\n",
      "                      Attorney's Fees       1.00      1.00      1.00       805\n",
      "                       Bankruptcy Law       1.00      1.00      1.00       805\n",
      "                      Civil Procedure       1.00      1.00      1.00       577\n",
      "                       Commercial Law       1.00      1.00      1.00       612\n",
      "                            Contracts       1.00      1.00      1.00       838\n",
      " Dispute Resolution &amp; Arbitration       1.00      1.00      1.00       696\n",
      "                        Education Law       1.00      1.00      1.00       766\n",
      "                    Environmental Law       1.00      1.00      1.00       846\n",
      "                             Evidence       1.00      1.00      1.00       741\n",
      "                           Family Law       1.00      1.00      1.00       979\n",
      "                  Government Benefits       1.00      1.00      1.00       655\n",
      "                        Habeas Corpus       1.00      1.00      1.00      1215\n",
      "                           Health Law       1.00      1.00      1.00      1142\n",
      "                      Immigration Law       1.00      1.00      1.00      1854\n",
      "                Injury &amp; Tort Law       1.00      1.00      1.00       795\n",
      "                        Insurance Law       1.00      1.00      1.00      1256\n",
      "                             Remedies       1.00      1.00      1.00       713\n",
      "                           Sentencing       1.00      1.00      1.00       817\n",
      "                              Tax Law       1.00      1.00      1.00       761\n",
      "\n",
      "                             accuracy                           1.00     17729\n",
      "                            macro avg       1.00      1.00      1.00     17729\n",
      "                         weighted avg       1.00      1.00      1.00     17729\n",
      "\n",
      "                                       precision    recall  f1-score   support\n",
      "\n",
      "                   Administrative Law       0.47      0.32      0.38       197\n",
      "                      Attorney's Fees       0.71      0.77      0.74       229\n",
      "                       Bankruptcy Law       0.73      0.76      0.74       183\n",
      "                      Civil Procedure       0.55      0.54      0.54       132\n",
      "                       Commercial Law       0.58      0.49      0.53       159\n",
      "                            Contracts       0.59      0.61      0.60       221\n",
      " Dispute Resolution &amp; Arbitration       0.73      0.73      0.73       168\n",
      "                        Education Law       0.73      0.75      0.74       170\n",
      "                    Environmental Law       0.83      0.81      0.82       178\n",
      "                             Evidence       0.70      0.64      0.67       171\n",
      "                           Family Law       0.88      0.87      0.88       224\n",
      "                  Government Benefits       0.67      0.56      0.61       181\n",
      "                        Habeas Corpus       0.89      0.92      0.90       296\n",
      "                           Health Law       0.66      0.68      0.67       313\n",
      "                      Immigration Law       0.83      0.94      0.88       478\n",
      "                Injury &amp; Tort Law       0.62      0.57      0.59       205\n",
      "                        Insurance Law       0.69      0.81      0.75       313\n",
      "                             Remedies       0.54      0.44      0.48       170\n",
      "                           Sentencing       0.82      0.81      0.82       215\n",
      "                              Tax Law       0.83      0.88      0.85       230\n",
      "\n",
      "                             accuracy                           0.73      4433\n",
      "                            macro avg       0.70      0.70      0.70      4433\n",
      "                         weighted avg       0.72      0.73      0.72      4433\n",
      "\n"
     ]
    },
    {
     "data": {
      "text/plain": [
       "XGBClassifier(base_score=0.5, booster='gbtree', colsample_bylevel=1,\n",
       "              colsample_bynode=1, colsample_bytree=1, gamma=0, gpu_id=-1,\n",
       "              importance_type='gain', interaction_constraints='',\n",
       "              learning_rate=0.300000012, max_delta_step=0, max_depth=6,\n",
       "              min_child_weight=1, missing=nan, monotone_constraints='()',\n",
       "              n_estimators=100, n_jobs=0, num_parallel_tree=1,\n",
       "              objective='multi:softprob', random_state=0, reg_alpha=0,\n",
       "              reg_lambda=1, scale_pos_weight=None, subsample=1,\n",
       "              tree_method='exact', validate_parameters=1, verbosity=None)"
      ]
     },
     "execution_count": 41,
     "metadata": {},
     "output_type": "execute_result"
    }
   ],
   "source": [
    "run_model(xboost_ngram,ngram_trainX,ngram_trainy,ngram_testX,ngram_testy)"
   ]
  },
  {
   "cell_type": "code",
   "execution_count": 42,
   "metadata": {
    "scrolled": true
   },
   "outputs": [
    {
     "name": "stdout",
     "output_type": "stream",
     "text": [
      "                                       precision    recall  f1-score   support\n",
      "\n",
      "                   Administrative Law       0.45      0.47      0.46       856\n",
      "                      Attorney's Fees       0.59      0.80      0.68       805\n",
      "                       Bankruptcy Law       0.64      0.78      0.71       805\n",
      "                      Civil Procedure       0.53      0.50      0.51       577\n",
      "                       Commercial Law       0.61      0.50      0.55       612\n",
      "                            Contracts       0.55      0.55      0.55       838\n",
      " Dispute Resolution &amp; Arbitration       0.75      0.69      0.72       696\n",
      "                        Education Law       0.76      0.77      0.76       766\n",
      "                    Environmental Law       0.69      0.84      0.76       846\n",
      "                             Evidence       0.56      0.79      0.65       741\n",
      "                           Family Law       0.92      0.83      0.87       979\n",
      "                  Government Benefits       0.79      0.57      0.66       655\n",
      "                        Habeas Corpus       0.79      0.94      0.86      1215\n",
      "                           Health Law       0.68      0.61      0.64      1142\n",
      "                      Immigration Law       0.85      0.85      0.85      1854\n",
      "                Injury &amp; Tort Law       0.58      0.57      0.58       795\n",
      "                        Insurance Law       0.81      0.68      0.74      1256\n",
      "                             Remedies       0.65      0.37      0.47       713\n",
      "                           Sentencing       0.76      0.77      0.77       817\n",
      "                              Tax Law       0.84      0.72      0.77       761\n",
      "\n",
      "                             accuracy                           0.70     17729\n",
      "                            macro avg       0.69      0.68      0.68     17729\n",
      "                         weighted avg       0.71      0.70      0.70     17729\n",
      "\n",
      "                                       precision    recall  f1-score   support\n",
      "\n",
      "                   Administrative Law       0.19      0.22      0.20       197\n",
      "                      Attorney's Fees       0.49      0.66      0.56       229\n",
      "                       Bankruptcy Law       0.48      0.60      0.53       183\n",
      "                      Civil Procedure       0.24      0.27      0.25       132\n",
      "                       Commercial Law       0.36      0.26      0.30       159\n",
      "                            Contracts       0.33      0.31      0.32       221\n",
      " Dispute Resolution &amp; Arbitration       0.64      0.58      0.61       168\n",
      "                        Education Law       0.69      0.63      0.66       170\n",
      "                    Environmental Law       0.53      0.81      0.64       178\n",
      "                             Evidence       0.41      0.73      0.52       171\n",
      "                           Family Law       0.89      0.81      0.85       224\n",
      "                  Government Benefits       0.61      0.31      0.42       181\n",
      "                        Habeas Corpus       0.73      0.88      0.80       296\n",
      "                           Health Law       0.55      0.48      0.51       313\n",
      "                      Immigration Law       0.84      0.77      0.80       478\n",
      "                Injury &amp; Tort Law       0.36      0.36      0.36       205\n",
      "                        Insurance Law       0.66      0.61      0.63       313\n",
      "                             Remedies       0.32      0.18      0.23       170\n",
      "                           Sentencing       0.73      0.69      0.71       215\n",
      "                              Tax Law       0.86      0.61      0.71       230\n",
      "\n",
      "                             accuracy                           0.57      4433\n",
      "                            macro avg       0.55      0.54      0.53      4433\n",
      "                         weighted avg       0.58      0.57      0.57      4433\n",
      "\n"
     ]
    },
    {
     "data": {
      "text/plain": [
       "KNeighborsClassifier()"
      ]
     },
     "execution_count": 42,
     "metadata": {},
     "output_type": "execute_result"
    }
   ],
   "source": [
    "run_model(knn_ngram,ngram_trainX,ngram_trainy,ngram_testX,ngram_testy)"
   ]
  },
  {
   "cell_type": "code",
   "execution_count": 43,
   "metadata": {
    "scrolled": true
   },
   "outputs": [
    {
     "name": "stdout",
     "output_type": "stream",
     "text": [
      "                                       precision    recall  f1-score   support\n",
      "\n",
      "                   Administrative Law       1.00      1.00      1.00       856\n",
      "                      Attorney's Fees       1.00      1.00      1.00       805\n",
      "                       Bankruptcy Law       1.00      1.00      1.00       805\n",
      "                      Civil Procedure       1.00      1.00      1.00       577\n",
      "                       Commercial Law       1.00      1.00      1.00       612\n",
      "                            Contracts       1.00      1.00      1.00       838\n",
      " Dispute Resolution &amp; Arbitration       1.00      1.00      1.00       696\n",
      "                        Education Law       1.00      1.00      1.00       766\n",
      "                    Environmental Law       1.00      1.00      1.00       846\n",
      "                             Evidence       1.00      1.00      1.00       741\n",
      "                           Family Law       1.00      1.00      1.00       979\n",
      "                  Government Benefits       1.00      1.00      1.00       655\n",
      "                        Habeas Corpus       1.00      1.00      1.00      1215\n",
      "                           Health Law       1.00      1.00      1.00      1142\n",
      "                      Immigration Law       1.00      1.00      1.00      1854\n",
      "                Injury &amp; Tort Law       1.00      1.00      1.00       795\n",
      "                        Insurance Law       1.00      1.00      1.00      1256\n",
      "                             Remedies       1.00      1.00      1.00       713\n",
      "                           Sentencing       1.00      1.00      1.00       817\n",
      "                              Tax Law       1.00      1.00      1.00       761\n",
      "\n",
      "                             accuracy                           1.00     17729\n",
      "                            macro avg       1.00      1.00      1.00     17729\n",
      "                         weighted avg       1.00      1.00      1.00     17729\n",
      "\n",
      "                                       precision    recall  f1-score   support\n",
      "\n",
      "                   Administrative Law       0.18      0.24      0.21       197\n",
      "                      Attorney's Fees       0.54      0.58      0.56       229\n",
      "                       Bankruptcy Law       0.47      0.46      0.47       183\n",
      "                      Civil Procedure       0.28      0.30      0.29       132\n",
      "                       Commercial Law       0.30      0.30      0.30       159\n",
      "                            Contracts       0.36      0.30      0.33       221\n",
      " Dispute Resolution &amp; Arbitration       0.50      0.49      0.49       168\n",
      "                        Education Law       0.51      0.54      0.52       170\n",
      "                    Environmental Law       0.49      0.47      0.48       178\n",
      "                             Evidence       0.41      0.48      0.44       171\n",
      "                           Family Law       0.71      0.71      0.71       224\n",
      "                  Government Benefits       0.50      0.40      0.44       181\n",
      "                        Habeas Corpus       0.76      0.76      0.76       296\n",
      "                           Health Law       0.42      0.39      0.41       313\n",
      "                      Immigration Law       0.82      0.73      0.77       478\n",
      "                Injury &amp; Tort Law       0.30      0.29      0.30       205\n",
      "                        Insurance Law       0.63      0.69      0.66       313\n",
      "                             Remedies       0.18      0.20      0.19       170\n",
      "                           Sentencing       0.63      0.59      0.61       215\n",
      "                              Tax Law       0.73      0.70      0.72       230\n",
      "\n",
      "                             accuracy                           0.52      4433\n",
      "                            macro avg       0.49      0.48      0.48      4433\n",
      "                         weighted avg       0.52      0.52      0.52      4433\n",
      "\n"
     ]
    },
    {
     "data": {
      "text/plain": [
       "DecisionTreeClassifier()"
      ]
     },
     "execution_count": 43,
     "metadata": {},
     "output_type": "execute_result"
    }
   ],
   "source": [
    "run_model(tree_ngram,ngram_trainX,ngram_trainy,ngram_testX,ngram_testy)"
   ]
  },
  {
   "cell_type": "code",
   "execution_count": 44,
   "metadata": {
    "scrolled": true
   },
   "outputs": [
    {
     "name": "stdout",
     "output_type": "stream",
     "text": [
      "                                       precision    recall  f1-score   support\n",
      "\n",
      "                   Administrative Law       1.00      0.99      1.00       856\n",
      "                      Attorney's Fees       1.00      1.00      1.00       805\n",
      "                       Bankruptcy Law       0.99      1.00      1.00       805\n",
      "                      Civil Procedure       1.00      1.00      1.00       577\n",
      "                       Commercial Law       1.00      1.00      1.00       612\n",
      "                            Contracts       1.00      1.00      1.00       838\n",
      " Dispute Resolution &amp; Arbitration       1.00      1.00      1.00       696\n",
      "                        Education Law       1.00      1.00      1.00       766\n",
      "                    Environmental Law       1.00      1.00      1.00       846\n",
      "                             Evidence       1.00      0.99      1.00       741\n",
      "                           Family Law       1.00      1.00      1.00       979\n",
      "                  Government Benefits       1.00      1.00      1.00       655\n",
      "                        Habeas Corpus       1.00      1.00      1.00      1215\n",
      "                           Health Law       1.00      1.00      1.00      1142\n",
      "                      Immigration Law       0.99      1.00      1.00      1854\n",
      "                Injury &amp; Tort Law       1.00      1.00      1.00       795\n",
      "                        Insurance Law       1.00      1.00      1.00      1256\n",
      "                             Remedies       1.00      1.00      1.00       713\n",
      "                           Sentencing       1.00      1.00      1.00       817\n",
      "                              Tax Law       1.00      1.00      1.00       761\n",
      "\n",
      "                             accuracy                           1.00     17729\n",
      "                            macro avg       1.00      1.00      1.00     17729\n",
      "                         weighted avg       1.00      1.00      1.00     17729\n",
      "\n",
      "                                       precision    recall  f1-score   support\n",
      "\n",
      "                   Administrative Law       0.42      0.10      0.16       197\n",
      "                      Attorney's Fees       0.66      0.78      0.71       229\n",
      "                       Bankruptcy Law       0.69      0.78      0.73       183\n",
      "                      Civil Procedure       0.61      0.40      0.48       132\n",
      "                       Commercial Law       0.64      0.18      0.28       159\n",
      "                            Contracts       0.47      0.53      0.50       221\n",
      " Dispute Resolution &amp; Arbitration       0.69      0.68      0.68       168\n",
      "                        Education Law       0.70      0.69      0.70       170\n",
      "                    Environmental Law       0.66      0.81      0.73       178\n",
      "                             Evidence       0.64      0.63      0.64       171\n",
      "                           Family Law       0.82      0.85      0.84       224\n",
      "                  Government Benefits       0.70      0.51      0.59       181\n",
      "                        Habeas Corpus       0.84      0.94      0.89       296\n",
      "                           Health Law       0.54      0.67      0.60       313\n",
      "                      Immigration Law       0.82      0.97      0.89       478\n",
      "                Injury &amp; Tort Law       0.50      0.43      0.46       205\n",
      "                        Insurance Law       0.62      0.84      0.71       313\n",
      "                             Remedies       0.54      0.23      0.32       170\n",
      "                           Sentencing       0.69      0.82      0.75       215\n",
      "                              Tax Law       0.79      0.79      0.79       230\n",
      "\n",
      "                             accuracy                           0.68      4433\n",
      "                            macro avg       0.65      0.63      0.62      4433\n",
      "                         weighted avg       0.66      0.68      0.65      4433\n",
      "\n"
     ]
    },
    {
     "data": {
      "text/plain": [
       "RandomForestClassifier(max_depth=20)"
      ]
     },
     "execution_count": 44,
     "metadata": {},
     "output_type": "execute_result"
    }
   ],
   "source": [
    "run_model(random_ngram,ngram_trainX,ngram_trainy,ngram_testX,ngram_testy)"
   ]
  },
  {
   "cell_type": "code",
   "execution_count": 45,
   "metadata": {
    "scrolled": true
   },
   "outputs": [
    {
     "name": "stderr",
     "output_type": "stream",
     "text": [
      "C:\\Users\\amird\\anaconda3\\envs\\learn-env\\lib\\site-packages\\sklearn\\svm\\_base.py:976: ConvergenceWarning: Liblinear failed to converge, increase the number of iterations.\n",
      "  warnings.warn(\"Liblinear failed to converge, increase \"\n"
     ]
    },
    {
     "name": "stdout",
     "output_type": "stream",
     "text": [
      "                                       precision    recall  f1-score   support\n",
      "\n",
      "                   Administrative Law       1.00      1.00      1.00       856\n",
      "                      Attorney's Fees       1.00      1.00      1.00       805\n",
      "                       Bankruptcy Law       1.00      1.00      1.00       805\n",
      "                      Civil Procedure       1.00      1.00      1.00       577\n",
      "                       Commercial Law       1.00      1.00      1.00       612\n",
      "                            Contracts       1.00      1.00      1.00       838\n",
      " Dispute Resolution &amp; Arbitration       1.00      1.00      1.00       696\n",
      "                        Education Law       1.00      1.00      1.00       766\n",
      "                    Environmental Law       1.00      1.00      1.00       846\n",
      "                             Evidence       1.00      1.00      1.00       741\n",
      "                           Family Law       1.00      1.00      1.00       979\n",
      "                  Government Benefits       1.00      1.00      1.00       655\n",
      "                        Habeas Corpus       1.00      1.00      1.00      1215\n",
      "                           Health Law       1.00      1.00      1.00      1142\n",
      "                      Immigration Law       1.00      1.00      1.00      1854\n",
      "                Injury &amp; Tort Law       1.00      1.00      1.00       795\n",
      "                        Insurance Law       1.00      1.00      1.00      1256\n",
      "                             Remedies       1.00      1.00      1.00       713\n",
      "                           Sentencing       1.00      1.00      1.00       817\n",
      "                              Tax Law       1.00      1.00      1.00       761\n",
      "\n",
      "                             accuracy                           1.00     17729\n",
      "                            macro avg       1.00      1.00      1.00     17729\n",
      "                         weighted avg       1.00      1.00      1.00     17729\n",
      "\n",
      "                                       precision    recall  f1-score   support\n",
      "\n",
      "                   Administrative Law       0.26      0.29      0.27       197\n",
      "                      Attorney's Fees       0.59      0.58      0.58       229\n",
      "                       Bankruptcy Law       0.64      0.64      0.64       183\n",
      "                      Civil Procedure       0.36      0.39      0.37       132\n",
      "                       Commercial Law       0.32      0.36      0.34       159\n",
      "                            Contracts       0.42      0.39      0.41       221\n",
      " Dispute Resolution &amp; Arbitration       0.69      0.63      0.66       168\n",
      "                        Education Law       0.67      0.65      0.66       170\n",
      "                    Environmental Law       0.71      0.67      0.69       178\n",
      "                             Evidence       0.60      0.61      0.61       171\n",
      "                           Family Law       0.81      0.80      0.80       224\n",
      "                  Government Benefits       0.62      0.46      0.53       181\n",
      "                        Habeas Corpus       0.84      0.89      0.86       296\n",
      "                           Health Law       0.50      0.52      0.51       313\n",
      "                      Immigration Law       0.82      0.78      0.80       478\n",
      "                Injury &amp; Tort Law       0.45      0.44      0.45       205\n",
      "                        Insurance Law       0.56      0.65      0.60       313\n",
      "                             Remedies       0.30      0.31      0.30       170\n",
      "                           Sentencing       0.77      0.76      0.76       215\n",
      "                              Tax Law       0.76      0.71      0.74       230\n",
      "\n",
      "                             accuracy                           0.60      4433\n",
      "                            macro avg       0.58      0.58      0.58      4433\n",
      "                         weighted avg       0.61      0.60      0.61      4433\n",
      "\n"
     ]
    },
    {
     "data": {
      "text/plain": [
       "LogisticRegression(C=1000000000000.0, fit_intercept=False, solver='liblinear')"
      ]
     },
     "execution_count": 45,
     "metadata": {},
     "output_type": "execute_result"
    }
   ],
   "source": [
    "run_model(log_ngram,ngram_trainX,ngram_trainy,ngram_testX,ngram_testy)"
   ]
  },
  {
   "cell_type": "code",
   "execution_count": 46,
   "metadata": {
    "scrolled": true
   },
   "outputs": [
    {
     "name": "stdout",
     "output_type": "stream",
     "text": [
      "                                       precision    recall  f1-score   support\n",
      "\n",
      "                   Administrative Law       1.00      1.00      1.00       856\n",
      "                      Attorney's Fees       1.00      1.00      1.00       805\n",
      "                       Bankruptcy Law       1.00      1.00      1.00       805\n",
      "                      Civil Procedure       1.00      1.00      1.00       577\n",
      "                       Commercial Law       1.00      1.00      1.00       612\n",
      "                            Contracts       1.00      1.00      1.00       838\n",
      " Dispute Resolution &amp; Arbitration       1.00      1.00      1.00       696\n",
      "                        Education Law       1.00      1.00      1.00       766\n",
      "                    Environmental Law       1.00      1.00      1.00       846\n",
      "                             Evidence       1.00      1.00      1.00       741\n",
      "                           Family Law       1.00      1.00      1.00       979\n",
      "                  Government Benefits       1.00      1.00      1.00       655\n",
      "                        Habeas Corpus       1.00      1.00      1.00      1215\n",
      "                           Health Law       1.00      1.00      1.00      1142\n",
      "                      Immigration Law       1.00      1.00      1.00      1854\n",
      "                Injury &amp; Tort Law       1.00      1.00      1.00       795\n",
      "                        Insurance Law       1.00      1.00      1.00      1256\n",
      "                             Remedies       1.00      1.00      1.00       713\n",
      "                           Sentencing       1.00      1.00      1.00       817\n",
      "                              Tax Law       1.00      1.00      1.00       761\n",
      "\n",
      "                             accuracy                           1.00     17729\n",
      "                            macro avg       1.00      1.00      1.00     17729\n",
      "                         weighted avg       1.00      1.00      1.00     17729\n",
      "\n",
      "                                       precision    recall  f1-score   support\n",
      "\n",
      "                   Administrative Law       0.18      0.20      0.19       197\n",
      "                      Attorney's Fees       0.55      0.59      0.57       229\n",
      "                       Bankruptcy Law       0.53      0.46      0.50       183\n",
      "                      Civil Procedure       0.28      0.30      0.29       132\n",
      "                       Commercial Law       0.27      0.26      0.26       159\n",
      "                            Contracts       0.33      0.30      0.31       221\n",
      " Dispute Resolution &amp; Arbitration       0.49      0.50      0.50       168\n",
      "                        Education Law       0.56      0.53      0.54       170\n",
      "                    Environmental Law       0.49      0.51      0.50       178\n",
      "                             Evidence       0.39      0.46      0.42       171\n",
      "                           Family Law       0.69      0.73      0.71       224\n",
      "                  Government Benefits       0.48      0.43      0.45       181\n",
      "                        Habeas Corpus       0.75      0.73      0.74       296\n",
      "                           Health Law       0.42      0.40      0.41       313\n",
      "                      Immigration Law       0.81      0.75      0.78       478\n",
      "                Injury &amp; Tort Law       0.30      0.30      0.30       205\n",
      "                        Insurance Law       0.61      0.66      0.64       313\n",
      "                             Remedies       0.16      0.18      0.17       170\n",
      "                           Sentencing       0.61      0.60      0.61       215\n",
      "                              Tax Law       0.74      0.72      0.73       230\n",
      "\n",
      "                             accuracy                           0.51      4433\n",
      "                            macro avg       0.48      0.48      0.48      4433\n",
      "                         weighted avg       0.52      0.51      0.52      4433\n",
      "\n"
     ]
    },
    {
     "data": {
      "text/plain": [
       "DecisionTreeClassifier()"
      ]
     },
     "execution_count": 46,
     "metadata": {},
     "output_type": "execute_result"
    }
   ],
   "source": [
    "run_model(dt_ngram,ngram_trainX,ngram_trainy,ngram_testX,ngram_testy)"
   ]
  },
  {
   "cell_type": "code",
   "execution_count": 47,
   "metadata": {
    "scrolled": true
   },
   "outputs": [
    {
     "name": "stdout",
     "output_type": "stream",
     "text": [
      "                                       precision    recall  f1-score   support\n",
      "\n",
      "                   Administrative Law       0.99      0.97      0.98       856\n",
      "                      Attorney's Fees       0.98      0.99      0.98       805\n",
      "                       Bankruptcy Law       0.99      1.00      0.99       805\n",
      "                      Civil Procedure       0.99      0.98      0.98       577\n",
      "                       Commercial Law       0.99      0.97      0.98       612\n",
      "                            Contracts       0.98      0.98      0.98       838\n",
      " Dispute Resolution &amp; Arbitration       0.99      0.99      0.99       696\n",
      "                        Education Law       0.98      0.99      0.99       766\n",
      "                    Environmental Law       0.99      0.99      0.99       846\n",
      "                             Evidence       0.98      0.99      0.99       741\n",
      "                           Family Law       0.99      0.99      0.99       979\n",
      "                  Government Benefits       0.99      0.99      0.99       655\n",
      "                        Habeas Corpus       0.99      1.00      0.99      1215\n",
      "                           Health Law       0.99      0.99      0.99      1142\n",
      "                      Immigration Law       0.99      1.00      0.99      1854\n",
      "                Injury &amp; Tort Law       0.99      0.98      0.99       795\n",
      "                        Insurance Law       0.98      0.99      0.99      1256\n",
      "                             Remedies       1.00      0.97      0.98       713\n",
      "                           Sentencing       0.99      0.98      0.99       817\n",
      "                              Tax Law       0.99      0.99      0.99       761\n",
      "\n",
      "                             accuracy                           0.99     17729\n",
      "                            macro avg       0.99      0.99      0.99     17729\n",
      "                         weighted avg       0.99      0.99      0.99     17729\n",
      "\n",
      "                                       precision    recall  f1-score   support\n",
      "\n",
      "                   Administrative Law       0.29      0.23      0.26       197\n",
      "                      Attorney's Fees       0.63      0.71      0.67       229\n",
      "                       Bankruptcy Law       0.59      0.68      0.63       183\n",
      "                      Civil Procedure       0.40      0.38      0.39       132\n",
      "                       Commercial Law       0.32      0.36      0.34       159\n",
      "                            Contracts       0.43      0.42      0.42       221\n",
      " Dispute Resolution &amp; Arbitration       0.63      0.59      0.61       168\n",
      "                        Education Law       0.68      0.75      0.72       170\n",
      "                    Environmental Law       0.63      0.74      0.68       178\n",
      "                             Evidence       0.54      0.57      0.56       171\n",
      "                           Family Law       0.84      0.79      0.82       224\n",
      "                  Government Benefits       0.61      0.53      0.57       181\n",
      "                        Habeas Corpus       0.84      0.88      0.86       296\n",
      "                           Health Law       0.55      0.54      0.55       313\n",
      "                      Immigration Law       0.81      0.90      0.85       478\n",
      "                Injury &amp; Tort Law       0.49      0.37      0.42       205\n",
      "                        Insurance Law       0.68      0.79      0.73       313\n",
      "                             Remedies       0.41      0.21      0.27       170\n",
      "                           Sentencing       0.79      0.72      0.75       215\n",
      "                              Tax Law       0.78      0.81      0.80       230\n",
      "\n",
      "                             accuracy                           0.64      4433\n",
      "                            macro avg       0.60      0.60      0.59      4433\n",
      "                         weighted avg       0.63      0.64      0.63      4433\n",
      "\n"
     ]
    },
    {
     "data": {
      "text/plain": [
       "BaggingClassifier()"
      ]
     },
     "execution_count": 47,
     "metadata": {},
     "output_type": "execute_result"
    }
   ],
   "source": [
    "run_model(bagged_ngram,ngram_trainX,ngram_trainy,ngram_testX,ngram_testy)"
   ]
  },
  {
   "cell_type": "code",
   "execution_count": 48,
   "metadata": {
    "scrolled": true
   },
   "outputs": [
    {
     "name": "stderr",
     "output_type": "stream",
     "text": [
      "C:\\Users\\amird\\anaconda3\\envs\\learn-env\\lib\\site-packages\\sklearn\\metrics\\_classification.py:1221: UndefinedMetricWarning: Precision and F-score are ill-defined and being set to 0.0 in labels with no predicted samples. Use `zero_division` parameter to control this behavior.\n",
      "  _warn_prf(average, modifier, msg_start, len(result))\n"
     ]
    },
    {
     "name": "stdout",
     "output_type": "stream",
     "text": [
      "                                       precision    recall  f1-score   support\n",
      "\n",
      "                   Administrative Law       0.00      0.00      0.00       856\n",
      "                      Attorney's Fees       0.83      0.02      0.05       805\n",
      "                       Bankruptcy Law       0.00      0.00      0.00       805\n",
      "                      Civil Procedure       0.00      0.00      0.00       577\n",
      "                       Commercial Law       0.00      0.00      0.00       612\n",
      "                            Contracts       0.00      0.00      0.00       838\n",
      " Dispute Resolution &amp; Arbitration       0.00      0.00      0.00       696\n",
      "                        Education Law       0.00      0.00      0.00       766\n",
      "                    Environmental Law       0.00      0.00      0.00       846\n",
      "                             Evidence       0.00      0.00      0.00       741\n",
      "                           Family Law       0.98      0.34      0.50       979\n",
      "                  Government Benefits       0.00      0.00      0.00       655\n",
      "                        Habeas Corpus       0.92      0.08      0.15      1215\n",
      "                           Health Law       0.64      0.04      0.07      1142\n",
      "                      Immigration Law       0.13      1.00      0.23      1854\n",
      "                Injury &amp; Tort Law       0.00      0.00      0.00       795\n",
      "                        Insurance Law       0.36      0.74      0.48      1256\n",
      "                             Remedies       0.00      0.00      0.00       713\n",
      "                           Sentencing       0.00      0.00      0.00       817\n",
      "                              Tax Law       0.92      0.02      0.03       761\n",
      "\n",
      "                             accuracy                           0.19     17729\n",
      "                            macro avg       0.24      0.11      0.08     17729\n",
      "                         weighted avg       0.28      0.19      0.10     17729\n",
      "\n",
      "                                       precision    recall  f1-score   support\n",
      "\n",
      "                   Administrative Law       0.00      0.00      0.00       197\n",
      "                      Attorney's Fees       0.78      0.03      0.06       229\n",
      "                       Bankruptcy Law       0.00      0.00      0.00       183\n",
      "                      Civil Procedure       0.00      0.00      0.00       132\n",
      "                       Commercial Law       0.00      0.00      0.00       159\n",
      "                            Contracts       0.00      0.00      0.00       221\n",
      " Dispute Resolution &amp; Arbitration       0.00      0.00      0.00       168\n",
      "                        Education Law       0.00      0.00      0.00       170\n",
      "                    Environmental Law       0.00      0.00      0.00       178\n",
      "                             Evidence       0.00      0.00      0.00       171\n",
      "                           Family Law       0.99      0.37      0.53       224\n",
      "                  Government Benefits       0.00      0.00      0.00       181\n",
      "                        Habeas Corpus       0.96      0.08      0.16       296\n",
      "                           Health Law       0.65      0.05      0.09       313\n",
      "                      Immigration Law       0.13      1.00      0.23       478\n",
      "                Injury &amp; Tort Law       0.00      0.00      0.00       205\n",
      "                        Insurance Law       0.36      0.79      0.49       313\n",
      "                             Remedies       0.00      0.00      0.00       170\n",
      "                           Sentencing       0.00      0.00      0.00       215\n",
      "                              Tax Law       0.00      0.00      0.00       230\n",
      "\n",
      "                             accuracy                           0.19      4433\n",
      "                            macro avg       0.19      0.12      0.08      4433\n",
      "                         weighted avg       0.24      0.19      0.11      4433\n",
      "\n"
     ]
    },
    {
     "data": {
      "text/plain": [
       "MultinomialNB()"
      ]
     },
     "execution_count": 48,
     "metadata": {},
     "output_type": "execute_result"
    }
   ],
   "source": [
    "run_model(mnb_ngram,ngram_trainX,ngram_trainy,ngram_testX,ngram_testy)"
   ]
  },
  {
   "cell_type": "markdown",
   "metadata": {},
   "source": [
    "# lets increase size of ngrams to 3 to see what we can get"
   ]
  },
  {
   "cell_type": "code",
   "execution_count": 39,
   "metadata": {},
   "outputs": [],
   "source": [
    "tester4,ngram3_target=clean_by_case_data('ngram3',data_frame20)"
   ]
  },
  {
   "cell_type": "code",
   "execution_count": 156,
   "metadata": {},
   "outputs": [
    {
     "data": {
      "text/html": [
       "<div>\n",
       "<style scoped>\n",
       "    .dataframe tbody tr th:only-of-type {\n",
       "        vertical-align: middle;\n",
       "    }\n",
       "\n",
       "    .dataframe tbody tr th {\n",
       "        vertical-align: top;\n",
       "    }\n",
       "\n",
       "    .dataframe thead th {\n",
       "        text-align: right;\n",
       "    }\n",
       "</style>\n",
       "<table border=\"1\" class=\"dataframe\">\n",
       "  <thead>\n",
       "    <tr style=\"text-align: right;\">\n",
       "      <th></th>\n",
       "      <th></th>\n",
       "      <th>00</th>\n",
       "      <th>000</th>\n",
       "      <th>10</th>\n",
       "      <th>100</th>\n",
       "      <th>101</th>\n",
       "      <th>102</th>\n",
       "      <th>103</th>\n",
       "      <th>104</th>\n",
       "      <th>104 ct</th>\n",
       "      <th>...</th>\n",
       "      <th>writing</th>\n",
       "      <th>written</th>\n",
       "      <th>wrong</th>\n",
       "      <th>wrote</th>\n",
       "      <th>year</th>\n",
       "      <th>year later</th>\n",
       "      <th>year old</th>\n",
       "      <th>years</th>\n",
       "      <th>yet</th>\n",
       "      <th>york</th>\n",
       "    </tr>\n",
       "  </thead>\n",
       "  <tbody>\n",
       "    <tr>\n",
       "      <th>0</th>\n",
       "      <td>0.993771</td>\n",
       "      <td>0.0</td>\n",
       "      <td>0.000000</td>\n",
       "      <td>0.003095</td>\n",
       "      <td>0.000000</td>\n",
       "      <td>0.000384</td>\n",
       "      <td>0.000409</td>\n",
       "      <td>0.0</td>\n",
       "      <td>0.000000</td>\n",
       "      <td>0.0</td>\n",
       "      <td>...</td>\n",
       "      <td>0.000427</td>\n",
       "      <td>0.000000</td>\n",
       "      <td>0.000406</td>\n",
       "      <td>0.000429</td>\n",
       "      <td>0.002182</td>\n",
       "      <td>0.000474</td>\n",
       "      <td>0.0</td>\n",
       "      <td>0.000794</td>\n",
       "      <td>0.000306</td>\n",
       "      <td>0.006537</td>\n",
       "    </tr>\n",
       "    <tr>\n",
       "      <th>1</th>\n",
       "      <td>0.988795</td>\n",
       "      <td>0.0</td>\n",
       "      <td>0.000933</td>\n",
       "      <td>0.002738</td>\n",
       "      <td>0.000514</td>\n",
       "      <td>0.000000</td>\n",
       "      <td>0.000000</td>\n",
       "      <td>0.0</td>\n",
       "      <td>0.000000</td>\n",
       "      <td>0.0</td>\n",
       "      <td>...</td>\n",
       "      <td>0.000000</td>\n",
       "      <td>0.000000</td>\n",
       "      <td>0.000000</td>\n",
       "      <td>0.000000</td>\n",
       "      <td>0.000614</td>\n",
       "      <td>0.000000</td>\n",
       "      <td>0.0</td>\n",
       "      <td>0.000000</td>\n",
       "      <td>0.000947</td>\n",
       "      <td>0.001190</td>\n",
       "    </tr>\n",
       "    <tr>\n",
       "      <th>2</th>\n",
       "      <td>0.995693</td>\n",
       "      <td>0.0</td>\n",
       "      <td>0.000000</td>\n",
       "      <td>0.001144</td>\n",
       "      <td>0.000000</td>\n",
       "      <td>0.000000</td>\n",
       "      <td>0.000000</td>\n",
       "      <td>0.0</td>\n",
       "      <td>0.000000</td>\n",
       "      <td>0.0</td>\n",
       "      <td>...</td>\n",
       "      <td>0.000000</td>\n",
       "      <td>0.000000</td>\n",
       "      <td>0.000000</td>\n",
       "      <td>0.000000</td>\n",
       "      <td>0.002052</td>\n",
       "      <td>0.000000</td>\n",
       "      <td>0.0</td>\n",
       "      <td>0.000513</td>\n",
       "      <td>0.000791</td>\n",
       "      <td>0.000994</td>\n",
       "    </tr>\n",
       "    <tr>\n",
       "      <th>3</th>\n",
       "      <td>0.989159</td>\n",
       "      <td>0.0</td>\n",
       "      <td>0.000000</td>\n",
       "      <td>0.000000</td>\n",
       "      <td>0.000000</td>\n",
       "      <td>0.000000</td>\n",
       "      <td>0.000000</td>\n",
       "      <td>0.0</td>\n",
       "      <td>0.000000</td>\n",
       "      <td>0.0</td>\n",
       "      <td>...</td>\n",
       "      <td>0.000000</td>\n",
       "      <td>0.000000</td>\n",
       "      <td>0.003704</td>\n",
       "      <td>0.000000</td>\n",
       "      <td>0.000000</td>\n",
       "      <td>0.000000</td>\n",
       "      <td>0.0</td>\n",
       "      <td>0.000000</td>\n",
       "      <td>0.000000</td>\n",
       "      <td>0.000000</td>\n",
       "    </tr>\n",
       "    <tr>\n",
       "      <th>4</th>\n",
       "      <td>0.993229</td>\n",
       "      <td>0.0</td>\n",
       "      <td>0.001373</td>\n",
       "      <td>0.002014</td>\n",
       "      <td>0.000000</td>\n",
       "      <td>0.001751</td>\n",
       "      <td>0.000000</td>\n",
       "      <td>0.0</td>\n",
       "      <td>0.001583</td>\n",
       "      <td>0.0</td>\n",
       "      <td>...</td>\n",
       "      <td>0.000000</td>\n",
       "      <td>0.000000</td>\n",
       "      <td>0.000000</td>\n",
       "      <td>0.000000</td>\n",
       "      <td>0.008129</td>\n",
       "      <td>0.000000</td>\n",
       "      <td>0.0</td>\n",
       "      <td>0.000000</td>\n",
       "      <td>0.000000</td>\n",
       "      <td>0.003503</td>\n",
       "    </tr>\n",
       "    <tr>\n",
       "      <th>...</th>\n",
       "      <td>...</td>\n",
       "      <td>...</td>\n",
       "      <td>...</td>\n",
       "      <td>...</td>\n",
       "      <td>...</td>\n",
       "      <td>...</td>\n",
       "      <td>...</td>\n",
       "      <td>...</td>\n",
       "      <td>...</td>\n",
       "      <td>...</td>\n",
       "      <td>...</td>\n",
       "      <td>...</td>\n",
       "      <td>...</td>\n",
       "      <td>...</td>\n",
       "      <td>...</td>\n",
       "      <td>...</td>\n",
       "      <td>...</td>\n",
       "      <td>...</td>\n",
       "      <td>...</td>\n",
       "      <td>...</td>\n",
       "      <td>...</td>\n",
       "    </tr>\n",
       "    <tr>\n",
       "      <th>22157</th>\n",
       "      <td>0.993729</td>\n",
       "      <td>0.0</td>\n",
       "      <td>0.001381</td>\n",
       "      <td>0.002026</td>\n",
       "      <td>0.001520</td>\n",
       "      <td>0.001761</td>\n",
       "      <td>0.000000</td>\n",
       "      <td>0.0</td>\n",
       "      <td>0.000000</td>\n",
       "      <td>0.0</td>\n",
       "      <td>...</td>\n",
       "      <td>0.000000</td>\n",
       "      <td>0.001351</td>\n",
       "      <td>0.001859</td>\n",
       "      <td>0.000000</td>\n",
       "      <td>0.000000</td>\n",
       "      <td>0.000000</td>\n",
       "      <td>0.0</td>\n",
       "      <td>0.000000</td>\n",
       "      <td>0.000000</td>\n",
       "      <td>0.000000</td>\n",
       "    </tr>\n",
       "    <tr>\n",
       "      <th>22158</th>\n",
       "      <td>0.990212</td>\n",
       "      <td>0.0</td>\n",
       "      <td>0.002796</td>\n",
       "      <td>0.000000</td>\n",
       "      <td>0.000000</td>\n",
       "      <td>0.000000</td>\n",
       "      <td>0.000000</td>\n",
       "      <td>0.0</td>\n",
       "      <td>0.000000</td>\n",
       "      <td>0.0</td>\n",
       "      <td>...</td>\n",
       "      <td>0.000000</td>\n",
       "      <td>0.000000</td>\n",
       "      <td>0.000000</td>\n",
       "      <td>0.000000</td>\n",
       "      <td>0.005517</td>\n",
       "      <td>0.000000</td>\n",
       "      <td>0.0</td>\n",
       "      <td>0.000000</td>\n",
       "      <td>0.000000</td>\n",
       "      <td>0.000000</td>\n",
       "    </tr>\n",
       "    <tr>\n",
       "      <th>22159</th>\n",
       "      <td>0.993908</td>\n",
       "      <td>0.0</td>\n",
       "      <td>0.000000</td>\n",
       "      <td>0.000000</td>\n",
       "      <td>0.000000</td>\n",
       "      <td>0.006911</td>\n",
       "      <td>0.000000</td>\n",
       "      <td>0.0</td>\n",
       "      <td>0.006250</td>\n",
       "      <td>0.0</td>\n",
       "      <td>...</td>\n",
       "      <td>0.000000</td>\n",
       "      <td>0.000000</td>\n",
       "      <td>0.000000</td>\n",
       "      <td>0.000000</td>\n",
       "      <td>0.000000</td>\n",
       "      <td>0.000000</td>\n",
       "      <td>0.0</td>\n",
       "      <td>0.000000</td>\n",
       "      <td>0.000000</td>\n",
       "      <td>0.000000</td>\n",
       "    </tr>\n",
       "    <tr>\n",
       "      <th>22160</th>\n",
       "      <td>0.994336</td>\n",
       "      <td>0.0</td>\n",
       "      <td>0.000000</td>\n",
       "      <td>0.000000</td>\n",
       "      <td>0.000000</td>\n",
       "      <td>0.000000</td>\n",
       "      <td>0.000000</td>\n",
       "      <td>0.0</td>\n",
       "      <td>0.000000</td>\n",
       "      <td>0.0</td>\n",
       "      <td>...</td>\n",
       "      <td>0.000000</td>\n",
       "      <td>0.001298</td>\n",
       "      <td>0.000000</td>\n",
       "      <td>0.000000</td>\n",
       "      <td>0.002618</td>\n",
       "      <td>0.000000</td>\n",
       "      <td>0.0</td>\n",
       "      <td>0.000000</td>\n",
       "      <td>0.000000</td>\n",
       "      <td>0.000000</td>\n",
       "    </tr>\n",
       "    <tr>\n",
       "      <th>22161</th>\n",
       "      <td>0.988744</td>\n",
       "      <td>0.0</td>\n",
       "      <td>0.000000</td>\n",
       "      <td>0.000000</td>\n",
       "      <td>0.000000</td>\n",
       "      <td>0.000000</td>\n",
       "      <td>0.000000</td>\n",
       "      <td>0.0</td>\n",
       "      <td>0.000000</td>\n",
       "      <td>0.0</td>\n",
       "      <td>...</td>\n",
       "      <td>0.000000</td>\n",
       "      <td>0.000000</td>\n",
       "      <td>0.000000</td>\n",
       "      <td>0.000000</td>\n",
       "      <td>0.003566</td>\n",
       "      <td>0.000000</td>\n",
       "      <td>0.0</td>\n",
       "      <td>0.003570</td>\n",
       "      <td>0.008249</td>\n",
       "      <td>0.000000</td>\n",
       "    </tr>\n",
       "  </tbody>\n",
       "</table>\n",
       "<p>22162 rows × 2301 columns</p>\n",
       "</div>"
      ],
      "text/plain": [
       "                  00       000        10       100       101       102  103  \\\n",
       "0      0.993771  0.0  0.000000  0.003095  0.000000  0.000384  0.000409  0.0   \n",
       "1      0.988795  0.0  0.000933  0.002738  0.000514  0.000000  0.000000  0.0   \n",
       "2      0.995693  0.0  0.000000  0.001144  0.000000  0.000000  0.000000  0.0   \n",
       "3      0.989159  0.0  0.000000  0.000000  0.000000  0.000000  0.000000  0.0   \n",
       "4      0.993229  0.0  0.001373  0.002014  0.000000  0.001751  0.000000  0.0   \n",
       "...         ...  ...       ...       ...       ...       ...       ...  ...   \n",
       "22157  0.993729  0.0  0.001381  0.002026  0.001520  0.001761  0.000000  0.0   \n",
       "22158  0.990212  0.0  0.002796  0.000000  0.000000  0.000000  0.000000  0.0   \n",
       "22159  0.993908  0.0  0.000000  0.000000  0.000000  0.006911  0.000000  0.0   \n",
       "22160  0.994336  0.0  0.000000  0.000000  0.000000  0.000000  0.000000  0.0   \n",
       "22161  0.988744  0.0  0.000000  0.000000  0.000000  0.000000  0.000000  0.0   \n",
       "\n",
       "            104  104 ct  ...   writing   written     wrong     wrote  \\\n",
       "0      0.000000     0.0  ...  0.000427  0.000000  0.000406  0.000429   \n",
       "1      0.000000     0.0  ...  0.000000  0.000000  0.000000  0.000000   \n",
       "2      0.000000     0.0  ...  0.000000  0.000000  0.000000  0.000000   \n",
       "3      0.000000     0.0  ...  0.000000  0.000000  0.003704  0.000000   \n",
       "4      0.001583     0.0  ...  0.000000  0.000000  0.000000  0.000000   \n",
       "...         ...     ...  ...       ...       ...       ...       ...   \n",
       "22157  0.000000     0.0  ...  0.000000  0.001351  0.001859  0.000000   \n",
       "22158  0.000000     0.0  ...  0.000000  0.000000  0.000000  0.000000   \n",
       "22159  0.006250     0.0  ...  0.000000  0.000000  0.000000  0.000000   \n",
       "22160  0.000000     0.0  ...  0.000000  0.001298  0.000000  0.000000   \n",
       "22161  0.000000     0.0  ...  0.000000  0.000000  0.000000  0.000000   \n",
       "\n",
       "           year  year later  year old     years       yet      york  \n",
       "0      0.002182    0.000474       0.0  0.000794  0.000306  0.006537  \n",
       "1      0.000614    0.000000       0.0  0.000000  0.000947  0.001190  \n",
       "2      0.002052    0.000000       0.0  0.000513  0.000791  0.000994  \n",
       "3      0.000000    0.000000       0.0  0.000000  0.000000  0.000000  \n",
       "4      0.008129    0.000000       0.0  0.000000  0.000000  0.003503  \n",
       "...         ...         ...       ...       ...       ...       ...  \n",
       "22157  0.000000    0.000000       0.0  0.000000  0.000000  0.000000  \n",
       "22158  0.005517    0.000000       0.0  0.000000  0.000000  0.000000  \n",
       "22159  0.000000    0.000000       0.0  0.000000  0.000000  0.000000  \n",
       "22160  0.002618    0.000000       0.0  0.000000  0.000000  0.000000  \n",
       "22161  0.003566    0.000000       0.0  0.003570  0.008249  0.000000  \n",
       "\n",
       "[22162 rows x 2301 columns]"
      ]
     },
     "execution_count": 156,
     "metadata": {},
     "output_type": "execute_result"
    }
   ],
   "source": [
    "tester4"
   ]
  },
  {
   "cell_type": "code",
   "execution_count": 290,
   "metadata": {},
   "outputs": [],
   "source": [
    "ngram3_trainX, ngram3_testX, ngram3_trainy, ngram3_testy = train_test_split(tester4, ngram3_target, test_size=0.20, random_state=1)"
   ]
  },
  {
   "cell_type": "code",
   "execution_count": 291,
   "metadata": {},
   "outputs": [],
   "source": [
    "knn_ngram3=KNeighborsClassifier()\n",
    "tree_ngram3=tree.DecisionTreeClassifier()\n",
    "random_ngram3=RandomForestClassifier(n_estimators=100, max_depth= 20)\n",
    "log_ngram3=LogisticRegression(fit_intercept=False, C=1e12, solver='liblinear')\n",
    "xboost_ngram3=XGBClassifier()\n",
    "svm_ngram3=svm.SVC(decision_function_shape='ovo')\n",
    "dt_ngram3 = DecisionTreeClassifier()\n",
    "bagged_ngram3=BaggingClassifier()\n",
    "ada_ngram3 = AdaBoostClassifier()\n",
    "gb_ngram3 = GradientBoostingClassifier()\n",
    "mnb_ngram3 = MultinomialNB()"
   ]
  },
  {
   "cell_type": "code",
   "execution_count": 54,
   "metadata": {
    "scrolled": true
   },
   "outputs": [
    {
     "name": "stdout",
     "output_type": "stream",
     "text": [
      "                                       precision    recall  f1-score   support\n",
      "\n",
      "                   Administrative Law       1.00      1.00      1.00       856\n",
      "                      Attorney's Fees       1.00      1.00      1.00       805\n",
      "                       Bankruptcy Law       1.00      1.00      1.00       805\n",
      "                      Civil Procedure       1.00      1.00      1.00       577\n",
      "                       Commercial Law       1.00      1.00      1.00       612\n",
      "                            Contracts       1.00      1.00      1.00       838\n",
      " Dispute Resolution &amp; Arbitration       1.00      1.00      1.00       696\n",
      "                        Education Law       1.00      1.00      1.00       766\n",
      "                    Environmental Law       1.00      1.00      1.00       846\n",
      "                             Evidence       1.00      1.00      1.00       741\n",
      "                           Family Law       1.00      1.00      1.00       979\n",
      "                  Government Benefits       1.00      1.00      1.00       655\n",
      "                        Habeas Corpus       1.00      1.00      1.00      1215\n",
      "                           Health Law       1.00      1.00      1.00      1142\n",
      "                      Immigration Law       1.00      1.00      1.00      1854\n",
      "                Injury &amp; Tort Law       1.00      1.00      1.00       795\n",
      "                        Insurance Law       1.00      1.00      1.00      1256\n",
      "                             Remedies       1.00      1.00      1.00       713\n",
      "                           Sentencing       1.00      1.00      1.00       817\n",
      "                              Tax Law       1.00      1.00      1.00       761\n",
      "\n",
      "                             accuracy                           1.00     17729\n",
      "                            macro avg       1.00      1.00      1.00     17729\n",
      "                         weighted avg       1.00      1.00      1.00     17729\n",
      "\n",
      "                                       precision    recall  f1-score   support\n",
      "\n",
      "                   Administrative Law       0.46      0.31      0.37       197\n",
      "                      Attorney's Fees       0.71      0.77      0.74       229\n",
      "                       Bankruptcy Law       0.75      0.77      0.76       183\n",
      "                      Civil Procedure       0.58      0.55      0.57       132\n",
      "                       Commercial Law       0.58      0.53      0.56       159\n",
      "                            Contracts       0.61      0.61      0.61       221\n",
      " Dispute Resolution &amp; Arbitration       0.73      0.76      0.74       168\n",
      "                        Education Law       0.76      0.74      0.75       170\n",
      "                    Environmental Law       0.82      0.82      0.82       178\n",
      "                             Evidence       0.71      0.64      0.67       171\n",
      "                           Family Law       0.88      0.86      0.87       224\n",
      "                  Government Benefits       0.72      0.56      0.63       181\n",
      "                        Habeas Corpus       0.89      0.92      0.90       296\n",
      "                           Health Law       0.65      0.67      0.66       313\n",
      "                      Immigration Law       0.82      0.95      0.88       478\n",
      "                Injury &amp; Tort Law       0.63      0.58      0.60       205\n",
      "                        Insurance Law       0.68      0.81      0.74       313\n",
      "                             Remedies       0.51      0.43      0.46       170\n",
      "                           Sentencing       0.81      0.82      0.82       215\n",
      "                              Tax Law       0.82      0.88      0.85       230\n",
      "\n",
      "                             accuracy                           0.73      4433\n",
      "                            macro avg       0.71      0.70      0.70      4433\n",
      "                         weighted avg       0.72      0.73      0.72      4433\n",
      "\n"
     ]
    },
    {
     "data": {
      "text/plain": [
       "XGBClassifier(base_score=0.5, booster='gbtree', colsample_bylevel=1,\n",
       "              colsample_bynode=1, colsample_bytree=1, gamma=0, gpu_id=-1,\n",
       "              importance_type='gain', interaction_constraints='',\n",
       "              learning_rate=0.300000012, max_delta_step=0, max_depth=6,\n",
       "              min_child_weight=1, missing=nan, monotone_constraints='()',\n",
       "              n_estimators=100, n_jobs=0, num_parallel_tree=1,\n",
       "              objective='multi:softprob', random_state=0, reg_alpha=0,\n",
       "              reg_lambda=1, scale_pos_weight=None, subsample=1,\n",
       "              tree_method='exact', validate_parameters=1, verbosity=None)"
      ]
     },
     "execution_count": 54,
     "metadata": {},
     "output_type": "execute_result"
    }
   ],
   "source": [
    "run_model(xboost_ngram3,ngram3_trainX,ngram3_trainy,ngram3_testX,ngram3_testy)"
   ]
  },
  {
   "cell_type": "code",
   "execution_count": 55,
   "metadata": {
    "scrolled": true
   },
   "outputs": [
    {
     "name": "stdout",
     "output_type": "stream",
     "text": [
      "                                       precision    recall  f1-score   support\n",
      "\n",
      "                   Administrative Law       0.45      0.48      0.46       856\n",
      "                      Attorney's Fees       0.59      0.80      0.68       805\n",
      "                       Bankruptcy Law       0.65      0.78      0.71       805\n",
      "                      Civil Procedure       0.52      0.49      0.50       577\n",
      "                       Commercial Law       0.60      0.49      0.54       612\n",
      "                            Contracts       0.55      0.56      0.55       838\n",
      " Dispute Resolution &amp; Arbitration       0.75      0.69      0.72       696\n",
      "                        Education Law       0.76      0.76      0.76       766\n",
      "                    Environmental Law       0.68      0.84      0.75       846\n",
      "                             Evidence       0.55      0.79      0.65       741\n",
      "                           Family Law       0.92      0.82      0.87       979\n",
      "                  Government Benefits       0.78      0.57      0.66       655\n",
      "                        Habeas Corpus       0.78      0.94      0.85      1215\n",
      "                           Health Law       0.68      0.60      0.64      1142\n",
      "                      Immigration Law       0.85      0.85      0.85      1854\n",
      "                Injury &amp; Tort Law       0.58      0.57      0.58       795\n",
      "                        Insurance Law       0.81      0.67      0.73      1256\n",
      "                             Remedies       0.66      0.37      0.48       713\n",
      "                           Sentencing       0.77      0.77      0.77       817\n",
      "                              Tax Law       0.84      0.72      0.77       761\n",
      "\n",
      "                             accuracy                           0.70     17729\n",
      "                            macro avg       0.69      0.68      0.68     17729\n",
      "                         weighted avg       0.71      0.70      0.70     17729\n",
      "\n",
      "                                       precision    recall  f1-score   support\n",
      "\n",
      "                   Administrative Law       0.18      0.22      0.20       197\n",
      "                      Attorney's Fees       0.49      0.66      0.56       229\n",
      "                       Bankruptcy Law       0.48      0.60      0.53       183\n",
      "                      Civil Procedure       0.24      0.28      0.26       132\n",
      "                       Commercial Law       0.37      0.26      0.31       159\n",
      "                            Contracts       0.33      0.31      0.32       221\n",
      " Dispute Resolution &amp; Arbitration       0.63      0.57      0.60       168\n",
      "                        Education Law       0.70      0.63      0.66       170\n",
      "                    Environmental Law       0.53      0.81      0.64       178\n",
      "                             Evidence       0.42      0.72      0.53       171\n",
      "                           Family Law       0.89      0.81      0.85       224\n",
      "                  Government Benefits       0.61      0.31      0.41       181\n",
      "                        Habeas Corpus       0.74      0.88      0.80       296\n",
      "                           Health Law       0.54      0.46      0.50       313\n",
      "                      Immigration Law       0.84      0.76      0.80       478\n",
      "                Injury &amp; Tort Law       0.37      0.38      0.37       205\n",
      "                        Insurance Law       0.66      0.60      0.63       313\n",
      "                             Remedies       0.33      0.18      0.23       170\n",
      "                           Sentencing       0.73      0.69      0.71       215\n",
      "                              Tax Law       0.86      0.61      0.71       230\n",
      "\n",
      "                             accuracy                           0.57      4433\n",
      "                            macro avg       0.55      0.54      0.53      4433\n",
      "                         weighted avg       0.58      0.57      0.57      4433\n",
      "\n"
     ]
    },
    {
     "data": {
      "text/plain": [
       "KNeighborsClassifier()"
      ]
     },
     "execution_count": 55,
     "metadata": {},
     "output_type": "execute_result"
    }
   ],
   "source": [
    "run_model(knn_ngram3,ngram3_trainX,ngram3_trainy,ngram3_testX,ngram3_testy)"
   ]
  },
  {
   "cell_type": "code",
   "execution_count": 56,
   "metadata": {
    "scrolled": true
   },
   "outputs": [
    {
     "name": "stdout",
     "output_type": "stream",
     "text": [
      "                                       precision    recall  f1-score   support\n",
      "\n",
      "                   Administrative Law       1.00      1.00      1.00       856\n",
      "                      Attorney's Fees       1.00      1.00      1.00       805\n",
      "                       Bankruptcy Law       1.00      1.00      1.00       805\n",
      "                      Civil Procedure       1.00      1.00      1.00       577\n",
      "                       Commercial Law       1.00      1.00      1.00       612\n",
      "                            Contracts       1.00      1.00      1.00       838\n",
      " Dispute Resolution &amp; Arbitration       1.00      1.00      1.00       696\n",
      "                        Education Law       1.00      1.00      1.00       766\n",
      "                    Environmental Law       1.00      1.00      1.00       846\n",
      "                             Evidence       1.00      1.00      1.00       741\n",
      "                           Family Law       1.00      1.00      1.00       979\n",
      "                  Government Benefits       1.00      1.00      1.00       655\n",
      "                        Habeas Corpus       1.00      1.00      1.00      1215\n",
      "                           Health Law       1.00      1.00      1.00      1142\n",
      "                      Immigration Law       1.00      1.00      1.00      1854\n",
      "                Injury &amp; Tort Law       1.00      1.00      1.00       795\n",
      "                        Insurance Law       1.00      1.00      1.00      1256\n",
      "                             Remedies       1.00      1.00      1.00       713\n",
      "                           Sentencing       1.00      1.00      1.00       817\n",
      "                              Tax Law       1.00      1.00      1.00       761\n",
      "\n",
      "                             accuracy                           1.00     17729\n",
      "                            macro avg       1.00      1.00      1.00     17729\n",
      "                         weighted avg       1.00      1.00      1.00     17729\n",
      "\n",
      "                                       precision    recall  f1-score   support\n",
      "\n",
      "                   Administrative Law       0.18      0.22      0.20       197\n",
      "                      Attorney's Fees       0.57      0.56      0.57       229\n",
      "                       Bankruptcy Law       0.52      0.45      0.48       183\n",
      "                      Civil Procedure       0.29      0.32      0.30       132\n",
      "                       Commercial Law       0.26      0.28      0.27       159\n",
      "                            Contracts       0.35      0.32      0.34       221\n",
      " Dispute Resolution &amp; Arbitration       0.47      0.48      0.48       168\n",
      "                        Education Law       0.56      0.52      0.54       170\n",
      "                    Environmental Law       0.46      0.49      0.48       178\n",
      "                             Evidence       0.40      0.46      0.43       171\n",
      "                           Family Law       0.69      0.69      0.69       224\n",
      "                  Government Benefits       0.49      0.43      0.46       181\n",
      "                        Habeas Corpus       0.76      0.75      0.76       296\n",
      "                           Health Law       0.44      0.43      0.44       313\n",
      "                      Immigration Law       0.79      0.74      0.76       478\n",
      "                Injury &amp; Tort Law       0.31      0.30      0.31       205\n",
      "                        Insurance Law       0.60      0.66      0.63       313\n",
      "                             Remedies       0.17      0.18      0.18       170\n",
      "                           Sentencing       0.60      0.59      0.60       215\n",
      "                              Tax Law       0.73      0.72      0.72       230\n",
      "\n",
      "                             accuracy                           0.51      4433\n",
      "                            macro avg       0.48      0.48      0.48      4433\n",
      "                         weighted avg       0.52      0.51      0.52      4433\n",
      "\n"
     ]
    },
    {
     "data": {
      "text/plain": [
       "DecisionTreeClassifier()"
      ]
     },
     "execution_count": 56,
     "metadata": {},
     "output_type": "execute_result"
    }
   ],
   "source": [
    "run_model(dt_ngram3,ngram3_trainX,ngram3_trainy,ngram3_testX,ngram3_testy)"
   ]
  },
  {
   "cell_type": "code",
   "execution_count": 57,
   "metadata": {
    "scrolled": true
   },
   "outputs": [
    {
     "name": "stdout",
     "output_type": "stream",
     "text": [
      "                                       precision    recall  f1-score   support\n",
      "\n",
      "                   Administrative Law       0.99      0.99      0.99       856\n",
      "                      Attorney's Fees       0.98      1.00      0.99       805\n",
      "                       Bankruptcy Law       0.98      0.99      0.99       805\n",
      "                      Civil Procedure       0.99      0.98      0.99       577\n",
      "                       Commercial Law       0.99      0.97      0.98       612\n",
      "                            Contracts       0.98      0.97      0.98       838\n",
      " Dispute Resolution &amp; Arbitration       0.99      1.00      0.99       696\n",
      "                        Education Law       0.98      0.99      0.99       766\n",
      "                    Environmental Law       0.99      0.99      0.99       846\n",
      "                             Evidence       0.99      0.98      0.99       741\n",
      "                           Family Law       0.99      0.99      0.99       979\n",
      "                  Government Benefits       0.99      0.98      0.99       655\n",
      "                        Habeas Corpus       0.99      1.00      0.99      1215\n",
      "                           Health Law       0.99      0.99      0.99      1142\n",
      "                      Immigration Law       0.99      1.00      0.99      1854\n",
      "                Injury &amp; Tort Law       0.99      0.98      0.99       795\n",
      "                        Insurance Law       0.99      0.99      0.99      1256\n",
      "                             Remedies       1.00      0.96      0.98       713\n",
      "                           Sentencing       0.99      0.98      0.99       817\n",
      "                              Tax Law       0.98      0.99      0.99       761\n",
      "\n",
      "                             accuracy                           0.99     17729\n",
      "                            macro avg       0.99      0.99      0.99     17729\n",
      "                         weighted avg       0.99      0.99      0.99     17729\n",
      "\n",
      "                                       precision    recall  f1-score   support\n",
      "\n",
      "                   Administrative Law       0.29      0.24      0.26       197\n",
      "                      Attorney's Fees       0.64      0.73      0.68       229\n",
      "                       Bankruptcy Law       0.63      0.66      0.65       183\n",
      "                      Civil Procedure       0.39      0.39      0.39       132\n",
      "                       Commercial Law       0.37      0.39      0.38       159\n",
      "                            Contracts       0.45      0.40      0.43       221\n",
      " Dispute Resolution &amp; Arbitration       0.59      0.57      0.58       168\n",
      "                        Education Law       0.69      0.70      0.69       170\n",
      "                    Environmental Law       0.62      0.71      0.66       178\n",
      "                             Evidence       0.50      0.54      0.52       171\n",
      "                           Family Law       0.84      0.79      0.82       224\n",
      "                  Government Benefits       0.58      0.46      0.51       181\n",
      "                        Habeas Corpus       0.85      0.87      0.86       296\n",
      "                           Health Law       0.57      0.57      0.57       313\n",
      "                      Immigration Law       0.80      0.91      0.85       478\n",
      "                Injury &amp; Tort Law       0.46      0.38      0.41       205\n",
      "                        Insurance Law       0.64      0.79      0.71       313\n",
      "                             Remedies       0.49      0.27      0.35       170\n",
      "                           Sentencing       0.78      0.71      0.74       215\n",
      "                              Tax Law       0.80      0.83      0.82       230\n",
      "\n",
      "                             accuracy                           0.64      4433\n",
      "                            macro avg       0.60      0.60      0.59      4433\n",
      "                         weighted avg       0.63      0.64      0.63      4433\n",
      "\n"
     ]
    },
    {
     "data": {
      "text/plain": [
       "BaggingClassifier()"
      ]
     },
     "execution_count": 57,
     "metadata": {},
     "output_type": "execute_result"
    }
   ],
   "source": [
    "run_model(bagged_ngram3,ngram3_trainX,ngram3_trainy,ngram3_testX,ngram3_testy)"
   ]
  },
  {
   "cell_type": "code",
   "execution_count": 58,
   "metadata": {
    "scrolled": true
   },
   "outputs": [
    {
     "name": "stderr",
     "output_type": "stream",
     "text": [
      "C:\\Users\\amird\\anaconda3\\envs\\learn-env\\lib\\site-packages\\sklearn\\metrics\\_classification.py:1221: UndefinedMetricWarning: Precision and F-score are ill-defined and being set to 0.0 in labels with no predicted samples. Use `zero_division` parameter to control this behavior.\n",
      "  _warn_prf(average, modifier, msg_start, len(result))\n"
     ]
    },
    {
     "name": "stdout",
     "output_type": "stream",
     "text": [
      "                                       precision    recall  f1-score   support\n",
      "\n",
      "                   Administrative Law       0.00      0.00      0.00       856\n",
      "                      Attorney's Fees       0.83      0.02      0.05       805\n",
      "                       Bankruptcy Law       0.00      0.00      0.00       805\n",
      "                      Civil Procedure       0.00      0.00      0.00       577\n",
      "                       Commercial Law       0.00      0.00      0.00       612\n",
      "                            Contracts       0.00      0.00      0.00       838\n",
      " Dispute Resolution &amp; Arbitration       0.00      0.00      0.00       696\n",
      "                        Education Law       0.00      0.00      0.00       766\n",
      "                    Environmental Law       0.00      0.00      0.00       846\n",
      "                             Evidence       0.00      0.00      0.00       741\n",
      "                           Family Law       0.98      0.36      0.53       979\n",
      "                  Government Benefits       0.00      0.00      0.00       655\n",
      "                        Habeas Corpus       0.93      0.08      0.15      1215\n",
      "                           Health Law       0.64      0.04      0.08      1142\n",
      "                      Immigration Law       0.13      1.00      0.23      1854\n",
      "                Injury &amp; Tort Law       0.00      0.00      0.00       795\n",
      "                        Insurance Law       0.35      0.74      0.48      1256\n",
      "                             Remedies       0.00      0.00      0.00       713\n",
      "                           Sentencing       0.00      0.00      0.00       817\n",
      "                              Tax Law       0.92      0.01      0.03       761\n",
      "\n",
      "                             accuracy                           0.19     17729\n",
      "                            macro avg       0.24      0.11      0.08     17729\n",
      "                         weighted avg       0.27      0.19      0.11     17729\n",
      "\n",
      "                                       precision    recall  f1-score   support\n",
      "\n",
      "                   Administrative Law       0.00      0.00      0.00       197\n",
      "                      Attorney's Fees       0.78      0.03      0.06       229\n",
      "                       Bankruptcy Law       0.00      0.00      0.00       183\n",
      "                      Civil Procedure       0.00      0.00      0.00       132\n",
      "                       Commercial Law       0.00      0.00      0.00       159\n",
      "                            Contracts       0.00      0.00      0.00       221\n",
      " Dispute Resolution &amp; Arbitration       0.00      0.00      0.00       168\n",
      "                        Education Law       0.00      0.00      0.00       170\n",
      "                    Environmental Law       0.00      0.00      0.00       178\n",
      "                             Evidence       0.00      0.00      0.00       171\n",
      "                           Family Law       0.98      0.41      0.58       224\n",
      "                  Government Benefits       0.00      0.00      0.00       181\n",
      "                        Habeas Corpus       0.95      0.06      0.12       296\n",
      "                           Health Law       0.68      0.05      0.10       313\n",
      "                      Immigration Law       0.13      1.00      0.23       478\n",
      "                Injury &amp; Tort Law       0.00      0.00      0.00       205\n",
      "                        Insurance Law       0.36      0.79      0.49       313\n",
      "                             Remedies       0.00      0.00      0.00       170\n",
      "                           Sentencing       0.00      0.00      0.00       215\n",
      "                              Tax Law       0.00      0.00      0.00       230\n",
      "\n",
      "                             accuracy                           0.19      4433\n",
      "                            macro avg       0.19      0.12      0.08      4433\n",
      "                         weighted avg       0.24      0.19      0.11      4433\n",
      "\n"
     ]
    },
    {
     "data": {
      "text/plain": [
       "MultinomialNB()"
      ]
     },
     "execution_count": 58,
     "metadata": {},
     "output_type": "execute_result"
    }
   ],
   "source": [
    "run_model(mnb_ngram3,ngram3_trainX,ngram3_trainy,ngram3_testX,ngram3_testy)"
   ]
  },
  {
   "cell_type": "code",
   "execution_count": 59,
   "metadata": {
    "scrolled": true
   },
   "outputs": [
    {
     "name": "stdout",
     "output_type": "stream",
     "text": [
      "                                       precision    recall  f1-score   support\n",
      "\n",
      "                   Administrative Law       1.00      1.00      1.00       856\n",
      "                      Attorney's Fees       1.00      1.00      1.00       805\n",
      "                       Bankruptcy Law       1.00      1.00      1.00       805\n",
      "                      Civil Procedure       1.00      1.00      1.00       577\n",
      "                       Commercial Law       1.00      1.00      1.00       612\n",
      "                            Contracts       1.00      1.00      1.00       838\n",
      " Dispute Resolution &amp; Arbitration       1.00      1.00      1.00       696\n",
      "                        Education Law       1.00      1.00      1.00       766\n",
      "                    Environmental Law       1.00      1.00      1.00       846\n",
      "                             Evidence       1.00      1.00      1.00       741\n",
      "                           Family Law       1.00      1.00      1.00       979\n",
      "                  Government Benefits       1.00      1.00      1.00       655\n",
      "                        Habeas Corpus       1.00      1.00      1.00      1215\n",
      "                           Health Law       1.00      1.00      1.00      1142\n",
      "                      Immigration Law       1.00      1.00      1.00      1854\n",
      "                Injury &amp; Tort Law       1.00      1.00      1.00       795\n",
      "                        Insurance Law       1.00      1.00      1.00      1256\n",
      "                             Remedies       1.00      1.00      1.00       713\n",
      "                           Sentencing       1.00      1.00      1.00       817\n",
      "                              Tax Law       1.00      1.00      1.00       761\n",
      "\n",
      "                             accuracy                           1.00     17729\n",
      "                            macro avg       1.00      1.00      1.00     17729\n",
      "                         weighted avg       1.00      1.00      1.00     17729\n",
      "\n",
      "                                       precision    recall  f1-score   support\n",
      "\n",
      "                   Administrative Law       0.18      0.20      0.19       197\n",
      "                      Attorney's Fees       0.53      0.58      0.55       229\n",
      "                       Bankruptcy Law       0.49      0.45      0.47       183\n",
      "                      Civil Procedure       0.28      0.33      0.30       132\n",
      "                       Commercial Law       0.28      0.26      0.27       159\n",
      "                            Contracts       0.35      0.31      0.33       221\n",
      " Dispute Resolution &amp; Arbitration       0.46      0.49      0.47       168\n",
      "                        Education Law       0.51      0.52      0.51       170\n",
      "                    Environmental Law       0.46      0.51      0.48       178\n",
      "                             Evidence       0.42      0.44      0.43       171\n",
      "                           Family Law       0.71      0.71      0.71       224\n",
      "                  Government Benefits       0.51      0.48      0.49       181\n",
      "                        Habeas Corpus       0.75      0.75      0.75       296\n",
      "                           Health Law       0.43      0.40      0.41       313\n",
      "                      Immigration Law       0.81      0.73      0.77       478\n",
      "                Injury &amp; Tort Law       0.30      0.31      0.30       205\n",
      "                        Insurance Law       0.59      0.64      0.62       313\n",
      "                             Remedies       0.19      0.18      0.18       170\n",
      "                           Sentencing       0.57      0.58      0.57       215\n",
      "                              Tax Law       0.76      0.70      0.73       230\n",
      "\n",
      "                             accuracy                           0.51      4433\n",
      "                            macro avg       0.48      0.48      0.48      4433\n",
      "                         weighted avg       0.52      0.51      0.51      4433\n",
      "\n"
     ]
    },
    {
     "data": {
      "text/plain": [
       "DecisionTreeClassifier()"
      ]
     },
     "execution_count": 59,
     "metadata": {},
     "output_type": "execute_result"
    }
   ],
   "source": [
    "run_model(tree_ngram3,ngram3_trainX,ngram3_trainy,ngram3_testX,ngram3_testy)"
   ]
  },
  {
   "cell_type": "code",
   "execution_count": 60,
   "metadata": {
    "scrolled": true
   },
   "outputs": [
    {
     "name": "stdout",
     "output_type": "stream",
     "text": [
      "                                       precision    recall  f1-score   support\n",
      "\n",
      "                   Administrative Law       1.00      0.98      0.99       856\n",
      "                      Attorney's Fees       1.00      1.00      1.00       805\n",
      "                       Bankruptcy Law       1.00      1.00      1.00       805\n",
      "                      Civil Procedure       1.00      1.00      1.00       577\n",
      "                       Commercial Law       1.00      1.00      1.00       612\n",
      "                            Contracts       1.00      1.00      1.00       838\n",
      " Dispute Resolution &amp; Arbitration       1.00      1.00      1.00       696\n",
      "                        Education Law       1.00      1.00      1.00       766\n",
      "                    Environmental Law       1.00      1.00      1.00       846\n",
      "                             Evidence       1.00      0.99      1.00       741\n",
      "                           Family Law       1.00      1.00      1.00       979\n",
      "                  Government Benefits       1.00      1.00      1.00       655\n",
      "                        Habeas Corpus       1.00      1.00      1.00      1215\n",
      "                           Health Law       1.00      1.00      1.00      1142\n",
      "                      Immigration Law       0.99      1.00      1.00      1854\n",
      "                Injury &amp; Tort Law       1.00      1.00      1.00       795\n",
      "                        Insurance Law       1.00      1.00      1.00      1256\n",
      "                             Remedies       1.00      1.00      1.00       713\n",
      "                           Sentencing       1.00      1.00      1.00       817\n",
      "                              Tax Law       1.00      1.00      1.00       761\n",
      "\n",
      "                             accuracy                           1.00     17729\n",
      "                            macro avg       1.00      1.00      1.00     17729\n",
      "                         weighted avg       1.00      1.00      1.00     17729\n",
      "\n",
      "                                       precision    recall  f1-score   support\n",
      "\n",
      "                   Administrative Law       0.43      0.09      0.15       197\n",
      "                      Attorney's Fees       0.69      0.79      0.73       229\n",
      "                       Bankruptcy Law       0.66      0.77      0.71       183\n",
      "                      Civil Procedure       0.60      0.36      0.45       132\n",
      "                       Commercial Law       0.60      0.18      0.28       159\n",
      "                            Contracts       0.44      0.49      0.47       221\n",
      " Dispute Resolution &amp; Arbitration       0.70      0.70      0.70       168\n",
      "                        Education Law       0.73      0.69      0.71       170\n",
      "                    Environmental Law       0.65      0.81      0.72       178\n",
      "                             Evidence       0.60      0.61      0.60       171\n",
      "                           Family Law       0.80      0.87      0.83       224\n",
      "                  Government Benefits       0.71      0.50      0.59       181\n",
      "                        Habeas Corpus       0.86      0.94      0.90       296\n",
      "                           Health Law       0.54      0.67      0.60       313\n",
      "                      Immigration Law       0.82      0.96      0.88       478\n",
      "                Injury &amp; Tort Law       0.50      0.47      0.48       205\n",
      "                        Insurance Law       0.61      0.84      0.71       313\n",
      "                             Remedies       0.51      0.18      0.26       170\n",
      "                           Sentencing       0.66      0.80      0.72       215\n",
      "                              Tax Law       0.81      0.80      0.81       230\n",
      "\n",
      "                             accuracy                           0.67      4433\n",
      "                            macro avg       0.65      0.63      0.62      4433\n",
      "                         weighted avg       0.66      0.67      0.65      4433\n",
      "\n"
     ]
    },
    {
     "data": {
      "text/plain": [
       "RandomForestClassifier(max_depth=20)"
      ]
     },
     "execution_count": 60,
     "metadata": {},
     "output_type": "execute_result"
    }
   ],
   "source": [
    "run_model(random_ngram3,ngram3_trainX,ngram3_trainy,ngram3_testX,ngram3_testy)"
   ]
  },
  {
   "cell_type": "code",
   "execution_count": 61,
   "metadata": {
    "scrolled": true
   },
   "outputs": [
    {
     "name": "stderr",
     "output_type": "stream",
     "text": [
      "C:\\Users\\amird\\anaconda3\\envs\\learn-env\\lib\\site-packages\\sklearn\\svm\\_base.py:976: ConvergenceWarning: Liblinear failed to converge, increase the number of iterations.\n",
      "  warnings.warn(\"Liblinear failed to converge, increase \"\n"
     ]
    },
    {
     "name": "stdout",
     "output_type": "stream",
     "text": [
      "                                       precision    recall  f1-score   support\n",
      "\n",
      "                   Administrative Law       1.00      1.00      1.00       856\n",
      "                      Attorney's Fees       1.00      1.00      1.00       805\n",
      "                       Bankruptcy Law       1.00      1.00      1.00       805\n",
      "                      Civil Procedure       1.00      1.00      1.00       577\n",
      "                       Commercial Law       1.00      1.00      1.00       612\n",
      "                            Contracts       1.00      1.00      1.00       838\n",
      " Dispute Resolution &amp; Arbitration       1.00      1.00      1.00       696\n",
      "                        Education Law       1.00      1.00      1.00       766\n",
      "                    Environmental Law       1.00      1.00      1.00       846\n",
      "                             Evidence       1.00      1.00      1.00       741\n",
      "                           Family Law       1.00      1.00      1.00       979\n",
      "                  Government Benefits       1.00      1.00      1.00       655\n",
      "                        Habeas Corpus       1.00      1.00      1.00      1215\n",
      "                           Health Law       1.00      1.00      1.00      1142\n",
      "                      Immigration Law       1.00      1.00      1.00      1854\n",
      "                Injury &amp; Tort Law       1.00      1.00      1.00       795\n",
      "                        Insurance Law       1.00      1.00      1.00      1256\n",
      "                             Remedies       1.00      1.00      1.00       713\n",
      "                           Sentencing       1.00      1.00      1.00       817\n",
      "                              Tax Law       1.00      1.00      1.00       761\n",
      "\n",
      "                             accuracy                           1.00     17729\n",
      "                            macro avg       1.00      1.00      1.00     17729\n",
      "                         weighted avg       1.00      1.00      1.00     17729\n",
      "\n",
      "                                       precision    recall  f1-score   support\n",
      "\n",
      "                   Administrative Law       0.25      0.29      0.27       197\n",
      "                      Attorney's Fees       0.58      0.59      0.58       229\n",
      "                       Bankruptcy Law       0.64      0.63      0.64       183\n",
      "                      Civil Procedure       0.34      0.36      0.35       132\n",
      "                       Commercial Law       0.34      0.35      0.34       159\n",
      "                            Contracts       0.44      0.41      0.43       221\n",
      " Dispute Resolution &amp; Arbitration       0.68      0.64      0.66       168\n",
      "                        Education Law       0.66      0.64      0.65       170\n",
      "                    Environmental Law       0.71      0.67      0.69       178\n",
      "                             Evidence       0.59      0.60      0.59       171\n",
      "                           Family Law       0.82      0.80      0.81       224\n",
      "                  Government Benefits       0.61      0.46      0.52       181\n",
      "                        Habeas Corpus       0.84      0.88      0.86       296\n",
      "                           Health Law       0.49      0.52      0.51       313\n",
      "                      Immigration Law       0.82      0.78      0.80       478\n",
      "                Injury &amp; Tort Law       0.46      0.46      0.46       205\n",
      "                        Insurance Law       0.56      0.64      0.60       313\n",
      "                             Remedies       0.29      0.30      0.29       170\n",
      "                           Sentencing       0.77      0.74      0.76       215\n",
      "                              Tax Law       0.75      0.71      0.73       230\n",
      "\n",
      "                             accuracy                           0.60      4433\n",
      "                            macro avg       0.58      0.57      0.58      4433\n",
      "                         weighted avg       0.61      0.60      0.60      4433\n",
      "\n"
     ]
    },
    {
     "data": {
      "text/plain": [
       "LogisticRegression(C=1000000000000.0, fit_intercept=False, solver='liblinear')"
      ]
     },
     "execution_count": 61,
     "metadata": {},
     "output_type": "execute_result"
    }
   ],
   "source": [
    "run_model(log_ngram3,ngram3_trainX,ngram3_trainy,ngram3_testX,ngram3_testy)"
   ]
  },
  {
   "cell_type": "code",
   "execution_count": null,
   "metadata": {},
   "outputs": [],
   "source": []
  },
  {
   "cell_type": "code",
   "execution_count": null,
   "metadata": {},
   "outputs": [],
   "source": []
  },
  {
   "cell_type": "code",
   "execution_count": null,
   "metadata": {},
   "outputs": [],
   "source": []
  },
  {
   "cell_type": "code",
   "execution_count": null,
   "metadata": {},
   "outputs": [],
   "source": []
  },
  {
   "cell_type": "code",
   "execution_count": 81,
   "metadata": {},
   "outputs": [
    {
     "data": {
      "text/plain": [
       "911       Administrative Law\n",
       "7931           Habeas Corpus\n",
       "27201        Attorney's Fees\n",
       "308       Administrative Law\n",
       "32995               Remedies\n",
       "                ...         \n",
       "35884                Tax Law\n",
       "33548         Bankruptcy Law\n",
       "26762        Attorney's Fees\n",
       "33009               Remedies\n",
       "15816               Evidence\n",
       "Name: case_type, Length: 4433, dtype: object"
      ]
     },
     "execution_count": 81,
     "metadata": {},
     "output_type": "execute_result"
    }
   ],
   "source": []
  },
  {
   "cell_type": "markdown",
   "metadata": {},
   "source": [
    "# create function to do this when i need."
   ]
  },
  {
   "cell_type": "code",
   "execution_count": 40,
   "metadata": {},
   "outputs": [],
   "source": [
    "def common_words_charts(frame):\n",
    "    new_frame=frame.mean().sort_values(ascending=False).reset_index()\n",
    "    for_plot_in_func=pd.DataFrame(columns=new_frame['index'])\n",
    "    for_plot_in_func=for_plot_in_func.T\n",
    "    for_plot_in_func['mean']=0\n",
    "    \n",
    "    for inde,word in enumerate(for_plot_in_func['mean']):\n",
    "        for_plot_in_func.iloc[inde]=new_frame.loc[inde][1:2][0]\n",
    "        \n",
    "    for_plot_in_func[0:50].plot(kind='barh')"
   ]
  },
  {
   "cell_type": "code",
   "execution_count": 41,
   "metadata": {},
   "outputs": [
    {
     "data": {
      "image/png": "[encoded data removed]",
      "text/plain": [
       "<Figure size 432x288 with 1 Axes>"
      ]
     },
     "metadata": {
      "needs_background": "light"
     },
     "output_type": "display_data"
    }
   ],
   "source": [
    "common_words_charts(relevant)"
   ]
  },
  {
   "cell_type": "code",
   "execution_count": 42,
   "metadata": {},
   "outputs": [
    {
     "data": {
      "image/png": "[encoded data removed]",
      "text/plain": [
       "<Figure size 432x288 with 1 Axes>"
      ]
     },
     "metadata": {
      "needs_background": "light"
     },
     "output_type": "display_data"
    }
   ],
   "source": [
    "common_words_charts(relevant)"
   ]
  },
  {
   "cell_type": "code",
   "execution_count": 43,
   "metadata": {
    "scrolled": true
   },
   "outputs": [
    {
     "data": {
      "text/html": [
       "<div>\n",
       "<style scoped>\n",
       "    .dataframe tbody tr th:only-of-type {\n",
       "        vertical-align: middle;\n",
       "    }\n",
       "\n",
       "    .dataframe tbody tr th {\n",
       "        vertical-align: top;\n",
       "    }\n",
       "\n",
       "    .dataframe thead th {\n",
       "        text-align: right;\n",
       "    }\n",
       "</style>\n",
       "<table border=\"1\" class=\"dataframe\">\n",
       "  <thead>\n",
       "    <tr style=\"text-align: right;\">\n",
       "      <th></th>\n",
       "      <th>00</th>\n",
       "      <th>000</th>\n",
       "      <th>001</th>\n",
       "      <th>002</th>\n",
       "      <th>003</th>\n",
       "      <th>01</th>\n",
       "      <th>010</th>\n",
       "      <th>02</th>\n",
       "      <th>020</th>\n",
       "      <th>03</th>\n",
       "      <th>...</th>\n",
       "      <th>zheng</th>\n",
       "      <th>zhou</th>\n",
       "      <th>zhu</th>\n",
       "      <th>zimmer</th>\n",
       "      <th>zimmerman</th>\n",
       "      <th>zip</th>\n",
       "      <th>zone</th>\n",
       "      <th>zones</th>\n",
       "      <th>zoning</th>\n",
       "      <th>zurich</th>\n",
       "    </tr>\n",
       "  </thead>\n",
       "  <tbody>\n",
       "    <tr>\n",
       "      <th>0</th>\n",
       "      <td>0.0</td>\n",
       "      <td>0.000000</td>\n",
       "      <td>0.0</td>\n",
       "      <td>0.0</td>\n",
       "      <td>0.0</td>\n",
       "      <td>0.0</td>\n",
       "      <td>0.0</td>\n",
       "      <td>0.002350</td>\n",
       "      <td>0.0</td>\n",
       "      <td>0.0</td>\n",
       "      <td>...</td>\n",
       "      <td>0.0</td>\n",
       "      <td>0.0</td>\n",
       "      <td>0.0</td>\n",
       "      <td>0.0</td>\n",
       "      <td>0.0</td>\n",
       "      <td>0.0</td>\n",
       "      <td>0.0</td>\n",
       "      <td>0.0</td>\n",
       "      <td>0.0</td>\n",
       "      <td>0.0</td>\n",
       "    </tr>\n",
       "    <tr>\n",
       "      <th>1</th>\n",
       "      <td>0.0</td>\n",
       "      <td>0.003497</td>\n",
       "      <td>0.0</td>\n",
       "      <td>0.0</td>\n",
       "      <td>0.0</td>\n",
       "      <td>0.0</td>\n",
       "      <td>0.0</td>\n",
       "      <td>0.000000</td>\n",
       "      <td>0.0</td>\n",
       "      <td>0.0</td>\n",
       "      <td>...</td>\n",
       "      <td>0.0</td>\n",
       "      <td>0.0</td>\n",
       "      <td>0.0</td>\n",
       "      <td>0.0</td>\n",
       "      <td>0.0</td>\n",
       "      <td>0.0</td>\n",
       "      <td>0.0</td>\n",
       "      <td>0.0</td>\n",
       "      <td>0.0</td>\n",
       "      <td>0.0</td>\n",
       "    </tr>\n",
       "    <tr>\n",
       "      <th>2</th>\n",
       "      <td>0.0</td>\n",
       "      <td>0.000000</td>\n",
       "      <td>0.0</td>\n",
       "      <td>0.0</td>\n",
       "      <td>0.0</td>\n",
       "      <td>0.0</td>\n",
       "      <td>0.0</td>\n",
       "      <td>0.000000</td>\n",
       "      <td>0.0</td>\n",
       "      <td>0.0</td>\n",
       "      <td>...</td>\n",
       "      <td>0.0</td>\n",
       "      <td>0.0</td>\n",
       "      <td>0.0</td>\n",
       "      <td>0.0</td>\n",
       "      <td>0.0</td>\n",
       "      <td>0.0</td>\n",
       "      <td>0.0</td>\n",
       "      <td>0.0</td>\n",
       "      <td>0.0</td>\n",
       "      <td>0.0</td>\n",
       "    </tr>\n",
       "    <tr>\n",
       "      <th>3</th>\n",
       "      <td>0.0</td>\n",
       "      <td>0.000000</td>\n",
       "      <td>0.0</td>\n",
       "      <td>0.0</td>\n",
       "      <td>0.0</td>\n",
       "      <td>0.0</td>\n",
       "      <td>0.0</td>\n",
       "      <td>0.000000</td>\n",
       "      <td>0.0</td>\n",
       "      <td>0.0</td>\n",
       "      <td>...</td>\n",
       "      <td>0.0</td>\n",
       "      <td>0.0</td>\n",
       "      <td>0.0</td>\n",
       "      <td>0.0</td>\n",
       "      <td>0.0</td>\n",
       "      <td>0.0</td>\n",
       "      <td>0.0</td>\n",
       "      <td>0.0</td>\n",
       "      <td>0.0</td>\n",
       "      <td>0.0</td>\n",
       "    </tr>\n",
       "    <tr>\n",
       "      <th>4</th>\n",
       "      <td>0.0</td>\n",
       "      <td>0.004740</td>\n",
       "      <td>0.0</td>\n",
       "      <td>0.0</td>\n",
       "      <td>0.0</td>\n",
       "      <td>0.0</td>\n",
       "      <td>0.0</td>\n",
       "      <td>0.007782</td>\n",
       "      <td>0.0</td>\n",
       "      <td>0.0</td>\n",
       "      <td>...</td>\n",
       "      <td>0.0</td>\n",
       "      <td>0.0</td>\n",
       "      <td>0.0</td>\n",
       "      <td>0.0</td>\n",
       "      <td>0.0</td>\n",
       "      <td>0.0</td>\n",
       "      <td>0.0</td>\n",
       "      <td>0.0</td>\n",
       "      <td>0.0</td>\n",
       "      <td>0.0</td>\n",
       "    </tr>\n",
       "    <tr>\n",
       "      <th>...</th>\n",
       "      <td>...</td>\n",
       "      <td>...</td>\n",
       "      <td>...</td>\n",
       "      <td>...</td>\n",
       "      <td>...</td>\n",
       "      <td>...</td>\n",
       "      <td>...</td>\n",
       "      <td>...</td>\n",
       "      <td>...</td>\n",
       "      <td>...</td>\n",
       "      <td>...</td>\n",
       "      <td>...</td>\n",
       "      <td>...</td>\n",
       "      <td>...</td>\n",
       "      <td>...</td>\n",
       "      <td>...</td>\n",
       "      <td>...</td>\n",
       "      <td>...</td>\n",
       "      <td>...</td>\n",
       "      <td>...</td>\n",
       "      <td>...</td>\n",
       "    </tr>\n",
       "    <tr>\n",
       "      <th>22157</th>\n",
       "      <td>0.0</td>\n",
       "      <td>0.005430</td>\n",
       "      <td>0.0</td>\n",
       "      <td>0.0</td>\n",
       "      <td>0.0</td>\n",
       "      <td>0.0</td>\n",
       "      <td>0.0</td>\n",
       "      <td>0.000000</td>\n",
       "      <td>0.0</td>\n",
       "      <td>0.0</td>\n",
       "      <td>...</td>\n",
       "      <td>0.0</td>\n",
       "      <td>0.0</td>\n",
       "      <td>0.0</td>\n",
       "      <td>0.0</td>\n",
       "      <td>0.0</td>\n",
       "      <td>0.0</td>\n",
       "      <td>0.0</td>\n",
       "      <td>0.0</td>\n",
       "      <td>0.0</td>\n",
       "      <td>0.0</td>\n",
       "    </tr>\n",
       "    <tr>\n",
       "      <th>22158</th>\n",
       "      <td>0.0</td>\n",
       "      <td>0.009801</td>\n",
       "      <td>0.0</td>\n",
       "      <td>0.0</td>\n",
       "      <td>0.0</td>\n",
       "      <td>0.0</td>\n",
       "      <td>0.0</td>\n",
       "      <td>0.000000</td>\n",
       "      <td>0.0</td>\n",
       "      <td>0.0</td>\n",
       "      <td>...</td>\n",
       "      <td>0.0</td>\n",
       "      <td>0.0</td>\n",
       "      <td>0.0</td>\n",
       "      <td>0.0</td>\n",
       "      <td>0.0</td>\n",
       "      <td>0.0</td>\n",
       "      <td>0.0</td>\n",
       "      <td>0.0</td>\n",
       "      <td>0.0</td>\n",
       "      <td>0.0</td>\n",
       "    </tr>\n",
       "    <tr>\n",
       "      <th>22159</th>\n",
       "      <td>0.0</td>\n",
       "      <td>0.000000</td>\n",
       "      <td>0.0</td>\n",
       "      <td>0.0</td>\n",
       "      <td>0.0</td>\n",
       "      <td>0.0</td>\n",
       "      <td>0.0</td>\n",
       "      <td>0.000000</td>\n",
       "      <td>0.0</td>\n",
       "      <td>0.0</td>\n",
       "      <td>...</td>\n",
       "      <td>0.0</td>\n",
       "      <td>0.0</td>\n",
       "      <td>0.0</td>\n",
       "      <td>0.0</td>\n",
       "      <td>0.0</td>\n",
       "      <td>0.0</td>\n",
       "      <td>0.0</td>\n",
       "      <td>0.0</td>\n",
       "      <td>0.0</td>\n",
       "      <td>0.0</td>\n",
       "    </tr>\n",
       "    <tr>\n",
       "      <th>22160</th>\n",
       "      <td>0.0</td>\n",
       "      <td>0.000000</td>\n",
       "      <td>0.0</td>\n",
       "      <td>0.0</td>\n",
       "      <td>0.0</td>\n",
       "      <td>0.0</td>\n",
       "      <td>0.0</td>\n",
       "      <td>0.000000</td>\n",
       "      <td>0.0</td>\n",
       "      <td>0.0</td>\n",
       "      <td>...</td>\n",
       "      <td>0.0</td>\n",
       "      <td>0.0</td>\n",
       "      <td>0.0</td>\n",
       "      <td>0.0</td>\n",
       "      <td>0.0</td>\n",
       "      <td>0.0</td>\n",
       "      <td>0.0</td>\n",
       "      <td>0.0</td>\n",
       "      <td>0.0</td>\n",
       "      <td>0.0</td>\n",
       "    </tr>\n",
       "    <tr>\n",
       "      <th>22161</th>\n",
       "      <td>0.0</td>\n",
       "      <td>0.000000</td>\n",
       "      <td>0.0</td>\n",
       "      <td>0.0</td>\n",
       "      <td>0.0</td>\n",
       "      <td>0.0</td>\n",
       "      <td>0.0</td>\n",
       "      <td>0.000000</td>\n",
       "      <td>0.0</td>\n",
       "      <td>0.0</td>\n",
       "      <td>...</td>\n",
       "      <td>0.0</td>\n",
       "      <td>0.0</td>\n",
       "      <td>0.0</td>\n",
       "      <td>0.0</td>\n",
       "      <td>0.0</td>\n",
       "      <td>0.0</td>\n",
       "      <td>0.0</td>\n",
       "      <td>0.0</td>\n",
       "      <td>0.0</td>\n",
       "      <td>0.0</td>\n",
       "    </tr>\n",
       "  </tbody>\n",
       "</table>\n",
       "<p>22162 rows × 12726 columns</p>\n",
       "</div>"
      ],
      "text/plain": [
       "        00       000  001  002  003   01  010        02  020   03  ...  zheng  \\\n",
       "0      0.0  0.000000  0.0  0.0  0.0  0.0  0.0  0.002350  0.0  0.0  ...    0.0   \n",
       "1      0.0  0.003497  0.0  0.0  0.0  0.0  0.0  0.000000  0.0  0.0  ...    0.0   \n",
       "2      0.0  0.000000  0.0  0.0  0.0  0.0  0.0  0.000000  0.0  0.0  ...    0.0   \n",
       "3      0.0  0.000000  0.0  0.0  0.0  0.0  0.0  0.000000  0.0  0.0  ...    0.0   \n",
       "4      0.0  0.004740  0.0  0.0  0.0  0.0  0.0  0.007782  0.0  0.0  ...    0.0   \n",
       "...    ...       ...  ...  ...  ...  ...  ...       ...  ...  ...  ...    ...   \n",
       "22157  0.0  0.005430  0.0  0.0  0.0  0.0  0.0  0.000000  0.0  0.0  ...    0.0   \n",
       "22158  0.0  0.009801  0.0  0.0  0.0  0.0  0.0  0.000000  0.0  0.0  ...    0.0   \n",
       "22159  0.0  0.000000  0.0  0.0  0.0  0.0  0.0  0.000000  0.0  0.0  ...    0.0   \n",
       "22160  0.0  0.000000  0.0  0.0  0.0  0.0  0.0  0.000000  0.0  0.0  ...    0.0   \n",
       "22161  0.0  0.000000  0.0  0.0  0.0  0.0  0.0  0.000000  0.0  0.0  ...    0.0   \n",
       "\n",
       "       zhou  zhu  zimmer  zimmerman  zip  zone  zones  zoning  zurich  \n",
       "0       0.0  0.0     0.0        0.0  0.0   0.0    0.0     0.0     0.0  \n",
       "1       0.0  0.0     0.0        0.0  0.0   0.0    0.0     0.0     0.0  \n",
       "2       0.0  0.0     0.0        0.0  0.0   0.0    0.0     0.0     0.0  \n",
       "3       0.0  0.0     0.0        0.0  0.0   0.0    0.0     0.0     0.0  \n",
       "4       0.0  0.0     0.0        0.0  0.0   0.0    0.0     0.0     0.0  \n",
       "...     ...  ...     ...        ...  ...   ...    ...     ...     ...  \n",
       "22157   0.0  0.0     0.0        0.0  0.0   0.0    0.0     0.0     0.0  \n",
       "22158   0.0  0.0     0.0        0.0  0.0   0.0    0.0     0.0     0.0  \n",
       "22159   0.0  0.0     0.0        0.0  0.0   0.0    0.0     0.0     0.0  \n",
       "22160   0.0  0.0     0.0        0.0  0.0   0.0    0.0     0.0     0.0  \n",
       "22161   0.0  0.0     0.0        0.0  0.0   0.0    0.0     0.0     0.0  \n",
       "\n",
       "[22162 rows x 12726 columns]"
      ]
     },
     "execution_count": 43,
     "metadata": {},
     "output_type": "execute_result"
    }
   ],
   "source": [
    "relevant"
   ]
  },
  {
   "cell_type": "markdown",
   "metadata": {},
   "source": [
    "# neural Net"
   ]
  },
  {
   "cell_type": "code",
   "execution_count": 253,
   "metadata": {},
   "outputs": [],
   "source": [
    "from keras import models\n",
    "from keras import layers\n",
    "from keras import optimizers\n",
    "from keras.models import Sequential\n",
    "\n",
    "\n",
    "from tensorflow.python.keras.engine.data_adapter import DatasetAdapter\n",
    "from sklearn import preprocessing\n",
    "\n",
    "from keras.callbacks import EarlyStopping"
   ]
  },
  {
   "cell_type": "code",
   "execution_count": null,
   "metadata": {},
   "outputs": [],
   "source": [
    "y = pd.get_dummies(ngram3_trainy).values"
   ]
  },
  {
   "cell_type": "code",
   "execution_count": null,
   "metadata": {},
   "outputs": [],
   "source": []
  },
  {
   "cell_type": "code",
   "execution_count": null,
   "metadata": {},
   "outputs": [],
   "source": []
  },
  {
   "cell_type": "code",
   "execution_count": null,
   "metadata": {},
   "outputs": [],
   "source": []
  },
  {
   "cell_type": "code",
   "execution_count": null,
   "metadata": {},
   "outputs": [],
   "source": []
  },
  {
   "cell_type": "code",
   "execution_count": null,
   "metadata": {},
   "outputs": [],
   "source": []
  },
  {
   "cell_type": "code",
   "execution_count": null,
   "metadata": {},
   "outputs": [],
   "source": []
  },
  {
   "cell_type": "code",
   "execution_count": null,
   "metadata": {},
   "outputs": [],
   "source": []
  },
  {
   "cell_type": "code",
   "execution_count": null,
   "metadata": {},
   "outputs": [],
   "source": []
  },
  {
   "cell_type": "code",
   "execution_count": null,
   "metadata": {},
   "outputs": [],
   "source": []
  },
  {
   "cell_type": "code",
   "execution_count": 274,
   "metadata": {},
   "outputs": [],
   "source": [
    "model = models.Sequential()\n",
    "\n",
    "model.add(layers.Dense(10000, activation='tanh', input_shape=(2301,)))\n",
    "model.add(layers.Dense(25, activation='tanh'))\n",
    "model.add(layers.Dropout(0.3))\n",
    "model.add(layers.Dense(1000, activation='tanh'))\n",
    "model.add(layers.Dense(1000, activation='tanh'))\n",
    "model.add(layers.Dense(1000, activation='tanh'))\n",
    "model.add(layers.Dropout(0.3))\n",
    "model.add(layers.Dense(1000, activation='tanh'))\n",
    "\n",
    "model.add(layers.Dense(20, activation='tanh'))"
   ]
  },
  {
   "cell_type": "code",
   "execution_count": 275,
   "metadata": {},
   "outputs": [],
   "source": [
    "model.compile(optimizer='SGD',\n",
    "              loss='categorical_crossentropy',\n",
    "              metrics=['accuracy'])"
   ]
  },
  {
   "cell_type": "code",
   "execution_count": 276,
   "metadata": {
    "scrolled": true
   },
   "outputs": [
    {
     "name": "stdout",
     "output_type": "stream",
     "text": [
      "Epoch 1/100\n",
      "1773/1773 [==============================] - 100s 56ms/step - loss: 8.2261 - accuracy: 0.0395 - val_loss: 8.9044 - val_accuracy: 0.0379\n",
      "Epoch 2/100\n",
      "1773/1773 [==============================] - 99s 56ms/step - loss: 8.3350 - accuracy: 0.0393 - val_loss: 8.9044 - val_accuracy: 0.0379\n",
      "Epoch 3/100\n",
      "1773/1773 [==============================] - 99s 56ms/step - loss: 8.2604 - accuracy: 0.0393 - val_loss: 8.9044 - val_accuracy: 0.0379\n",
      "Epoch 4/100\n",
      "1773/1773 [==============================] - 99s 56ms/step - loss: 8.3123 - accuracy: 0.0393 - val_loss: 8.9044 - val_accuracy: 0.0379\n",
      "Epoch 5/100\n",
      "1773/1773 [==============================] - 100s 57ms/step - loss: 8.3368 - accuracy: 0.0393 - val_loss: 8.9044 - val_accuracy: 0.0379\n",
      "Epoch 6/100\n",
      "1773/1773 [==============================] - 99s 56ms/step - loss: 8.3359 - accuracy: 0.0393 - val_loss: 8.9044 - val_accuracy: 0.0379\n",
      "Epoch 7/100\n",
      "1773/1773 [==============================] - 100s 57ms/step - loss: 8.3250 - accuracy: 0.0393 - val_loss: 8.9044 - val_accuracy: 0.0379\n",
      "Epoch 8/100\n",
      "  44/1773 [..............................] - ETA: 1:32 - loss: 8.7184 - accuracy: 0.0477"
     ]
    },
    {
     "ename": "KeyboardInterrupt",
     "evalue": "",
     "output_type": "error",
     "traceback": [
      "\u001b[1;31m---------------------------------------------------------------------------\u001b[0m",
      "\u001b[1;31mKeyboardInterrupt\u001b[0m                         Traceback (most recent call last)",
      "\u001b[1;32m<ipython-input-276-104ff3b5c7ec>\u001b[0m in \u001b[0;36m<module>\u001b[1;34m\u001b[0m\n\u001b[1;32m----> 1\u001b[1;33m history = model.fit(ngram3_trainX,\n\u001b[0m\u001b[0;32m      2\u001b[0m                     \u001b[0mngram3_trainy\u001b[0m\u001b[1;33m,\u001b[0m\u001b[1;33m\u001b[0m\u001b[1;33m\u001b[0m\u001b[0m\n\u001b[0;32m      3\u001b[0m                     \u001b[0mepochs\u001b[0m\u001b[1;33m=\u001b[0m\u001b[1;36m100\u001b[0m\u001b[1;33m,\u001b[0m\u001b[1;33m\u001b[0m\u001b[1;33m\u001b[0m\u001b[0m\n\u001b[0;32m      4\u001b[0m                     \u001b[0mbatch_size\u001b[0m\u001b[1;33m=\u001b[0m\u001b[1;36m10\u001b[0m\u001b[1;33m,\u001b[0m\u001b[1;33m\u001b[0m\u001b[1;33m\u001b[0m\u001b[0m\n\u001b[0;32m      5\u001b[0m                     validation_data=(ngram3_testX, ngram3_testy))\n",
      "\u001b[1;32m~\\anaconda3\\envs\\learn-env\\lib\\site-packages\\tensorflow\\python\\keras\\engine\\training.py\u001b[0m in \u001b[0;36m_method_wrapper\u001b[1;34m(self, *args, **kwargs)\u001b[0m\n\u001b[0;32m    106\u001b[0m   \u001b[1;32mdef\u001b[0m \u001b[0m_method_wrapper\u001b[0m\u001b[1;33m(\u001b[0m\u001b[0mself\u001b[0m\u001b[1;33m,\u001b[0m \u001b[1;33m*\u001b[0m\u001b[0margs\u001b[0m\u001b[1;33m,\u001b[0m \u001b[1;33m**\u001b[0m\u001b[0mkwargs\u001b[0m\u001b[1;33m)\u001b[0m\u001b[1;33m:\u001b[0m\u001b[1;33m\u001b[0m\u001b[1;33m\u001b[0m\u001b[0m\n\u001b[0;32m    107\u001b[0m     \u001b[1;32mif\u001b[0m \u001b[1;32mnot\u001b[0m \u001b[0mself\u001b[0m\u001b[1;33m.\u001b[0m\u001b[0m_in_multi_worker_mode\u001b[0m\u001b[1;33m(\u001b[0m\u001b[1;33m)\u001b[0m\u001b[1;33m:\u001b[0m  \u001b[1;31m# pylint: disable=protected-access\u001b[0m\u001b[1;33m\u001b[0m\u001b[1;33m\u001b[0m\u001b[0m\n\u001b[1;32m--> 108\u001b[1;33m       \u001b[1;32mreturn\u001b[0m \u001b[0mmethod\u001b[0m\u001b[1;33m(\u001b[0m\u001b[0mself\u001b[0m\u001b[1;33m,\u001b[0m \u001b[1;33m*\u001b[0m\u001b[0margs\u001b[0m\u001b[1;33m,\u001b[0m \u001b[1;33m**\u001b[0m\u001b[0mkwargs\u001b[0m\u001b[1;33m)\u001b[0m\u001b[1;33m\u001b[0m\u001b[1;33m\u001b[0m\u001b[0m\n\u001b[0m\u001b[0;32m    109\u001b[0m \u001b[1;33m\u001b[0m\u001b[0m\n\u001b[0;32m    110\u001b[0m     \u001b[1;31m# Running inside `run_distribute_coordinator` already.\u001b[0m\u001b[1;33m\u001b[0m\u001b[1;33m\u001b[0m\u001b[1;33m\u001b[0m\u001b[0m\n",
      "\u001b[1;32m~\\anaconda3\\envs\\learn-env\\lib\\site-packages\\tensorflow\\python\\keras\\engine\\training.py\u001b[0m in \u001b[0;36mfit\u001b[1;34m(self, x, y, batch_size, epochs, verbose, callbacks, validation_split, validation_data, shuffle, class_weight, sample_weight, initial_epoch, steps_per_epoch, validation_steps, validation_batch_size, validation_freq, max_queue_size, workers, use_multiprocessing)\u001b[0m\n\u001b[0;32m   1096\u001b[0m                 batch_size=batch_size):\n\u001b[0;32m   1097\u001b[0m               \u001b[0mcallbacks\u001b[0m\u001b[1;33m.\u001b[0m\u001b[0mon_train_batch_begin\u001b[0m\u001b[1;33m(\u001b[0m\u001b[0mstep\u001b[0m\u001b[1;33m)\u001b[0m\u001b[1;33m\u001b[0m\u001b[1;33m\u001b[0m\u001b[0m\n\u001b[1;32m-> 1098\u001b[1;33m               \u001b[0mtmp_logs\u001b[0m \u001b[1;33m=\u001b[0m \u001b[0mtrain_function\u001b[0m\u001b[1;33m(\u001b[0m\u001b[0miterator\u001b[0m\u001b[1;33m)\u001b[0m\u001b[1;33m\u001b[0m\u001b[1;33m\u001b[0m\u001b[0m\n\u001b[0m\u001b[0;32m   1099\u001b[0m               \u001b[1;32mif\u001b[0m \u001b[0mdata_handler\u001b[0m\u001b[1;33m.\u001b[0m\u001b[0mshould_sync\u001b[0m\u001b[1;33m:\u001b[0m\u001b[1;33m\u001b[0m\u001b[1;33m\u001b[0m\u001b[0m\n\u001b[0;32m   1100\u001b[0m                 \u001b[0mcontext\u001b[0m\u001b[1;33m.\u001b[0m\u001b[0masync_wait\u001b[0m\u001b[1;33m(\u001b[0m\u001b[1;33m)\u001b[0m\u001b[1;33m\u001b[0m\u001b[1;33m\u001b[0m\u001b[0m\n",
      "\u001b[1;32m~\\anaconda3\\envs\\learn-env\\lib\\site-packages\\tensorflow\\python\\eager\\def_function.py\u001b[0m in \u001b[0;36m__call__\u001b[1;34m(self, *args, **kwds)\u001b[0m\n\u001b[0;32m    778\u001b[0m       \u001b[1;32melse\u001b[0m\u001b[1;33m:\u001b[0m\u001b[1;33m\u001b[0m\u001b[1;33m\u001b[0m\u001b[0m\n\u001b[0;32m    779\u001b[0m         \u001b[0mcompiler\u001b[0m \u001b[1;33m=\u001b[0m \u001b[1;34m\"nonXla\"\u001b[0m\u001b[1;33m\u001b[0m\u001b[1;33m\u001b[0m\u001b[0m\n\u001b[1;32m--> 780\u001b[1;33m         \u001b[0mresult\u001b[0m \u001b[1;33m=\u001b[0m \u001b[0mself\u001b[0m\u001b[1;33m.\u001b[0m\u001b[0m_call\u001b[0m\u001b[1;33m(\u001b[0m\u001b[1;33m*\u001b[0m\u001b[0margs\u001b[0m\u001b[1;33m,\u001b[0m \u001b[1;33m**\u001b[0m\u001b[0mkwds\u001b[0m\u001b[1;33m)\u001b[0m\u001b[1;33m\u001b[0m\u001b[1;33m\u001b[0m\u001b[0m\n\u001b[0m\u001b[0;32m    781\u001b[0m \u001b[1;33m\u001b[0m\u001b[0m\n\u001b[0;32m    782\u001b[0m       \u001b[0mnew_tracing_count\u001b[0m \u001b[1;33m=\u001b[0m \u001b[0mself\u001b[0m\u001b[1;33m.\u001b[0m\u001b[0m_get_tracing_count\u001b[0m\u001b[1;33m(\u001b[0m\u001b[1;33m)\u001b[0m\u001b[1;33m\u001b[0m\u001b[1;33m\u001b[0m\u001b[0m\n",
      "\u001b[1;32m~\\anaconda3\\envs\\learn-env\\lib\\site-packages\\tensorflow\\python\\eager\\def_function.py\u001b[0m in \u001b[0;36m_call\u001b[1;34m(self, *args, **kwds)\u001b[0m\n\u001b[0;32m    805\u001b[0m       \u001b[1;31m# In this case we have created variables on the first call, so we run the\u001b[0m\u001b[1;33m\u001b[0m\u001b[1;33m\u001b[0m\u001b[1;33m\u001b[0m\u001b[0m\n\u001b[0;32m    806\u001b[0m       \u001b[1;31m# defunned version which is guaranteed to never create variables.\u001b[0m\u001b[1;33m\u001b[0m\u001b[1;33m\u001b[0m\u001b[1;33m\u001b[0m\u001b[0m\n\u001b[1;32m--> 807\u001b[1;33m       \u001b[1;32mreturn\u001b[0m \u001b[0mself\u001b[0m\u001b[1;33m.\u001b[0m\u001b[0m_stateless_fn\u001b[0m\u001b[1;33m(\u001b[0m\u001b[1;33m*\u001b[0m\u001b[0margs\u001b[0m\u001b[1;33m,\u001b[0m \u001b[1;33m**\u001b[0m\u001b[0mkwds\u001b[0m\u001b[1;33m)\u001b[0m  \u001b[1;31m# pylint: disable=not-callable\u001b[0m\u001b[1;33m\u001b[0m\u001b[1;33m\u001b[0m\u001b[0m\n\u001b[0m\u001b[0;32m    808\u001b[0m     \u001b[1;32melif\u001b[0m \u001b[0mself\u001b[0m\u001b[1;33m.\u001b[0m\u001b[0m_stateful_fn\u001b[0m \u001b[1;32mis\u001b[0m \u001b[1;32mnot\u001b[0m \u001b[1;32mNone\u001b[0m\u001b[1;33m:\u001b[0m\u001b[1;33m\u001b[0m\u001b[1;33m\u001b[0m\u001b[0m\n\u001b[0;32m    809\u001b[0m       \u001b[1;31m# Release the lock early so that multiple threads can perform the call\u001b[0m\u001b[1;33m\u001b[0m\u001b[1;33m\u001b[0m\u001b[1;33m\u001b[0m\u001b[0m\n",
      "\u001b[1;32m~\\anaconda3\\envs\\learn-env\\lib\\site-packages\\tensorflow\\python\\eager\\function.py\u001b[0m in \u001b[0;36m__call__\u001b[1;34m(self, *args, **kwargs)\u001b[0m\n\u001b[0;32m   2827\u001b[0m     \u001b[1;32mwith\u001b[0m \u001b[0mself\u001b[0m\u001b[1;33m.\u001b[0m\u001b[0m_lock\u001b[0m\u001b[1;33m:\u001b[0m\u001b[1;33m\u001b[0m\u001b[1;33m\u001b[0m\u001b[0m\n\u001b[0;32m   2828\u001b[0m       \u001b[0mgraph_function\u001b[0m\u001b[1;33m,\u001b[0m \u001b[0margs\u001b[0m\u001b[1;33m,\u001b[0m \u001b[0mkwargs\u001b[0m \u001b[1;33m=\u001b[0m \u001b[0mself\u001b[0m\u001b[1;33m.\u001b[0m\u001b[0m_maybe_define_function\u001b[0m\u001b[1;33m(\u001b[0m\u001b[0margs\u001b[0m\u001b[1;33m,\u001b[0m \u001b[0mkwargs\u001b[0m\u001b[1;33m)\u001b[0m\u001b[1;33m\u001b[0m\u001b[1;33m\u001b[0m\u001b[0m\n\u001b[1;32m-> 2829\u001b[1;33m     \u001b[1;32mreturn\u001b[0m \u001b[0mgraph_function\u001b[0m\u001b[1;33m.\u001b[0m\u001b[0m_filtered_call\u001b[0m\u001b[1;33m(\u001b[0m\u001b[0margs\u001b[0m\u001b[1;33m,\u001b[0m \u001b[0mkwargs\u001b[0m\u001b[1;33m)\u001b[0m  \u001b[1;31m# pylint: disable=protected-access\u001b[0m\u001b[1;33m\u001b[0m\u001b[1;33m\u001b[0m\u001b[0m\n\u001b[0m\u001b[0;32m   2830\u001b[0m \u001b[1;33m\u001b[0m\u001b[0m\n\u001b[0;32m   2831\u001b[0m   \u001b[1;33m@\u001b[0m\u001b[0mproperty\u001b[0m\u001b[1;33m\u001b[0m\u001b[1;33m\u001b[0m\u001b[0m\n",
      "\u001b[1;32m~\\anaconda3\\envs\\learn-env\\lib\\site-packages\\tensorflow\\python\\eager\\function.py\u001b[0m in \u001b[0;36m_filtered_call\u001b[1;34m(self, args, kwargs, cancellation_manager)\u001b[0m\n\u001b[0;32m   1841\u001b[0m       \u001b[0;31m`\u001b[0m\u001b[0margs\u001b[0m\u001b[0;31m`\u001b[0m \u001b[1;32mand\u001b[0m\u001b[0;31m \u001b[0m\u001b[0;31m`\u001b[0m\u001b[0mkwargs\u001b[0m\u001b[0;31m`\u001b[0m\u001b[1;33m.\u001b[0m\u001b[1;33m\u001b[0m\u001b[1;33m\u001b[0m\u001b[0m\n\u001b[0;32m   1842\u001b[0m     \"\"\"\n\u001b[1;32m-> 1843\u001b[1;33m     return self._call_flat(\n\u001b[0m\u001b[0;32m   1844\u001b[0m         [t for t in nest.flatten((args, kwargs), expand_composites=True)\n\u001b[0;32m   1845\u001b[0m          if isinstance(t, (ops.Tensor,\n",
      "\u001b[1;32m~\\anaconda3\\envs\\learn-env\\lib\\site-packages\\tensorflow\\python\\eager\\function.py\u001b[0m in \u001b[0;36m_call_flat\u001b[1;34m(self, args, captured_inputs, cancellation_manager)\u001b[0m\n\u001b[0;32m   1921\u001b[0m         and executing_eagerly):\n\u001b[0;32m   1922\u001b[0m       \u001b[1;31m# No tape is watching; skip to running the function.\u001b[0m\u001b[1;33m\u001b[0m\u001b[1;33m\u001b[0m\u001b[1;33m\u001b[0m\u001b[0m\n\u001b[1;32m-> 1923\u001b[1;33m       return self._build_call_outputs(self._inference_function.call(\n\u001b[0m\u001b[0;32m   1924\u001b[0m           ctx, args, cancellation_manager=cancellation_manager))\n\u001b[0;32m   1925\u001b[0m     forward_backward = self._select_forward_and_backward_functions(\n",
      "\u001b[1;32m~\\anaconda3\\envs\\learn-env\\lib\\site-packages\\tensorflow\\python\\eager\\function.py\u001b[0m in \u001b[0;36mcall\u001b[1;34m(self, ctx, args, cancellation_manager)\u001b[0m\n\u001b[0;32m    543\u001b[0m       \u001b[1;32mwith\u001b[0m \u001b[0m_InterpolateFunctionError\u001b[0m\u001b[1;33m(\u001b[0m\u001b[0mself\u001b[0m\u001b[1;33m)\u001b[0m\u001b[1;33m:\u001b[0m\u001b[1;33m\u001b[0m\u001b[1;33m\u001b[0m\u001b[0m\n\u001b[0;32m    544\u001b[0m         \u001b[1;32mif\u001b[0m \u001b[0mcancellation_manager\u001b[0m \u001b[1;32mis\u001b[0m \u001b[1;32mNone\u001b[0m\u001b[1;33m:\u001b[0m\u001b[1;33m\u001b[0m\u001b[1;33m\u001b[0m\u001b[0m\n\u001b[1;32m--> 545\u001b[1;33m           outputs = execute.execute(\n\u001b[0m\u001b[0;32m    546\u001b[0m               \u001b[0mstr\u001b[0m\u001b[1;33m(\u001b[0m\u001b[0mself\u001b[0m\u001b[1;33m.\u001b[0m\u001b[0msignature\u001b[0m\u001b[1;33m.\u001b[0m\u001b[0mname\u001b[0m\u001b[1;33m)\u001b[0m\u001b[1;33m,\u001b[0m\u001b[1;33m\u001b[0m\u001b[1;33m\u001b[0m\u001b[0m\n\u001b[0;32m    547\u001b[0m               \u001b[0mnum_outputs\u001b[0m\u001b[1;33m=\u001b[0m\u001b[0mself\u001b[0m\u001b[1;33m.\u001b[0m\u001b[0m_num_outputs\u001b[0m\u001b[1;33m,\u001b[0m\u001b[1;33m\u001b[0m\u001b[1;33m\u001b[0m\u001b[0m\n",
      "\u001b[1;32m~\\anaconda3\\envs\\learn-env\\lib\\site-packages\\tensorflow\\python\\eager\\execute.py\u001b[0m in \u001b[0;36mquick_execute\u001b[1;34m(op_name, num_outputs, inputs, attrs, ctx, name)\u001b[0m\n\u001b[0;32m     57\u001b[0m   \u001b[1;32mtry\u001b[0m\u001b[1;33m:\u001b[0m\u001b[1;33m\u001b[0m\u001b[1;33m\u001b[0m\u001b[0m\n\u001b[0;32m     58\u001b[0m     \u001b[0mctx\u001b[0m\u001b[1;33m.\u001b[0m\u001b[0mensure_initialized\u001b[0m\u001b[1;33m(\u001b[0m\u001b[1;33m)\u001b[0m\u001b[1;33m\u001b[0m\u001b[1;33m\u001b[0m\u001b[0m\n\u001b[1;32m---> 59\u001b[1;33m     tensors = pywrap_tfe.TFE_Py_Execute(ctx._handle, device_name, op_name,\n\u001b[0m\u001b[0;32m     60\u001b[0m                                         inputs, attrs, num_outputs)\n\u001b[0;32m     61\u001b[0m   \u001b[1;32mexcept\u001b[0m \u001b[0mcore\u001b[0m\u001b[1;33m.\u001b[0m\u001b[0m_NotOkStatusException\u001b[0m \u001b[1;32mas\u001b[0m \u001b[0me\u001b[0m\u001b[1;33m:\u001b[0m\u001b[1;33m\u001b[0m\u001b[1;33m\u001b[0m\u001b[0m\n",
      "\u001b[1;31mKeyboardInterrupt\u001b[0m: "
     ]
    }
   ],
   "source": [
    "history = model.fit(ngram3_trainX,\n",
    "                    ngram3_trainy,\n",
    "                    epochs=100,\n",
    "                    batch_size=10,\n",
    "                    validation_data=(ngram3_testX, ngram3_testy))"
   ]
  },
  {
   "cell_type": "code",
   "execution_count": 51,
   "metadata": {},
   "outputs": [],
   "source": [
    "ngram3_trainX=ngram3_trainX.iloc[:, 1:-1 ]"
   ]
  },
  {
   "cell_type": "code",
   "execution_count": 278,
   "metadata": {},
   "outputs": [
    {
     "data": {
      "text/plain": [
       "(17729, 2301)"
      ]
     },
     "execution_count": 278,
     "metadata": {},
     "output_type": "execute_result"
    }
   ],
   "source": [
    "ngram3_trainX.shape"
   ]
  },
  {
   "cell_type": "code",
   "execution_count": 235,
   "metadata": {},
   "outputs": [],
   "source": [
    "ngram3_trainX=np.array(ngram3_trainX)"
   ]
  },
  {
   "cell_type": "code",
   "execution_count": 219,
   "metadata": {},
   "outputs": [
    {
     "data": {
      "text/plain": [
       "LabelEncoder()"
      ]
     },
     "execution_count": 219,
     "metadata": {},
     "output_type": "execute_result"
    }
   ],
   "source": [
    "from sklearn import preprocessing\n",
    "from keras.utils.np_utils import to_categorical\n",
    "le = preprocessing.LabelEncoder()\n",
    "le.fit(ngram3_trainy)\n",
    "\n",
    "le"
   ]
  },
  {
   "cell_type": "code",
   "execution_count": 220,
   "metadata": {},
   "outputs": [],
   "source": [
    "ngram3_trainy=le.transform(ngram3_trainy)"
   ]
  },
  {
   "cell_type": "code",
   "execution_count": 221,
   "metadata": {},
   "outputs": [],
   "source": [
    "ngram3_trainy=to_categorical(ngram3_trainy)"
   ]
  },
  {
   "cell_type": "code",
   "execution_count": 277,
   "metadata": {},
   "outputs": [
    {
     "data": {
      "text/plain": [
       "numpy.ndarray"
      ]
     },
     "execution_count": 277,
     "metadata": {},
     "output_type": "execute_result"
    }
   ],
   "source": [
    "type(np.array(ngram3_trainX))"
   ]
  },
  {
   "cell_type": "code",
   "execution_count": 71,
   "metadata": {},
   "outputs": [],
   "source": [
    "# ngram3_trainy=np.asarray(ngram3_trainy)"
   ]
  },
  {
   "cell_type": "code",
   "execution_count": 225,
   "metadata": {},
   "outputs": [
    {
     "data": {
      "text/plain": [
       "array([0., 1.], dtype=float32)"
      ]
     },
     "execution_count": 225,
     "metadata": {},
     "output_type": "execute_result"
    }
   ],
   "source": [
    "np.unique(ngram3_trainy)"
   ]
  },
  {
   "cell_type": "code",
   "execution_count": 279,
   "metadata": {},
   "outputs": [
    {
     "data": {
      "text/plain": [
       "(17729, 20)"
      ]
     },
     "execution_count": 279,
     "metadata": {},
     "output_type": "execute_result"
    }
   ],
   "source": [
    "ngram3_trainy.shape"
   ]
  },
  {
   "cell_type": "markdown",
   "metadata": {},
   "source": [
    "# test set"
   ]
  },
  {
   "cell_type": "code",
   "execution_count": 244,
   "metadata": {},
   "outputs": [],
   "source": [
    "ngram3_testX=np.array(ngram3_testX)"
   ]
  },
  {
   "cell_type": "code",
   "execution_count": 245,
   "metadata": {},
   "outputs": [],
   "source": [
    "le = preprocessing.LabelEncoder()\n",
    "le.fit(ngram3_testy)\n",
    "\n",
    "ngram3_testy=le.transform(ngram3_testy)"
   ]
  },
  {
   "cell_type": "code",
   "execution_count": 246,
   "metadata": {},
   "outputs": [],
   "source": [
    "ngram3_testy=to_categorical(ngram3_testy)"
   ]
  },
  {
   "cell_type": "code",
   "execution_count": 238,
   "metadata": {},
   "outputs": [],
   "source": [
    "def makelosstraining(modelob):\n",
    "    if 'accuracy' in modelob.history.keys():\n",
    "        training_loss = modelob.history['loss']\n",
    "        test_loss = modelob.history['val_loss']\n",
    "\n",
    "        training_acc = modelob.history['accuracy']\n",
    "        test_acc = modelob.history['val_accuracy']\n",
    "\n",
    "        # Create count of the number of epochs\n",
    "        epoch_count = range(1, len(training_loss) + 1)\n",
    "\n",
    "        fig, (ax1, ax2) = plt.subplots(1, 2, figsize=(20, 10))\n",
    "\n",
    "        # Visualize loss history\n",
    "        ax1.plot(epoch_count, training_loss, 'r--')\n",
    "        ax1.plot(epoch_count, test_loss, 'b-')\n",
    "        ax1.legend(['Training Loss', 'Test Loss'])\n",
    "\n",
    "        # Visualize accuracy  history\n",
    "        ax2.plot(epoch_count, training_acc, 'r--')\n",
    "        ax2.plot(epoch_count, test_acc, 'b-')\n",
    "        ax2.legend(['Training Accuracy', 'Test Accuracy'])\n",
    "\n",
    "        fig.show();\n",
    "    else:\n",
    "        training_loss = modelob.history['loss']\n",
    "        test_loss = modelob.history['val_loss']\n",
    "\n",
    "        training_acc = modelob.history['acc']\n",
    "        test_acc = modelob.history['val_acc']\n",
    "\n",
    "        # Create count of the number of epochs\n",
    "        epoch_count = range(1, len(training_loss) + 1)\n",
    "\n",
    "        fig, (ax1, ax2) = plt.subplots(1, 2, figsize=(20, 10))\n",
    "\n",
    "        # Visualize loss history\n",
    "        ax1.plot(epoch_count, training_loss, 'r--')\n",
    "        ax1.plot(epoch_count, test_loss, 'b-')\n",
    "        ax1.legend(['Training Loss', 'Test Loss'])\n",
    "\n",
    "        # Visualize accuracy  history\n",
    "        ax2.plot(epoch_count, training_acc, 'r--')\n",
    "        ax2.plot(epoch_count, test_acc, 'b-')\n",
    "        ax2.legend(['Training Accuracy', 'Test Accuracy'])\n",
    "\n",
    "        fig.show();"
   ]
  },
  {
   "cell_type": "markdown",
   "metadata": {},
   "source": [
    "# lstm"
   ]
  },
  {
   "cell_type": "code",
   "execution_count": 261,
   "metadata": {},
   "outputs": [],
   "source": [
    "model2 = models.Sequential()\n",
    "\n",
    "model2.add(layers.Embedding(input_dim=2301, output_dim=64))\n",
    "model2.add(layers.LSTM(units=10,activation='tanh'))\n",
    "model2.add(layers.Dropout(0.3))\n",
    "model2.add(layers.Dense(100, activation='softmax'))\n",
    "model2.add(layers.Dense(100, activation='softmax'))\n",
    "model2.add(layers.Dense(1000, activation='softmax'))\n",
    "model2.add(layers.Dropout(0.3))\n",
    "model2.add(layers.Dense(100, activation='softmax'))\n",
    "\n",
    "model2.add(layers.Dense(20, activation='softmax'))"
   ]
  },
  {
   "cell_type": "code",
   "execution_count": 284,
   "metadata": {},
   "outputs": [],
   "source": [
    "model2.compile(optimizer='adam',\n",
    "              loss='categorical_crossentropy',\n",
    "              metrics=['accuracy'])"
   ]
  },
  {
   "cell_type": "code",
   "execution_count": 289,
   "metadata": {},
   "outputs": [
    {
     "ename": "RuntimeError",
     "evalue": "Data adapters should be mutually exclusive for handling inputs. Found multiple adapters [<class 'tensorflow.python.keras.engine.data_adapter.TensorLikeDataAdapter'>, <class 'tensorflow.python.keras.engine.data_adapter.GeneratorDataAdapter'>] to handle input: <class 'pandas.core.frame.DataFrame'>, <class 'pandas.core.series.Series'>",
     "output_type": "error",
     "traceback": [
      "\u001b[1;31m---------------------------------------------------------------------------\u001b[0m",
      "\u001b[1;31mRuntimeError\u001b[0m                              Traceback (most recent call last)",
      "\u001b[1;32m<ipython-input-289-c479cc6b6a6d>\u001b[0m in \u001b[0;36m<module>\u001b[1;34m\u001b[0m\n\u001b[1;32m----> 1\u001b[1;33m history2 = model2.fit(ngram3_trainX,\n\u001b[0m\u001b[0;32m      2\u001b[0m                     \u001b[0mngram3_trainy\u001b[0m\u001b[1;33m,\u001b[0m\u001b[1;33m\u001b[0m\u001b[1;33m\u001b[0m\u001b[0m\n\u001b[0;32m      3\u001b[0m                     \u001b[0mepochs\u001b[0m\u001b[1;33m=\u001b[0m\u001b[1;36m100\u001b[0m\u001b[1;33m,\u001b[0m\u001b[1;33m\u001b[0m\u001b[1;33m\u001b[0m\u001b[0m\n\u001b[0;32m      4\u001b[0m                     \u001b[0mbatch_size\u001b[0m\u001b[1;33m=\u001b[0m\u001b[1;36m300\u001b[0m\u001b[1;33m,\u001b[0m\u001b[1;33m\u001b[0m\u001b[1;33m\u001b[0m\u001b[0m\n\u001b[0;32m      5\u001b[0m                     validation_data=(ngram3_testX, ngram3_testy))\n",
      "\u001b[1;32m~\\anaconda3\\envs\\learn-env\\lib\\site-packages\\tensorflow\\python\\keras\\engine\\training.py\u001b[0m in \u001b[0;36m_method_wrapper\u001b[1;34m(self, *args, **kwargs)\u001b[0m\n\u001b[0;32m    106\u001b[0m   \u001b[1;32mdef\u001b[0m \u001b[0m_method_wrapper\u001b[0m\u001b[1;33m(\u001b[0m\u001b[0mself\u001b[0m\u001b[1;33m,\u001b[0m \u001b[1;33m*\u001b[0m\u001b[0margs\u001b[0m\u001b[1;33m,\u001b[0m \u001b[1;33m**\u001b[0m\u001b[0mkwargs\u001b[0m\u001b[1;33m)\u001b[0m\u001b[1;33m:\u001b[0m\u001b[1;33m\u001b[0m\u001b[1;33m\u001b[0m\u001b[0m\n\u001b[0;32m    107\u001b[0m     \u001b[1;32mif\u001b[0m \u001b[1;32mnot\u001b[0m \u001b[0mself\u001b[0m\u001b[1;33m.\u001b[0m\u001b[0m_in_multi_worker_mode\u001b[0m\u001b[1;33m(\u001b[0m\u001b[1;33m)\u001b[0m\u001b[1;33m:\u001b[0m  \u001b[1;31m# pylint: disable=protected-access\u001b[0m\u001b[1;33m\u001b[0m\u001b[1;33m\u001b[0m\u001b[0m\n\u001b[1;32m--> 108\u001b[1;33m       \u001b[1;32mreturn\u001b[0m \u001b[0mmethod\u001b[0m\u001b[1;33m(\u001b[0m\u001b[0mself\u001b[0m\u001b[1;33m,\u001b[0m \u001b[1;33m*\u001b[0m\u001b[0margs\u001b[0m\u001b[1;33m,\u001b[0m \u001b[1;33m**\u001b[0m\u001b[0mkwargs\u001b[0m\u001b[1;33m)\u001b[0m\u001b[1;33m\u001b[0m\u001b[1;33m\u001b[0m\u001b[0m\n\u001b[0m\u001b[0;32m    109\u001b[0m \u001b[1;33m\u001b[0m\u001b[0m\n\u001b[0;32m    110\u001b[0m     \u001b[1;31m# Running inside `run_distribute_coordinator` already.\u001b[0m\u001b[1;33m\u001b[0m\u001b[1;33m\u001b[0m\u001b[1;33m\u001b[0m\u001b[0m\n",
      "\u001b[1;32m~\\anaconda3\\envs\\learn-env\\lib\\site-packages\\tensorflow\\python\\keras\\engine\\training.py\u001b[0m in \u001b[0;36mfit\u001b[1;34m(self, x, y, batch_size, epochs, verbose, callbacks, validation_split, validation_data, shuffle, class_weight, sample_weight, initial_epoch, steps_per_epoch, validation_steps, validation_batch_size, validation_freq, max_queue_size, workers, use_multiprocessing)\u001b[0m\n\u001b[0;32m   1047\u001b[0m          \u001b[0mtraining_utils\u001b[0m\u001b[1;33m.\u001b[0m\u001b[0mRespectCompiledTrainableState\u001b[0m\u001b[1;33m(\u001b[0m\u001b[0mself\u001b[0m\u001b[1;33m)\u001b[0m\u001b[1;33m:\u001b[0m\u001b[1;33m\u001b[0m\u001b[1;33m\u001b[0m\u001b[0m\n\u001b[0;32m   1048\u001b[0m       \u001b[1;31m# Creates a `tf.data.Dataset` and handles batch and epoch iteration.\u001b[0m\u001b[1;33m\u001b[0m\u001b[1;33m\u001b[0m\u001b[1;33m\u001b[0m\u001b[0m\n\u001b[1;32m-> 1049\u001b[1;33m       data_handler = data_adapter.DataHandler(\n\u001b[0m\u001b[0;32m   1050\u001b[0m           \u001b[0mx\u001b[0m\u001b[1;33m=\u001b[0m\u001b[0mx\u001b[0m\u001b[1;33m,\u001b[0m\u001b[1;33m\u001b[0m\u001b[1;33m\u001b[0m\u001b[0m\n\u001b[0;32m   1051\u001b[0m           \u001b[0my\u001b[0m\u001b[1;33m=\u001b[0m\u001b[0my\u001b[0m\u001b[1;33m,\u001b[0m\u001b[1;33m\u001b[0m\u001b[1;33m\u001b[0m\u001b[0m\n",
      "\u001b[1;32m~\\anaconda3\\envs\\learn-env\\lib\\site-packages\\tensorflow\\python\\keras\\engine\\data_adapter.py\u001b[0m in \u001b[0;36m__init__\u001b[1;34m(self, x, y, sample_weight, batch_size, steps_per_epoch, initial_epoch, epochs, shuffle, class_weight, max_queue_size, workers, use_multiprocessing, model, steps_per_execution)\u001b[0m\n\u001b[0;32m   1102\u001b[0m       \u001b[0mself\u001b[0m\u001b[1;33m.\u001b[0m\u001b[0m_steps_per_execution_value\u001b[0m \u001b[1;33m=\u001b[0m \u001b[0msteps_per_execution\u001b[0m\u001b[1;33m.\u001b[0m\u001b[0mnumpy\u001b[0m\u001b[1;33m(\u001b[0m\u001b[1;33m)\u001b[0m\u001b[1;33m.\u001b[0m\u001b[0mitem\u001b[0m\u001b[1;33m(\u001b[0m\u001b[1;33m)\u001b[0m\u001b[1;33m\u001b[0m\u001b[1;33m\u001b[0m\u001b[0m\n\u001b[0;32m   1103\u001b[0m \u001b[1;33m\u001b[0m\u001b[0m\n\u001b[1;32m-> 1104\u001b[1;33m     \u001b[0madapter_cls\u001b[0m \u001b[1;33m=\u001b[0m \u001b[0mselect_data_adapter\u001b[0m\u001b[1;33m(\u001b[0m\u001b[0mx\u001b[0m\u001b[1;33m,\u001b[0m \u001b[0my\u001b[0m\u001b[1;33m)\u001b[0m\u001b[1;33m\u001b[0m\u001b[1;33m\u001b[0m\u001b[0m\n\u001b[0m\u001b[0;32m   1105\u001b[0m     self._adapter = adapter_cls(\n\u001b[0;32m   1106\u001b[0m         \u001b[0mx\u001b[0m\u001b[1;33m,\u001b[0m\u001b[1;33m\u001b[0m\u001b[1;33m\u001b[0m\u001b[0m\n",
      "\u001b[1;32m~\\anaconda3\\envs\\learn-env\\lib\\site-packages\\tensorflow\\python\\keras\\engine\\data_adapter.py\u001b[0m in \u001b[0;36mselect_data_adapter\u001b[1;34m(x, y)\u001b[0m\n\u001b[0;32m    971\u001b[0m             _type_name(x), _type_name(y)))\n\u001b[0;32m    972\u001b[0m   \u001b[1;32melif\u001b[0m \u001b[0mlen\u001b[0m\u001b[1;33m(\u001b[0m\u001b[0madapter_cls\u001b[0m\u001b[1;33m)\u001b[0m \u001b[1;33m>\u001b[0m \u001b[1;36m1\u001b[0m\u001b[1;33m:\u001b[0m\u001b[1;33m\u001b[0m\u001b[1;33m\u001b[0m\u001b[0m\n\u001b[1;32m--> 973\u001b[1;33m     raise RuntimeError(\n\u001b[0m\u001b[0;32m    974\u001b[0m         \u001b[1;34m\"Data adapters should be mutually exclusive for \"\u001b[0m\u001b[1;33m\u001b[0m\u001b[1;33m\u001b[0m\u001b[0m\n\u001b[0;32m    975\u001b[0m         \u001b[1;34m\"handling inputs. Found multiple adapters {} to handle \"\u001b[0m\u001b[1;33m\u001b[0m\u001b[1;33m\u001b[0m\u001b[0m\n",
      "\u001b[1;31mRuntimeError\u001b[0m: Data adapters should be mutually exclusive for handling inputs. Found multiple adapters [<class 'tensorflow.python.keras.engine.data_adapter.TensorLikeDataAdapter'>, <class 'tensorflow.python.keras.engine.data_adapter.GeneratorDataAdapter'>] to handle input: <class 'pandas.core.frame.DataFrame'>, <class 'pandas.core.series.Series'>"
     ]
    }
   ],
   "source": [
    "history2 = model2.fit(ngram3_trainX,\n",
    "                    ngram3_trainy,\n",
    "                    epochs=100,\n",
    "                    batch_size=300,\n",
    "                    validation_data=(ngram3_testX, ngram3_testy))"
   ]
  },
  {
   "cell_type": "markdown",
   "metadata": {},
   "source": [
    "# break it "
   ]
  },
  {
   "cell_type": "code",
   "execution_count": 280,
   "metadata": {},
   "outputs": [],
   "source": [
    "def batch_generator(X_data, y_data, batch_size):\n",
    "    samples_per_epoch = X_data.shape[0]\n",
    "    number_of_batches = samples_per_epoch/batch_size\n",
    "    counter=0\n",
    "    index = np.arange(np.shape(y_data)[0])\n",
    "    while 1:\n",
    "        index_batch = index[batch_size*counter:batch_size*(counter+1)]\n",
    "        X_batch = X_data[index_batch,:].toarray()\n",
    "        y_batch = y_data[y_data.index[index_batch]]\n",
    "        counter += 1\n",
    "        yield X_batch,y_batch\n",
    "        if (counter > number_of_batches):\n",
    "            counter=0"
   ]
  },
  {
   "cell_type": "code",
   "execution_count": null,
   "metadata": {},
   "outputs": [],
   "source": []
  }
 ],
 "metadata": {
  "kernelspec": {
   "display_name": "Python 3",
   "language": "python",
   "name": "python3"
  },
  "language_info": {
   "codemirror_mode": {
    "name": "ipython",
    "version": 3
   },
   "file_extension": ".py",
   "mimetype": "text/x-python",
   "name": "python",
   "nbconvert_exporter": "python",
   "pygments_lexer": "ipython3",
   "version": "3.8.5"
  },
  "toc": {
   "base_numbering": 1,
   "nav_menu": {},
   "number_sections": true,
   "sideBar": true,
   "skip_h1_title": false,
   "title_cell": "Table of Contents",
   "title_sidebar": "Contents",
   "toc_cell": false,
   "toc_position": {},
   "toc_section_display": true,
   "toc_window_display": false
  },
  "varInspector": {
   "cols": {
    "lenName": 16,
    "lenType": 16,
    "lenVar": 40
   },
   "kernels_config": {
    "python": {
     "delete_cmd_postfix": "",
     "delete_cmd_prefix": "del ",
     "library": "var_list.py",
     "varRefreshCmd": "print(var_dic_list())"
    },
    "r": {
     "delete_cmd_postfix": ") ",
     "delete_cmd_prefix": "rm(",
     "library": "var_list.r",
     "varRefreshCmd": "cat(var_dic_list()) "
    }
   },
   "types_to_exclude": [
    "module",
    "function",
    "builtin_function_or_method",
    "instance",
    "_Feature"
   ],
   "window_display": false
  }
 },
 "nbformat": 4,
 "nbformat_minor": 4
}
